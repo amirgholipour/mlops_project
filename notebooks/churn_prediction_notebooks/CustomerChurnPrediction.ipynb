{
 "cells": [
  {
   "cell_type": "markdown",
   "id": "97e6c974-a2c2-4560-a8b1-8f6aff83796e",
   "metadata": {},
   "source": [
    "# Import Libreies\n"
   ]
  },
  {
   "cell_type": "code",
   "execution_count": 36,
   "id": "923ea0b0-bb7f-40ac-a5a3-cb61eb23a6f2",
   "metadata": {},
   "outputs": [
    {
     "name": "stdout",
     "output_type": "stream",
     "text": [
      "Requirement already satisfied: mlflow in /opt/app-root/lib/python3.9/site-packages (1.20.2)\n",
      "Requirement already satisfied: category_encoders in /opt/app-root/lib/python3.9/site-packages (2.2.2)\n",
      "Requirement already satisfied: ipynbname in /opt/app-root/lib/python3.9/site-packages (2021.3.2)\n",
      "Requirement already satisfied: openshift in /opt/app-root/lib/python3.9/site-packages (0.11.0)\n",
      "Requirement already satisfied: minio in /opt/app-root/lib/python3.9/site-packages (6.0.2)\n",
      "Requirement already satisfied: Flask in /opt/app-root/lib/python3.9/site-packages (from mlflow) (2.0.1)\n",
      "Requirement already satisfied: importlib-metadata!=4.7.0,>=3.7.0 in /opt/app-root/lib/python3.9/site-packages (from mlflow) (4.6.0)\n",
      "Requirement already satisfied: numpy in /opt/app-root/lib/python3.9/site-packages (from mlflow) (1.21.0)\n",
      "Requirement already satisfied: pytz in /opt/app-root/lib/python3.9/site-packages (from mlflow) (2021.1)\n",
      "Requirement already satisfied: databricks-cli>=0.8.7 in /opt/app-root/lib/python3.9/site-packages (from mlflow) (0.15.0)\n",
      "Requirement already satisfied: packaging in /opt/app-root/lib/python3.9/site-packages (from mlflow) (20.9)\n",
      "Requirement already satisfied: click>=7.0 in /opt/app-root/lib/python3.9/site-packages (from mlflow) (7.1.2)\n",
      "Requirement already satisfied: docker>=4.0.0 in /opt/app-root/lib/python3.9/site-packages (from mlflow) (5.0.2)\n",
      "Requirement already satisfied: querystring-parser in /opt/app-root/lib/python3.9/site-packages (from mlflow) (1.2.4)\n",
      "Requirement already satisfied: pyyaml>=5.1 in /opt/app-root/lib/python3.9/site-packages (from mlflow) (5.4.1)\n",
      "Requirement already satisfied: prometheus-flask-exporter in /opt/app-root/lib/python3.9/site-packages (from mlflow) (0.18.2)\n",
      "Requirement already satisfied: requests>=2.17.3 in /opt/app-root/lib/python3.9/site-packages (from mlflow) (2.25.1)\n",
      "Requirement already satisfied: sqlalchemy in /opt/app-root/lib/python3.9/site-packages (from mlflow) (1.4.19)\n",
      "Requirement already satisfied: gunicorn; platform_system != \"Windows\" in /opt/app-root/lib/python3.9/site-packages (from mlflow) (20.1.0)\n",
      "Requirement already satisfied: entrypoints in /opt/app-root/lib/python3.9/site-packages (from mlflow) (0.3)\n",
      "Requirement already satisfied: gitpython>=2.1.0 in /opt/app-root/lib/python3.9/site-packages (from mlflow) (3.1.18)\n",
      "Requirement already satisfied: alembic<=1.4.1 in /opt/app-root/lib/python3.9/site-packages (from mlflow) (1.4.1)\n",
      "Requirement already satisfied: sqlparse>=0.3.1 in /opt/app-root/lib/python3.9/site-packages (from mlflow) (0.4.2)\n",
      "Requirement already satisfied: protobuf>=3.7.0 in /opt/app-root/lib/python3.9/site-packages (from mlflow) (3.17.3)\n",
      "Requirement already satisfied: pandas in /opt/app-root/lib/python3.9/site-packages (from mlflow) (1.2.5)\n",
      "Requirement already satisfied: cloudpickle in /opt/app-root/lib/python3.9/site-packages (from mlflow) (1.6.0)\n",
      "Requirement already satisfied: scikit-learn>=0.20.0 in /opt/app-root/lib/python3.9/site-packages (from category_encoders) (0.24.2)\n",
      "Requirement already satisfied: scipy>=1.0.0 in /opt/app-root/lib/python3.9/site-packages (from category_encoders) (1.7.0)\n",
      "Requirement already satisfied: patsy>=0.5.1 in /opt/app-root/lib/python3.9/site-packages (from category_encoders) (0.5.1)\n",
      "Requirement already satisfied: statsmodels>=0.9.0 in /opt/app-root/lib/python3.9/site-packages (from category_encoders) (0.12.2)\n",
      "Requirement already satisfied: ipykernel in /opt/app-root/lib/python3.9/site-packages (from ipynbname) (5.5.5)\n",
      "Requirement already satisfied: jinja2 in /opt/app-root/lib/python3.9/site-packages (from openshift) (2.11.3)\n",
      "Requirement already satisfied: kubernetes~=11.0 in /opt/app-root/lib/python3.9/site-packages (from openshift) (11.0.0)\n",
      "Requirement already satisfied: python-string-utils in /opt/app-root/lib/python3.9/site-packages (from openshift) (1.0.0)\n",
      "Requirement already satisfied: dictdiffer in /opt/app-root/lib/python3.9/site-packages (from openshift) (0.9.0)\n",
      "Requirement already satisfied: six in /opt/app-root/lib/python3.9/site-packages (from openshift) (1.16.0)\n",
      "Requirement already satisfied: ruamel.yaml>=0.15 in /opt/app-root/lib/python3.9/site-packages (from openshift) (0.17.16)\n",
      "Requirement already satisfied: urllib3 in /opt/app-root/lib/python3.9/site-packages (from minio) (1.26.6)\n",
      "Requirement already satisfied: certifi in /opt/app-root/lib/python3.9/site-packages (from minio) (2021.5.30)\n",
      "Requirement already satisfied: configparser in /opt/app-root/lib/python3.9/site-packages (from minio) (5.0.2)\n",
      "Requirement already satisfied: python-dateutil in /opt/app-root/lib/python3.9/site-packages (from minio) (2.8.1)\n",
      "Requirement already satisfied: itsdangerous>=2.0 in /opt/app-root/lib/python3.9/site-packages (from Flask->mlflow) (2.0.1)\n",
      "Requirement already satisfied: Werkzeug>=2.0 in /opt/app-root/lib/python3.9/site-packages (from Flask->mlflow) (2.0.1)\n",
      "Requirement already satisfied: zipp>=0.5 in /opt/app-root/lib/python3.9/site-packages (from importlib-metadata!=4.7.0,>=3.7.0->mlflow) (3.4.1)\n",
      "Requirement already satisfied: tabulate>=0.7.7 in /opt/app-root/lib/python3.9/site-packages (from databricks-cli>=0.8.7->mlflow) (0.8.9)\n",
      "Requirement already satisfied: pyparsing>=2.0.2 in /opt/app-root/lib/python3.9/site-packages (from packaging->mlflow) (2.4.7)\n",
      "Requirement already satisfied: websocket-client>=0.32.0 in /opt/app-root/lib/python3.9/site-packages (from docker>=4.0.0->mlflow) (1.1.0)\n",
      "Requirement already satisfied: prometheus-client in /opt/app-root/lib/python3.9/site-packages (from prometheus-flask-exporter->mlflow) (0.11.0)\n",
      "Requirement already satisfied: idna<3,>=2.5 in /opt/app-root/lib/python3.9/site-packages (from requests>=2.17.3->mlflow) (2.10)\n",
      "Requirement already satisfied: chardet<5,>=3.0.2 in /opt/app-root/lib/python3.9/site-packages (from requests>=2.17.3->mlflow) (4.0.0)\n",
      "Requirement already satisfied: greenlet!=0.4.17; python_version >= \"3\" in /opt/app-root/lib/python3.9/site-packages (from sqlalchemy->mlflow) (1.1.0)\n",
      "Requirement already satisfied: setuptools>=3.0 in /opt/app-root/lib/python3.9/site-packages (from gunicorn; platform_system != \"Windows\"->mlflow) (58.0.4)\n",
      "Requirement already satisfied: gitdb<5,>=4.0.1 in /opt/app-root/lib/python3.9/site-packages (from gitpython>=2.1.0->mlflow) (4.0.7)\n",
      "Requirement already satisfied: Mako in /opt/app-root/lib/python3.9/site-packages (from alembic<=1.4.1->mlflow) (1.1.5)\n",
      "Requirement already satisfied: python-editor>=0.3 in /opt/app-root/lib/python3.9/site-packages (from alembic<=1.4.1->mlflow) (1.0.4)\n",
      "Requirement already satisfied: joblib>=0.11 in /opt/app-root/lib/python3.9/site-packages (from scikit-learn>=0.20.0->category_encoders) (1.0.1)\n",
      "Requirement already satisfied: threadpoolctl>=2.0.0 in /opt/app-root/lib/python3.9/site-packages (from scikit-learn>=0.20.0->category_encoders) (2.1.0)\n",
      "Requirement already satisfied: jupyter-client in /opt/app-root/lib/python3.9/site-packages (from ipykernel->ipynbname) (6.1.12)\n",
      "Requirement already satisfied: traitlets>=4.1.0 in /opt/app-root/lib/python3.9/site-packages (from ipykernel->ipynbname) (5.0.5)\n",
      "Requirement already satisfied: tornado>=4.2 in /opt/app-root/lib/python3.9/site-packages (from ipykernel->ipynbname) (6.1)\n",
      "Requirement already satisfied: ipython>=5.0.0 in /opt/app-root/lib/python3.9/site-packages (from ipykernel->ipynbname) (7.25.0)\n",
      "Requirement already satisfied: MarkupSafe>=0.23 in /opt/app-root/lib/python3.9/site-packages (from jinja2->openshift) (2.0.1)\n",
      "Requirement already satisfied: google-auth>=1.0.1 in /opt/app-root/lib/python3.9/site-packages (from kubernetes~=11.0->openshift) (1.32.0)\n",
      "Requirement already satisfied: requests-oauthlib in /opt/app-root/lib/python3.9/site-packages (from kubernetes~=11.0->openshift) (1.3.0)\n",
      "Requirement already satisfied: ruamel.yaml.clib>=0.1.2; platform_python_implementation == \"CPython\" and python_version < \"3.10\" in /opt/app-root/lib/python3.9/site-packages (from ruamel.yaml>=0.15->openshift) (0.2.6)\n",
      "Requirement already satisfied: smmap<5,>=3.0.1 in /opt/app-root/lib/python3.9/site-packages (from gitdb<5,>=4.0.1->gitpython>=2.1.0->mlflow) (4.0.0)\n",
      "Requirement already satisfied: pyzmq>=13 in /opt/app-root/lib/python3.9/site-packages (from jupyter-client->ipykernel->ipynbname) (22.1.0)\n",
      "Requirement already satisfied: jupyter-core>=4.6.0 in /opt/app-root/lib/python3.9/site-packages (from jupyter-client->ipykernel->ipynbname) (4.7.1)\n",
      "Requirement already satisfied: ipython-genutils in /opt/app-root/lib/python3.9/site-packages (from traitlets>=4.1.0->ipykernel->ipynbname) (0.2.0)\n",
      "Requirement already satisfied: pickleshare in /opt/app-root/lib/python3.9/site-packages (from ipython>=5.0.0->ipykernel->ipynbname) (0.7.5)\n",
      "Requirement already satisfied: pexpect>4.3; sys_platform != \"win32\" in /opt/app-root/lib/python3.9/site-packages (from ipython>=5.0.0->ipykernel->ipynbname) (4.8.0)\n",
      "Requirement already satisfied: decorator in /opt/app-root/lib/python3.9/site-packages (from ipython>=5.0.0->ipykernel->ipynbname) (4.4.2)\n",
      "Requirement already satisfied: backcall in /opt/app-root/lib/python3.9/site-packages (from ipython>=5.0.0->ipykernel->ipynbname) (0.2.0)\n",
      "Requirement already satisfied: prompt-toolkit!=3.0.0,!=3.0.1,<3.1.0,>=2.0.0 in /opt/app-root/lib/python3.9/site-packages (from ipython>=5.0.0->ipykernel->ipynbname) (3.0.19)\n",
      "Requirement already satisfied: jedi>=0.16 in /opt/app-root/lib/python3.9/site-packages (from ipython>=5.0.0->ipykernel->ipynbname) (0.17.2)\n",
      "Requirement already satisfied: pygments in /opt/app-root/lib/python3.9/site-packages (from ipython>=5.0.0->ipykernel->ipynbname) (2.9.0)\n",
      "Requirement already satisfied: matplotlib-inline in /opt/app-root/lib/python3.9/site-packages (from ipython>=5.0.0->ipykernel->ipynbname) (0.1.2)\n",
      "Requirement already satisfied: rsa<5,>=3.1.4; python_version >= \"3.6\" in /opt/app-root/lib/python3.9/site-packages (from google-auth>=1.0.1->kubernetes~=11.0->openshift) (4.7.2)\n",
      "Requirement already satisfied: pyasn1-modules>=0.2.1 in /opt/app-root/lib/python3.9/site-packages (from google-auth>=1.0.1->kubernetes~=11.0->openshift) (0.2.8)\n",
      "Requirement already satisfied: cachetools<5.0,>=2.0.0 in /opt/app-root/lib/python3.9/site-packages (from google-auth>=1.0.1->kubernetes~=11.0->openshift) (4.2.2)\n",
      "Requirement already satisfied: oauthlib>=3.0.0 in /opt/app-root/lib/python3.9/site-packages (from requests-oauthlib->kubernetes~=11.0->openshift) (3.1.1)\n",
      "Requirement already satisfied: ptyprocess>=0.5 in /opt/app-root/lib/python3.9/site-packages (from pexpect>4.3; sys_platform != \"win32\"->ipython>=5.0.0->ipykernel->ipynbname) (0.7.0)\n",
      "Requirement already satisfied: wcwidth in /opt/app-root/lib/python3.9/site-packages (from prompt-toolkit!=3.0.0,!=3.0.1,<3.1.0,>=2.0.0->ipython>=5.0.0->ipykernel->ipynbname) (0.2.5)\n",
      "Requirement already satisfied: parso<0.8.0,>=0.7.0 in /opt/app-root/lib/python3.9/site-packages (from jedi>=0.16->ipython>=5.0.0->ipykernel->ipynbname) (0.7.1)\n",
      "Requirement already satisfied: pyasn1>=0.1.3 in /opt/app-root/lib/python3.9/site-packages (from rsa<5,>=3.1.4; python_version >= \"3.6\"->google-auth>=1.0.1->kubernetes~=11.0->openshift) (0.4.8)\n",
      "\u001b[33mWARNING: You are using pip version 20.2.4; however, version 21.2.4 is available.\n",
      "You should consider upgrading via the '/opt/app-root/bin/python3.9 -m pip install --upgrade pip' command.\u001b[0m\n"
     ]
    }
   ],
   "source": [
    "!pip install mlflow category_encoders ipynbname openshift minio"
   ]
  },
  {
   "cell_type": "code",
   "execution_count": 80,
   "id": "b8d448fd-fcc9-45f4-a7ba-70cfb15e52e5",
   "metadata": {},
   "outputs": [],
   "source": [
    "import os\n",
    "import pandas as pd\n",
    "import numpy as np\n",
    "import category_encoders as ce\n",
    "import joblib\n",
    "from sklearn.model_selection import train_test_split\n",
    "import mlflow\n",
    "\n",
    "import subprocess\n",
    "import ipynbname\n",
    "\n",
    "from sklearn.model_selection import GridSearchCV\n",
    "from sklearn.tree import DecisionTreeClassifier\n",
    "from sklearn import preprocessing\n",
    "import io\n",
    "\n",
    "\n"
   ]
  },
  {
   "cell_type": "markdown",
   "id": "305a8d1e-208b-4cd4-8469-9193892dfc2c",
   "metadata": {},
   "source": [
    "# Define the mlflow environments "
   ]
  },
  {
   "cell_type": "code",
   "execution_count": 81,
   "id": "f49d3a41-5637-420c-8067-e0c7562e6be8",
   "metadata": {},
   "outputs": [],
   "source": [
    "HOST = \"http://mlflow:5500\"\n",
    "\n",
    "PROJECT_NAME = \"CustomerChurn\"\n",
    "EXPERIMENT_NAME = \"DecisionTreeClassifierv7\"\n",
    "\n",
    "os.environ['MLFLOW_S3_ENDPOINT_URL']='http://minio-ml-workshop:9000'\n",
    "os.environ['AWS_ACCESS_KEY_ID']='minio'\n",
    "os.environ['AWS_SECRET_ACCESS_KEY']='minio123'\n",
    "os.environ['AWS_REGION']='us-east-1'\n",
    "os.environ['AWS_BUCKET_NAME']='mlflow'"
   ]
  },
  {
   "cell_type": "markdown",
   "id": "48062713-9d4f-4903-b7fd-3fcbe89c5099",
   "metadata": {},
   "source": [
    "# Read Data"
   ]
  },
  {
   "cell_type": "code",
   "execution_count": 82,
   "id": "0691d1e6-654c-42e8-9a85-5d09e4547a21",
   "metadata": {},
   "outputs": [],
   "source": [
    "data = pd.read_csv('../../data/raw/data.csv')\n"
   ]
  },
  {
   "cell_type": "markdown",
   "id": "ebee076b-cbea-48ac-8218-e0e56f730582",
   "metadata": {},
   "source": [
    "## Check for missing value"
   ]
  },
  {
   "cell_type": "code",
   "execution_count": 83,
   "id": "7f48d8b1-6838-4eac-bcea-02243c5be349",
   "metadata": {
    "tags": []
   },
   "outputs": [],
   "source": [
    "# data['Churn'] = data['Churn'].map({'Yes': 1, 'No': 0})\n",
    "\n",
    "data.replace(\" \", np.nan, inplace=True)\n",
    "\n",
    "data['TotalCharges'] = pd.to_numeric(data['TotalCharges'])\n",
    "\n",
    "mean = data['TotalCharges'].mean()\n",
    "data.fillna(mean, inplace=True)"
   ]
  },
  {
   "cell_type": "markdown",
   "id": "9edab235-8995-4173-97ea-06100f622857",
   "metadata": {},
   "source": [
    "## Do simple encoding \n",
    "Convert sting variable into numeric so plotting is easier. We need to later take mean"
   ]
  },
  {
   "cell_type": "markdown",
   "id": "50ee6f0d-5859-4ff4-9aa8-49a624c25cc1",
   "metadata": {
    "tags": []
   },
   "source": [
    "## Encoding the output"
   ]
  },
  {
   "cell_type": "code",
   "execution_count": 85,
   "id": "d9ce77f8-eb0e-4a07-ba33-3e84afe5edc2",
   "metadata": {},
   "outputs": [
    {
     "data": {
      "text/plain": [
       "0       1\n",
       "1       1\n",
       "2       0\n",
       "3       1\n",
       "4       0\n",
       "       ..\n",
       "7038    1\n",
       "7039    1\n",
       "7040    0\n",
       "7041    0\n",
       "7042    0\n",
       "Name: Churn, Length: 7043, dtype: int64"
      ]
     },
     "execution_count": 85,
     "metadata": {},
     "output_type": "execute_result"
    }
   ],
   "source": [
    "\n",
    "lab_enc = preprocessing.LabelEncoder()\n",
    "data['Churn'] = lab_enc.fit_transform(data['Churn'])S"
   ]
  },
  {
   "cell_type": "markdown",
   "id": "638f4c50-eb76-487b-adc7-feed09cd6c41",
   "metadata": {},
   "source": [
    "### Apply ordinal encoding for the feature which the order has a meaning"
   ]
  },
  {
   "cell_type": "code",
   "execution_count": 69,
   "id": "a3bc1d29-6efc-4767-adcb-779245ea9d93",
   "metadata": {},
   "outputs": [
    {
     "name": "stderr",
     "output_type": "stream",
     "text": [
      "/opt/app-root/lib64/python3.9/site-packages/category_encoders/utils.py:21: FutureWarning: is_categorical is deprecated and will be removed in a future version.  Use is_categorical_dtype instead\n",
      "  elif pd.api.types.is_categorical(cols):\n"
     ]
    },
    {
     "data": {
      "text/plain": [
       "['ordinal_encoder.pkl']"
      ]
     },
     "execution_count": 69,
     "metadata": {},
     "output_type": "execute_result"
    }
   ],
   "source": [
    "\n",
    "names = [ 'Partner', 'Dependents', 'PhoneService', 'StreamingTV', 'StreamingMovies', 'PaperlessBilling']\n",
    "# for column in names:\n",
    "#     labelencoder(column)\n",
    "data_enc = data\n",
    "data_enc = data_enc.drop(['Churn', 'customerID'], axis=1)\n",
    "final_set = data_enc\n",
    "enc = ce.ordinal.OrdinalEncoder(cols=names)\n",
    "enc.fit(data_enc)\n",
    "labelled_set = enc.transform(data_enc)\n",
    "labelled_set.head(5)\n",
    "joblib.dump(enc, 'ordinalencoder.pkl')  \n"
   ]
  },
  {
   "cell_type": "markdown",
   "id": "6af1b89b-e805-4419-9adc-f0930c61b371",
   "metadata": {},
   "source": [
    "### Apply one hot encoding for the feature which the order has no-meaning"
   ]
  },
  {
   "cell_type": "code",
   "execution_count": 70,
   "id": "991cf9e1-7524-4bf4-ad9e-7d2480918f82",
   "metadata": {},
   "outputs": [
    {
     "data": {
      "text/html": [
       "<div>\n",
       "<style scoped>\n",
       "    .dataframe tbody tr th:only-of-type {\n",
       "        vertical-align: middle;\n",
       "    }\n",
       "\n",
       "    .dataframe tbody tr th {\n",
       "        vertical-align: top;\n",
       "    }\n",
       "\n",
       "    .dataframe thead th {\n",
       "        text-align: right;\n",
       "    }\n",
       "</style>\n",
       "<table border=\"1\" class=\"dataframe\">\n",
       "  <thead>\n",
       "    <tr style=\"text-align: right;\">\n",
       "      <th></th>\n",
       "      <th>gender_1</th>\n",
       "      <th>gender_2</th>\n",
       "      <th>SeniorCitizen</th>\n",
       "      <th>Partner</th>\n",
       "      <th>Dependents</th>\n",
       "      <th>tenure</th>\n",
       "      <th>PhoneService</th>\n",
       "      <th>MultipleLines_1</th>\n",
       "      <th>MultipleLines_2</th>\n",
       "      <th>MultipleLines_3</th>\n",
       "      <th>...</th>\n",
       "      <th>Contract_1</th>\n",
       "      <th>Contract_2</th>\n",
       "      <th>Contract_3</th>\n",
       "      <th>PaperlessBilling</th>\n",
       "      <th>PaymentMethod_1</th>\n",
       "      <th>PaymentMethod_2</th>\n",
       "      <th>PaymentMethod_3</th>\n",
       "      <th>PaymentMethod_4</th>\n",
       "      <th>MonthlyCharges</th>\n",
       "      <th>TotalCharges</th>\n",
       "    </tr>\n",
       "  </thead>\n",
       "  <tbody>\n",
       "    <tr>\n",
       "      <th>0</th>\n",
       "      <td>1</td>\n",
       "      <td>0</td>\n",
       "      <td>0</td>\n",
       "      <td>1</td>\n",
       "      <td>1</td>\n",
       "      <td>1</td>\n",
       "      <td>1</td>\n",
       "      <td>1</td>\n",
       "      <td>0</td>\n",
       "      <td>0</td>\n",
       "      <td>...</td>\n",
       "      <td>1</td>\n",
       "      <td>0</td>\n",
       "      <td>0</td>\n",
       "      <td>1</td>\n",
       "      <td>1</td>\n",
       "      <td>0</td>\n",
       "      <td>0</td>\n",
       "      <td>0</td>\n",
       "      <td>45.65</td>\n",
       "      <td>45.65</td>\n",
       "    </tr>\n",
       "    <tr>\n",
       "      <th>1</th>\n",
       "      <td>1</td>\n",
       "      <td>0</td>\n",
       "      <td>0</td>\n",
       "      <td>2</td>\n",
       "      <td>2</td>\n",
       "      <td>4</td>\n",
       "      <td>1</td>\n",
       "      <td>0</td>\n",
       "      <td>1</td>\n",
       "      <td>0</td>\n",
       "      <td>...</td>\n",
       "      <td>1</td>\n",
       "      <td>0</td>\n",
       "      <td>0</td>\n",
       "      <td>2</td>\n",
       "      <td>1</td>\n",
       "      <td>0</td>\n",
       "      <td>0</td>\n",
       "      <td>0</td>\n",
       "      <td>101.15</td>\n",
       "      <td>385.90</td>\n",
       "    </tr>\n",
       "    <tr>\n",
       "      <th>2</th>\n",
       "      <td>0</td>\n",
       "      <td>1</td>\n",
       "      <td>1</td>\n",
       "      <td>1</td>\n",
       "      <td>1</td>\n",
       "      <td>17</td>\n",
       "      <td>1</td>\n",
       "      <td>1</td>\n",
       "      <td>0</td>\n",
       "      <td>0</td>\n",
       "      <td>...</td>\n",
       "      <td>0</td>\n",
       "      <td>1</td>\n",
       "      <td>0</td>\n",
       "      <td>2</td>\n",
       "      <td>0</td>\n",
       "      <td>1</td>\n",
       "      <td>0</td>\n",
       "      <td>0</td>\n",
       "      <td>20.65</td>\n",
       "      <td>330.60</td>\n",
       "    </tr>\n",
       "    <tr>\n",
       "      <th>3</th>\n",
       "      <td>1</td>\n",
       "      <td>0</td>\n",
       "      <td>0</td>\n",
       "      <td>1</td>\n",
       "      <td>1</td>\n",
       "      <td>22</td>\n",
       "      <td>2</td>\n",
       "      <td>0</td>\n",
       "      <td>0</td>\n",
       "      <td>1</td>\n",
       "      <td>...</td>\n",
       "      <td>0</td>\n",
       "      <td>1</td>\n",
       "      <td>0</td>\n",
       "      <td>1</td>\n",
       "      <td>0</td>\n",
       "      <td>0</td>\n",
       "      <td>1</td>\n",
       "      <td>0</td>\n",
       "      <td>43.75</td>\n",
       "      <td>903.60</td>\n",
       "    </tr>\n",
       "    <tr>\n",
       "      <th>4</th>\n",
       "      <td>0</td>\n",
       "      <td>1</td>\n",
       "      <td>0</td>\n",
       "      <td>2</td>\n",
       "      <td>2</td>\n",
       "      <td>70</td>\n",
       "      <td>1</td>\n",
       "      <td>1</td>\n",
       "      <td>0</td>\n",
       "      <td>0</td>\n",
       "      <td>...</td>\n",
       "      <td>0</td>\n",
       "      <td>1</td>\n",
       "      <td>0</td>\n",
       "      <td>2</td>\n",
       "      <td>0</td>\n",
       "      <td>0</td>\n",
       "      <td>0</td>\n",
       "      <td>1</td>\n",
       "      <td>74.10</td>\n",
       "      <td>5222.30</td>\n",
       "    </tr>\n",
       "  </tbody>\n",
       "</table>\n",
       "<p>5 rows × 37 columns</p>\n",
       "</div>"
      ],
      "text/plain": [
       "   gender_1  gender_2  SeniorCitizen  Partner  Dependents  tenure  \\\n",
       "0         1         0              0        1           1       1   \n",
       "1         1         0              0        2           2       4   \n",
       "2         0         1              1        1           1      17   \n",
       "3         1         0              0        1           1      22   \n",
       "4         0         1              0        2           2      70   \n",
       "\n",
       "   PhoneService  MultipleLines_1  MultipleLines_2  MultipleLines_3  ...  \\\n",
       "0             1                1                0                0  ...   \n",
       "1             1                0                1                0  ...   \n",
       "2             1                1                0                0  ...   \n",
       "3             2                0                0                1  ...   \n",
       "4             1                1                0                0  ...   \n",
       "\n",
       "   Contract_1  Contract_2  Contract_3  PaperlessBilling  PaymentMethod_1  \\\n",
       "0           1           0           0                 1                1   \n",
       "1           1           0           0                 2                1   \n",
       "2           0           1           0                 2                0   \n",
       "3           0           1           0                 1                0   \n",
       "4           0           1           0                 2                0   \n",
       "\n",
       "   PaymentMethod_2  PaymentMethod_3  PaymentMethod_4  MonthlyCharges  \\\n",
       "0                0                0                0           45.65   \n",
       "1                0                0                0          101.15   \n",
       "2                1                0                0           20.65   \n",
       "3                0                1                0           43.75   \n",
       "4                0                0                1           74.10   \n",
       "\n",
       "   TotalCharges  \n",
       "0         45.65  \n",
       "1        385.90  \n",
       "2        330.60  \n",
       "3        903.60  \n",
       "4       5222.30  \n",
       "\n",
       "[5 rows x 37 columns]"
      ]
     },
     "execution_count": 70,
     "metadata": {},
     "output_type": "execute_result"
    }
   ],
   "source": [
    "names = ['gender','MultipleLines', 'InternetService', 'Contract', 'PaymentMethod', 'OnlineSecurity', 'OnlineBackup',\n",
    "         'DeviceProtection', 'TechSupport']\n",
    "\n",
    "ohe = ce.OneHotEncoder(cols=names)\n",
    "data_ohe = data\n",
    "data_ohe = data_ohe.drop(['Churn', 'customerID'], axis=1)\n",
    "ohe.fit(data_ohe)\n",
    "final_set = ohe.transform(labelled_set)\n",
    "\n",
    "final_set.head(5)"
   ]
  },
  {
   "cell_type": "markdown",
   "id": "e6fa36d2-d013-48d0-9cfe-1defe8963598",
   "metadata": {},
   "source": [
    "## Split data to train and test"
   ]
  },
  {
   "cell_type": "code",
   "execution_count": 71,
   "id": "38330e35-cd76-488f-b562-2dc280bd0c9a",
   "metadata": {},
   "outputs": [
    {
     "name": "stdout",
     "output_type": "stream",
     "text": [
      "Training Data Shape (5634, 37) (5634,)\n",
      "Testing Data Shape (1409, 37) (1409,)\n"
     ]
    }
   ],
   "source": [
    "labels = data['Churn']\n",
    "X_train, X_test, y_train, y_test = train_test_split(final_set, labels, test_size=0.2)\n",
    "print ('Training Data Shape',X_train.shape, y_train.shape)\n",
    "print ('Testing Data Shape',X_test.shape, y_test.shape)\n",
    "\n",
    "Y = data['Churn']\n",
    "X = final_set"
   ]
  },
  {
   "cell_type": "markdown",
   "id": "896dd46f-9af5-42f0-b043-4762686ea09d",
   "metadata": {},
   "source": [
    "# Load mlflow to track the model"
   ]
  },
  {
   "cell_type": "code",
   "execution_count": 72,
   "id": "eb3bc655-919c-4ee7-8b88-e9bd1fbc5060",
   "metadata": {},
   "outputs": [],
   "source": [
    "# from verta.utils import ModelAPI\n",
    "\n",
    "# Connect to local MLflow tracking server\n",
    "mlflow.set_tracking_uri(HOST)\n",
    "\n",
    "# Set the experiment name...\n",
    "mlflow.set_experiment(EXPERIMENT_NAME)\n",
    "\n",
    "mlflow.sklearn.autolog(log_input_examples=True)"
   ]
  },
  {
   "cell_type": "code",
   "execution_count": 74,
   "id": "02dfccfc-29e3-4479-8141-5d2f2d32eda0",
   "metadata": {},
   "outputs": [],
   "source": [
    "\n",
    "def get_git_revision_hash():\n",
    "    return subprocess.check_output(['git', 'rev-parse', 'HEAD'])\n",
    "\n",
    "def get_git_revision_short_hash():\n",
    "    return subprocess.check_output(['git', 'rev-parse', '--short', 'HEAD'])\n",
    "\n",
    "def get_git_remote():\n",
    "    return subprocess.check_output(['git', 'config', '--get', 'remote.origin.url'])\n",
    "\n",
    "def get_git_user():\n",
    "    return subprocess.check_output(['git', 'config', 'user.name'])\n",
    "\n",
    "def get_git_branch():\n",
    "    return subprocess.check_output(['git', 'branch', '--show-current'])\n",
    "\n",
    "def get_pip_freeze():\n",
    "    return subprocess.check_output(['pip', 'freeze']).splitlines()\n",
    "\n",
    "\n",
    "def record_details(mlflow):\n",
    "    \"\"\"\n",
    "    This method is the anchor poijt and more activiteis will go in it\n",
    "    :param mlflow:\n",
    "    :return:\n",
    "    \"\"\"\n",
    "    with open(\"pip_freeze.txt\", \"wb\") as file:\n",
    "        for line in get_pip_freeze():\n",
    "            file.write(line)\n",
    "            file.write(bytes(\"\\n\", \"UTF-8\"))\n",
    "    mlflow.log_artifact(\"pip_freeze.txt\")\n",
    "\n",
    "    file.close()\n",
    "    os.remove(\"pip_freeze.txt\")\n",
    "    # save the encoders if there is any\n",
    "    joblib.dump(enc, 'ordinalencoder.pkl')  \n",
    "    mlflow.log_artifact(\"ordinalencoder.pkl\", artifact_path=\"model\")\n",
    "    os.remove(\"ordinalencoder.pkl\")\n",
    "    joblib.dump(ohe, 'onehotencoder.pkl')  \n",
    "    mlflow.log_artifact(\"onehotencoder.pkl\", artifact_path=\"model\")\n",
    "    os.remove(\"onehotencoder.pkl\")\n",
    "\n",
    "\n",
    "def mlflow_grid_search(methodtoexecute, methodarguments):\n",
    "    with mlflow.start_run(tags= {\n",
    "        \"mlflow.source.git.commit\" : get_git_revision_hash() ,\n",
    "        \"mlflow.user\": get_git_user(),\n",
    "        \"mlflow.source.git.repoURL\": get_git_remote(),\n",
    "        \"git_remote\": get_git_remote(),\n",
    "        \"mlflow.source.git.branch\": get_git_branch(),\n",
    "        \"mlflow.docker.image.name\": os.getenv(\"JUPYTER_IMAGE\", \"LOCAL\"),\n",
    "        \"mlflow.source.type\": \"NOTEBOOK\",\n",
    "#         \"mlflow.source.name\": ipynbname.name()\n",
    "    }) as run:\n",
    "        methodtoexecute(**methodarguments)\n",
    "        record_details(mlflow)\n",
    "\n",
    "    return run"
   ]
  },
  {
   "cell_type": "code",
   "execution_count": 73,
   "id": "7aacafdc-e82a-4af6-baa4-08f04a46e085",
   "metadata": {},
   "outputs": [],
   "source": [
    "def fetch_logged_data(run_id):\n",
    "    client = mlflow.tracking.MlflowClient()\n",
    "    data = client.get_run(run_id).data\n",
    "    tags = {k: v for k, v in data.tags.items() if not k.startswith(\"mlflow.\")}\n",
    "    artifacts = [f.path for f in client.list_artifacts(run_id, \"model\")]\n",
    "    return data.params, data.metrics, tags, artifacts"
   ]
  },
  {
   "cell_type": "markdown",
   "id": "72242ea5-a3f8-4593-ba9f-cd4862b8d886",
   "metadata": {},
   "source": [
    "# Modeling part"
   ]
  },
  {
   "cell_type": "markdown",
   "id": "1d35f531-431e-4653-9d51-51fc5e7afb52",
   "metadata": {},
   "source": [
    "## Define the model"
   ]
  },
  {
   "cell_type": "code",
   "execution_count": 75,
   "id": "0e91cd7f-9d87-401c-a817-31797e358863",
   "metadata": {},
   "outputs": [],
   "source": [
    "model = DecisionTreeClassifier()"
   ]
  },
  {
   "cell_type": "markdown",
   "id": "82ca576b-788f-468c-b3b7-98dd56ae3c79",
   "metadata": {},
   "source": [
    "## Define the grid search"
   ]
  },
  {
   "cell_type": "code",
   "execution_count": 77,
   "id": "56a6a2db-8b10-4e76-b429-165a772d7682",
   "metadata": {},
   "outputs": [],
   "source": [
    "\n",
    "grid = {\n",
    "    'max_depth': [3,5,7,10],\n",
    "    'criterion': ['gini'],\n",
    "    'min_samples_leaf': [3, 5] ,\n",
    "    'min_samples_split':[5,10]\n",
    "}\n",
    "\n",
    "grid_search = GridSearchCV(model, grid)"
   ]
  },
  {
   "cell_type": "markdown",
   "id": "052ecea2-4f03-4081-af1e-6c95c3070fc0",
   "metadata": {},
   "source": [
    "# Train the model"
   ]
  },
  {
   "cell_type": "code",
   "execution_count": 78,
   "id": "d9838146-8124-4705-b732-7fd11d4d2def",
   "metadata": {},
   "outputs": [
    {
     "name": "stderr",
     "output_type": "stream",
     "text": [
      "2021/10/04 02:24:01 WARNING mlflow.utils.autologging_utils: MLflow autologging encountered a warning: \"/opt/app-root/lib64/python3.9/site-packages/mlflow/models/signature.py:129: UserWarning: Hint: Inferred schema contains integer column(s). Integer columns in Python cannot represent missing values. If your input data contains missing values at inference time, it will be encoded as floats and will cause a schema enforcement error. The best way to avoid this problem is to infer the model schema based on a realistic data sample (training dataset) that includes missing values. Alternatively, you can declare integer columns as doubles (float64) whenever these columns may have missing values. See `Handling Integers With Missing Values <https://www.mlflow.org/docs/latest/models.html#handling-integers-with-missing-values>`_ for more details.\"\n",
      "2021/10/04 02:24:04 WARNING mlflow.models.model: Logging model metadata to the tracking server has failed, possibly due older server version. The model artifacts have been logged successfully under s3://mlflow/2/0741d4d7a41c4b3dbf663ea83106cebb/artifacts. In addition to exporting model artifacts, MLflow clients 1.7.0 and above attempt to record model metadata to the  tracking store. If logging to a mlflow server via REST, consider  upgrading the server version to MLflow 1.7.0 or above.\n",
      "2021/10/04 02:24:04 INFO mlflow.sklearn.utils: Logging the 5 best runs, 11 runs will be omitted.\n"
     ]
    }
   ],
   "source": [
    "with mlflow.start_run(tags= {\n",
    "        \"mlflow.source.git.commit\" : get_git_revision_hash() ,\n",
    "        \"mlflow.user\": get_git_user(),\n",
    "        \"mlflow.source.git.repoURL\": get_git_remote(),\n",
    "        \"git_remote\": get_git_remote(),\n",
    "        \"mlflow.source.git.branch\": get_git_branch(),\n",
    "        \"mlflow.docker.image.name\": os.getenv(\"JUPYTER_IMAGE\", \"LOCAL\"),\n",
    "        \"mlflow.source.type\": \"NOTEBOOK\",\n",
    "#         \"mlflow.source.name\": ipynbname.name()\n",
    "    }) as run:\n",
    "        grid_search.fit(X_train,y_train)\n",
    "        record_details(mlflow)"
   ]
  },
  {
   "cell_type": "code",
   "execution_count": 18,
   "id": "14227e7e-9314-4616-9025-c0afedae1e53",
   "metadata": {},
   "outputs": [
    {
     "name": "stdout",
     "output_type": "stream",
     "text": [
      "http://mlflow:5500\n",
      "retrieving model metadata from mlflow...\n",
      "mlflow.pyfunc.loaded_model:\n",
      "  artifact_path: model\n",
      "  flavor: mlflow.sklearn\n",
      "  run_id: c030ef299d4244e0ad9e1c1697d6d62d\n",
      "\n",
      "initializing connection to s3 server...\n",
      "download successful\n"
     ]
    }
   ],
   "source": [
    "# !pip install mlflow\n",
    "# !pip install minio\n",
    "# !pip install boto3\n",
    "# !pip install scikit-learn==0.24.2\n",
    "# !pip install openshift-client==1.0.13\n",
    "# !pip show mlflow\n",
    "# !pip show minio\n",
    "# !pip show boto3\n",
    "# !pip show scikit-learn\n",
    "# !pip show openshift-client\n",
    "\n",
    "import os\n",
    "import mlflow\n",
    "from minio import Minio\n",
    "import openshift as oc\n",
    "from jinja2 import Template\n",
    "\n",
    "os.environ['MLFLOW_S3_ENDPOINT_URL']='http://minio-ml-workshop:9000'\n",
    "os.environ['AWS_ACCESS_KEY_ID']='minio'\n",
    "os.environ['AWS_SECRET_ACCESS_KEY']='minio123'\n",
    "os.environ['AWS_REGION']='us-east-1'\n",
    "os.environ['AWS_BUCKET_NAME']='mlflow'\n",
    "# os.environ['MODEL_NAME'] = 'rossdemo'\n",
    "# os.environ['MODEL_VERSION'] = '1'\n",
    "# os.environ['OPENSHIFT_CLIENT_PYTHON_DEFAULT_OC_PATH'] = '/tmp/oc'\n",
    "\n",
    "HOST = \"http://mlflow:5500\"\n",
    "\n",
    "model_name = 'sd9'\n",
    "model_version = '1'\n",
    "build_name = f\"seldon-model-{model_name}-v{model_version}\"\n",
    "\n",
    "def get_s3_server():\n",
    "    minioClient = Minio('minio-ml-workshop:9000',\n",
    "                    access_key='minio',\n",
    "                    secret_key='minio123',\n",
    "                    secure=False)\n",
    "\n",
    "    return minioClient\n",
    "\n",
    "\n",
    "def init():\n",
    "    mlflow.set_tracking_uri(HOST)\n",
    "    print(HOST)\n",
    "    # Set the experiment name...\n",
    "    #mlflow_client = mlflow.tracking.MlflowClient(HOST)\n",
    "\n",
    "    \n",
    "def download_artifacts():\n",
    "    print(\"retrieving model metadata from mlflow...\")\n",
    "    model = mlflow.pyfunc.load_model(\n",
    "        model_uri=f\"models:/{model_name}/{model_version}\"\n",
    "    )\n",
    "    print(model)\n",
    "    \n",
    "    run_id = model.metadata.run_id\n",
    "    experiment_id = mlflow.get_run(run_id).info.experiment_id\n",
    "    \n",
    "    print(\"initializing connection to s3 server...\")\n",
    "    minioClient = get_s3_server()\n",
    "\n",
    "#     artifact_location = mlflow.get_experiment_by_name('rossdemo').artifact_location\n",
    "#     print(\"downloading artifacts from s3 bucket \" + artifact_location)\n",
    "\n",
    "    data_file_model = minioClient.fget_object(\"mlflow\", f\"/{experiment_id}/{run_id}/artifacts/model/model.pkl\", \"model.pkl\")\n",
    "    data_file_ordinalencoder = minioClient.fget_object(\"mlflow\", f\"/{experiment_id}/{run_id}/artifacts/model/ordinalencoder.pkl\", \"ordinalencoder.pkl\")\n",
    "    data_file_onehotencoder = minioClient.fget_object(\"mlflow\", f\"/{experiment_id}/{run_id}/artifacts/model/onehotencoder.pkl\", \"onehotencoder.pkl\")\n",
    "\n",
    "    data_file_requirements = minioClient.fget_object(\"mlflow\", f\"/{experiment_id}/{run_id}/artifacts/model/model.pkl\", \"requirements.txt\")\n",
    "    #Using boto3 Download the files from mlflow, the file path is in the model meta\n",
    "    #write the files to the file system\n",
    "    print(\"download successful\")\n",
    "    \n",
    "    return run_id\n",
    "    \n",
    "        \n",
    "init()\n",
    "run_id = download_artifacts()"
   ]
  },
  {
   "cell_type": "code",
   "execution_count": 19,
   "id": "af60c7cd-f2ce-4182-810d-c68aee425869",
   "metadata": {},
   "outputs": [],
   "source": [
    "import joblib\n",
    "import numpy as np\n",
    "import json\n",
    "\n",
    "class Predictor(object):\n",
    "\n",
    "    def __init__(self):\n",
    "        self.model = joblib.load('model.pkl')\n",
    "\n",
    "\n",
    "    def predict(self, X,features_names):\n",
    "        # data = request.get(\"data\", {}).get(\"ndarray\")\n",
    "        # mult_types_array = np.array(data, dtype=object)\n",
    "        print(X)\n",
    "        result = self.model.predict(X)\n",
    "        print(result)\n",
    "\n",
    "        return json.dumps(result, cls=JsonSerializer)\n",
    "\n",
    "class JsonSerializer(json.JSONEncoder):\n",
    "    def default(self, obj):\n",
    "        if isinstance(obj, (\n",
    "        np.int_, np.intc, np.intp, np.int8, np.int16, np.int32, np.int64, np.uint8, np.uint16, np.uint32, np.uint64)):\n",
    "            return int(obj)\n",
    "        elif isinstance(obj, (np.float_, np.float16, np.float32, np.float64)):\n",
    "            return float(obj)\n",
    "        elif isinstance(obj, (np.ndarray,)):\n",
    "            return obj.tolist()\n",
    "        return json.JSONEncoder.default(self, obj)"
   ]
  },
  {
   "cell_type": "code",
   "execution_count": 20,
   "id": "3e33cb0c-16c3-4a93-a040-8879aa2411b6",
   "metadata": {},
   "outputs": [],
   "source": [
    "import pandas as pd\n",
    "\n",
    "class Transformer(object):\n",
    "    def __init__(self):\n",
    "        self.ordinalencoder = joblib.load('ordinalencoder.pkl')\n",
    "        self.onehotencoder = joblib.load('onehotencoder.pkl')\n",
    "        \n",
    "    def transform_input(self, request):\n",
    "        X = request.get(\"data\", {}).get(\"ndarray\")\n",
    "        feature_names = request.get(\"data\", {}).get(\"names\")\n",
    "        \n",
    "        df = pd.DataFrame(X, columns=feature_names)\n",
    "        df = ordinalencoder.transform(df)\n",
    "        df = onehotencoder.transform(df)\n",
    "\n",
    "        #df = df.drop(['customerID'], axis=1)\n",
    "        return df.to_numpy()\n"
   ]
  },
  {
   "cell_type": "code",
   "execution_count": 21,
   "id": "6db6b5c6-7b91-4fc7-888d-f0e7d939f858",
   "metadata": {},
   "outputs": [],
   "source": [
    "model = joblib.load('model.pkl')\n",
    "ordinalencoder = joblib.load('ordinalencoder.pkl')\n",
    "onehotencoder = joblib.load('onehotencoder.pkl')"
   ]
  },
  {
   "cell_type": "code",
   "execution_count": 31,
   "id": "bff0fd7c-692e-4e85-a2cc-06227794c6a2",
   "metadata": {},
   "outputs": [],
   "source": [
    "sample_data = {\"data\":\n",
    "  {\n",
    "\n",
    "\n",
    "        \"names\":\n",
    "            [\n",
    "              \"gender\",\"SeniorCitizen\",\"Partner\",\"Dependents\",\"tenure\",\"PhoneService\",\n",
    "              \"MultipleLines\",\"InternetService\",\"OnlineSecurity\",\n",
    "              \"OnlineBackup\",\"DeviceProtection\",\"TechSupport\",\"StreamingTV\",\"StreamingMovies\",\n",
    "              \"Contract\",\n",
    "              \"PaperlessBilling\",\"PaymentMethod\",\"MonthlyCharges\",\"TotalCharges\"\n",
    "            ],\n",
    "    # \"ndarray\": [[\"Male\", 0, \"No\", \"No\", 1, \"Yes\", \"No\", \"DSL\", \"No\", \"No\", \"No\",\"No\", \"No\", \"No\", \"Month-to-month\", \"Yes\", \"Electronic check\",45.65, 45.65]]\n",
    "      # \"ndarray\": [[\"Male\", 0, \"Yes\", \"Yes\", 4, \"Yes\", \"Yes\", \"Fiber optic\", \"No\", \"No\", \"Yes\",\"No\", \"Yes\", \"Yes\", \"Month-to-month\", \"No\", \"Electronic check\",101.15, 385.9]]\n",
    "      \"ndarray\": [[\"Male\", 0, \"No\", \"No\", 32, \"Yes\", \"Yes\", \"Fiber optic\", \"Yes\", \"No\", \"No\",\"Yes\", \"No\", \"No\", \"Month-to-month\", \"No\", \"Bank transfer (automatic)\",87.65, 2766.4]]\n",
    "\n",
    "  }\n",
    "}"
   ]
  },
  {
   "cell_type": "code",
   "execution_count": 32,
   "id": "0d81b16a-1c46-4e34-9fae-e4973b5dbda1",
   "metadata": {
    "tags": []
   },
   "outputs": [],
   "source": [
    "ready_data = Transformer().transform_input(sample_data)"
   ]
  },
  {
   "cell_type": "code",
   "execution_count": 33,
   "id": "bd512b09-c4fa-4c13-ab23-72c56d827fa7",
   "metadata": {},
   "outputs": [
    {
     "data": {
      "text/plain": [
       "array([0])"
      ]
     },
     "execution_count": 33,
     "metadata": {},
     "output_type": "execute_result"
    }
   ],
   "source": [
    "model.predict(ready_data)"
   ]
  },
  {
   "cell_type": "code",
   "execution_count": 30,
   "id": "a1c2dd63-fe00-488d-a582-e47be80b6abd",
   "metadata": {},
   "outputs": [
    {
     "data": {
      "text/plain": [
       "customerID                               1088\n",
       "gender                                   Male\n",
       "SeniorCitizen                               0\n",
       "Partner                                    No\n",
       "Dependents                                 No\n",
       "tenure                                     32\n",
       "PhoneService                              Yes\n",
       "MultipleLines                             Yes\n",
       "InternetService                   Fiber optic\n",
       "OnlineSecurity                            Yes\n",
       "OnlineBackup                               No\n",
       "DeviceProtection                           No\n",
       "TechSupport                               Yes\n",
       "StreamingTV                                No\n",
       "StreamingMovies                            No\n",
       "Contract                       Month-to-month\n",
       "PaperlessBilling                           No\n",
       "PaymentMethod       Bank transfer (automatic)\n",
       "MonthlyCharges                          87.65\n",
       "TotalCharges                           2766.4\n",
       "Churn                                       0\n",
       "Name: 5, dtype: object"
      ]
     },
     "execution_count": 30,
     "metadata": {},
     "output_type": "execute_result"
    }
   ],
   "source": [
    "data.iloc[5]"
   ]
  }
 ],
 "metadata": {
  "kernelspec": {
   "display_name": "Python 3",
   "language": "python",
   "name": "python3"
  },
  "language_info": {
   "codemirror_mode": {
    "name": "ipython",
    "version": 3
   },
   "file_extension": ".py",
   "mimetype": "text/x-python",
   "name": "python",
   "nbconvert_exporter": "python",
   "pygments_lexer": "ipython3",
   "version": "3.8.6"
  }
 },
 "nbformat": 4,
 "nbformat_minor": 5
}
