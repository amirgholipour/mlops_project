{
 "cells": [
  {
   "cell_type": "markdown",
   "metadata": {},
   "source": [
    "<br>\n",
    "<h1 style = \"font-size:30px; font-weight : bold; color : black; text-align: center; border-radius: 10px 15px;\"> Telco Customer Churn: EDA, Predictions and Feature Importance with SHAP </h1>\n",
    "<br>"
   ]
  },
  {
   "cell_type": "markdown",
   "metadata": {},
   "source": [
    "# Goals\n",
    "Perform an Exploratory Data Analysis (EDA) to visualize and understand:\n",
    "* The distribution of values of the target and features;\n",
    "* The relationship between each feature and the likelihood of customer churn.\n",
    "\n",
    "Predict churn using 20% of data as test set using the following models:\n",
    "* Logistic Regression;\n",
    "* Random Forest;\n",
    "* XGBoost;\n",
    "* Catboost.\n",
    "\n",
    "Understand how each feature impacts the predicted value using:\n",
    "* Feature Importance;\n",
    "* SHAP."
   ]
  },
  {
   "cell_type": "markdown",
   "metadata": {
    "execution": {
     "iopub.execute_input": "2021-07-06T04:32:42.53343Z",
     "iopub.status.busy": "2021-07-06T04:32:42.532884Z",
     "iopub.status.idle": "2021-07-06T04:32:42.542331Z",
     "shell.execute_reply": "2021-07-06T04:32:42.540346Z",
     "shell.execute_reply.started": "2021-07-06T04:32:42.533389Z"
    }
   },
   "source": [
    "# <a id='0'>Content</a>\n",
    "\n",
    "- <a href='#1'>Dataset Information</a>  \n",
    "- <a href='#2'>Importing Packages and Dataset + Data Cleaning</a>  \n",
    "- <a href='#3'>Exploratory Data Analysis</a>  \n",
    "    - <a href='#31'>Demographic Features</a>  \n",
    "    - <a href='#32'>Services Related Features</a>\n",
    "    - <a href='#33'>Account Information Features (categorical)</a>\n",
    "    - <a href='#34'>Account Information Features (numerical)</a>\n",
    "- <a href='#4'>Creating and Evaluating Models</a>\n",
    "    - <a href='#41'>Logistic Regression</a> \n",
    "    - <a href='#42'>Random Forest</a>\n",
    "    - <a href='#43'>Random Forest w/preprocessing</a>\n",
    "    - <a href='#44'>XGBoost</a> \n",
    "    - <a href='#45'>CatBoost</a> \n",
    "    - <a href='#46'>Feature Importance and SHAP Plot</a>     \n",
    "- <a href='#5'>References</a>"
   ]
  },
  {
   "cell_type": "markdown",
   "metadata": {},
   "source": [
    "## <center> If you find this notebook useful, support with an upvote! <center>"
   ]
  },
  {
   "cell_type": "markdown",
   "metadata": {},
   "source": [
    "# <a id=\"1\">Dataset Information</a> "
   ]
  },
  {
   "cell_type": "markdown",
   "metadata": {},
   "source": [
    "\n",
    "### Content\n",
    "\n",
    "\"Predict behavior to retain customers. You can analyze all relevant customer data and develop focused customer retention programs.\" [IBM Sample Data Sets]\n",
    "\n",
    "Each row represents a customer, each column contains customer’s attributes described on the column Metadata.\n",
    "\n",
    "The data set includes information about:\n",
    "\n",
    "- Customers who left within the last month – the column is called Churn\n",
    "- Services that each customer has signed up for – phone, multiple lines, internet, online security, online backup, device protection, tech support, and streaming TV and movies\n",
    "- Customer account information – how long they’ve been a customer, contract, payment method, paperless billing, monthly charges, and total charges\n",
    "- Demographic info about customers – gender, age range, and if they have partners and dependents"
   ]
  },
  {
   "cell_type": "markdown",
   "metadata": {},
   "source": [
    "# <a id=\"2\">Importing Packages and Dataset + Data Cleaning</a> "
   ]
  },
  {
   "cell_type": "code",
   "execution_count": 3,
   "metadata": {
    "tags": []
   },
   "outputs": [
    {
     "ename": "ModuleNotFoundError",
     "evalue": "No module named 'xgboost'",
     "output_type": "error",
     "traceback": [
      "\u001b[0;31m---------------------------------------------------------------------------\u001b[0m",
      "\u001b[0;31mModuleNotFoundError\u001b[0m                       Traceback (most recent call last)",
      "\u001b[0;32m<ipython-input-3-9ba8be3cf0c9>\u001b[0m in \u001b[0;36m<module>\u001b[0;34m\u001b[0m\n\u001b[1;32m     18\u001b[0m \u001b[0;32mfrom\u001b[0m \u001b[0msklearn\u001b[0m\u001b[0;34m.\u001b[0m\u001b[0mlinear_model\u001b[0m \u001b[0;32mimport\u001b[0m \u001b[0mLogisticRegression\u001b[0m\u001b[0;34m\u001b[0m\u001b[0;34m\u001b[0m\u001b[0m\n\u001b[1;32m     19\u001b[0m \u001b[0;32mfrom\u001b[0m \u001b[0msklearn\u001b[0m\u001b[0;34m.\u001b[0m\u001b[0mensemble\u001b[0m \u001b[0;32mimport\u001b[0m \u001b[0mRandomForestClassifier\u001b[0m\u001b[0;34m\u001b[0m\u001b[0;34m\u001b[0m\u001b[0m\n\u001b[0;32m---> 20\u001b[0;31m \u001b[0;32mfrom\u001b[0m \u001b[0mxgboost\u001b[0m \u001b[0;32mimport\u001b[0m \u001b[0mXGBClassifier\u001b[0m\u001b[0;34m\u001b[0m\u001b[0;34m\u001b[0m\u001b[0m\n\u001b[0m\u001b[1;32m     21\u001b[0m \u001b[0;32mfrom\u001b[0m \u001b[0mcatboost\u001b[0m \u001b[0;32mimport\u001b[0m \u001b[0mCatBoostClassifier\u001b[0m\u001b[0;34m\u001b[0m\u001b[0;34m\u001b[0m\u001b[0m\n\u001b[1;32m     22\u001b[0m \u001b[0;32mfrom\u001b[0m \u001b[0mcatboost\u001b[0m \u001b[0;32mimport\u001b[0m \u001b[0mPool\u001b[0m\u001b[0;34m\u001b[0m\u001b[0;34m\u001b[0m\u001b[0m\n",
      "\u001b[0;31mModuleNotFoundError\u001b[0m: No module named 'xgboost'"
     ]
    }
   ],
   "source": [
    "import pandas as pd \n",
    "import matplotlib as mat\n",
    "import matplotlib.pyplot as plt    \n",
    "import numpy as np\n",
    "import seaborn as sns\n",
    "%matplotlib inline\n",
    "\n",
    "from sklearn.model_selection import train_test_split\n",
    "from sklearn.model_selection import cross_val_score\n",
    "from sklearn.model_selection import RepeatedStratifiedKFold\n",
    "from sklearn import metrics\n",
    "from sklearn.preprocessing import LabelEncoder\n",
    "from sklearn.preprocessing import OneHotEncoder\n",
    "from sklearn.preprocessing import StandardScaler\n",
    "from sklearn.pipeline import Pipeline\n",
    "from sklearn.compose import ColumnTransformer\n",
    "\n",
    "from sklearn.linear_model import LogisticRegression\n",
    "from sklearn.ensemble import RandomForestClassifier\n",
    "from xgboost import XGBClassifier\n",
    "from catboost import CatBoostClassifier\n",
    "from catboost import Pool\n",
    "\n",
    "import shap\n",
    "\n",
    "import warnings\n",
    "warnings.filterwarnings('ignore')"
   ]
  },
  {
   "cell_type": "code",
   "execution_count": 5,
   "metadata": {
    "tags": []
   },
   "outputs": [],
   "source": [
    "df = pd.read_csv('../data/raw/data.csv')"
   ]
  },
  {
   "cell_type": "code",
   "execution_count": 6,
   "metadata": {
    "tags": []
   },
   "outputs": [
    {
     "data": {
      "text/html": [
       "<div>\n",
       "<style scoped>\n",
       "    .dataframe tbody tr th:only-of-type {\n",
       "        vertical-align: middle;\n",
       "    }\n",
       "\n",
       "    .dataframe tbody tr th {\n",
       "        vertical-align: top;\n",
       "    }\n",
       "\n",
       "    .dataframe thead th {\n",
       "        text-align: right;\n",
       "    }\n",
       "</style>\n",
       "<table border=\"1\" class=\"dataframe\">\n",
       "  <thead>\n",
       "    <tr style=\"text-align: right;\">\n",
       "      <th></th>\n",
       "      <th>customerID</th>\n",
       "      <th>gender</th>\n",
       "      <th>SeniorCitizen</th>\n",
       "      <th>Partner</th>\n",
       "      <th>Dependents</th>\n",
       "      <th>tenure</th>\n",
       "      <th>PhoneService</th>\n",
       "      <th>MultipleLines</th>\n",
       "      <th>InternetService</th>\n",
       "      <th>OnlineSecurity</th>\n",
       "      <th>...</th>\n",
       "      <th>DeviceProtection</th>\n",
       "      <th>TechSupport</th>\n",
       "      <th>StreamingTV</th>\n",
       "      <th>StreamingMovies</th>\n",
       "      <th>Contract</th>\n",
       "      <th>PaperlessBilling</th>\n",
       "      <th>PaymentMethod</th>\n",
       "      <th>MonthlyCharges</th>\n",
       "      <th>TotalCharges</th>\n",
       "      <th>Churn</th>\n",
       "    </tr>\n",
       "  </thead>\n",
       "  <tbody>\n",
       "    <tr>\n",
       "      <th>0</th>\n",
       "      <td>148</td>\n",
       "      <td>Male</td>\n",
       "      <td>0</td>\n",
       "      <td>No</td>\n",
       "      <td>No</td>\n",
       "      <td>1</td>\n",
       "      <td>Yes</td>\n",
       "      <td>No</td>\n",
       "      <td>DSL</td>\n",
       "      <td>No</td>\n",
       "      <td>...</td>\n",
       "      <td>No</td>\n",
       "      <td>No</td>\n",
       "      <td>No</td>\n",
       "      <td>No</td>\n",
       "      <td>Month-to-month</td>\n",
       "      <td>Yes</td>\n",
       "      <td>Electronic check</td>\n",
       "      <td>45.65</td>\n",
       "      <td>45.65</td>\n",
       "      <td>Yes</td>\n",
       "    </tr>\n",
       "    <tr>\n",
       "      <th>1</th>\n",
       "      <td>463</td>\n",
       "      <td>Male</td>\n",
       "      <td>0</td>\n",
       "      <td>Yes</td>\n",
       "      <td>Yes</td>\n",
       "      <td>4</td>\n",
       "      <td>Yes</td>\n",
       "      <td>Yes</td>\n",
       "      <td>Fiber optic</td>\n",
       "      <td>No</td>\n",
       "      <td>...</td>\n",
       "      <td>Yes</td>\n",
       "      <td>No</td>\n",
       "      <td>Yes</td>\n",
       "      <td>Yes</td>\n",
       "      <td>Month-to-month</td>\n",
       "      <td>No</td>\n",
       "      <td>Electronic check</td>\n",
       "      <td>101.15</td>\n",
       "      <td>385.90</td>\n",
       "      <td>Yes</td>\n",
       "    </tr>\n",
       "    <tr>\n",
       "      <th>2</th>\n",
       "      <td>471</td>\n",
       "      <td>Female</td>\n",
       "      <td>1</td>\n",
       "      <td>No</td>\n",
       "      <td>No</td>\n",
       "      <td>17</td>\n",
       "      <td>Yes</td>\n",
       "      <td>No</td>\n",
       "      <td>No</td>\n",
       "      <td>No internet service</td>\n",
       "      <td>...</td>\n",
       "      <td>No internet service</td>\n",
       "      <td>No internet service</td>\n",
       "      <td>No internet service</td>\n",
       "      <td>No internet service</td>\n",
       "      <td>One year</td>\n",
       "      <td>No</td>\n",
       "      <td>Mailed check</td>\n",
       "      <td>20.65</td>\n",
       "      <td>330.60</td>\n",
       "      <td>No</td>\n",
       "    </tr>\n",
       "    <tr>\n",
       "      <th>3</th>\n",
       "      <td>496</td>\n",
       "      <td>Male</td>\n",
       "      <td>0</td>\n",
       "      <td>No</td>\n",
       "      <td>No</td>\n",
       "      <td>22</td>\n",
       "      <td>No</td>\n",
       "      <td>No phone service</td>\n",
       "      <td>DSL</td>\n",
       "      <td>No</td>\n",
       "      <td>...</td>\n",
       "      <td>Yes</td>\n",
       "      <td>No</td>\n",
       "      <td>No</td>\n",
       "      <td>Yes</td>\n",
       "      <td>One year</td>\n",
       "      <td>Yes</td>\n",
       "      <td>Bank transfer (automatic)</td>\n",
       "      <td>43.75</td>\n",
       "      <td>903.60</td>\n",
       "      <td>Yes</td>\n",
       "    </tr>\n",
       "    <tr>\n",
       "      <th>4</th>\n",
       "      <td>833</td>\n",
       "      <td>Female</td>\n",
       "      <td>0</td>\n",
       "      <td>Yes</td>\n",
       "      <td>Yes</td>\n",
       "      <td>70</td>\n",
       "      <td>Yes</td>\n",
       "      <td>No</td>\n",
       "      <td>DSL</td>\n",
       "      <td>Yes</td>\n",
       "      <td>...</td>\n",
       "      <td>Yes</td>\n",
       "      <td>Yes</td>\n",
       "      <td>No</td>\n",
       "      <td>Yes</td>\n",
       "      <td>One year</td>\n",
       "      <td>No</td>\n",
       "      <td>Credit card (automatic)</td>\n",
       "      <td>74.10</td>\n",
       "      <td>5222.30</td>\n",
       "      <td>No</td>\n",
       "    </tr>\n",
       "    <tr>\n",
       "      <th>...</th>\n",
       "      <td>...</td>\n",
       "      <td>...</td>\n",
       "      <td>...</td>\n",
       "      <td>...</td>\n",
       "      <td>...</td>\n",
       "      <td>...</td>\n",
       "      <td>...</td>\n",
       "      <td>...</td>\n",
       "      <td>...</td>\n",
       "      <td>...</td>\n",
       "      <td>...</td>\n",
       "      <td>...</td>\n",
       "      <td>...</td>\n",
       "      <td>...</td>\n",
       "      <td>...</td>\n",
       "      <td>...</td>\n",
       "      <td>...</td>\n",
       "      <td>...</td>\n",
       "      <td>...</td>\n",
       "      <td>...</td>\n",
       "      <td>...</td>\n",
       "    </tr>\n",
       "    <tr>\n",
       "      <th>7038</th>\n",
       "      <td>6490</td>\n",
       "      <td>Male</td>\n",
       "      <td>0</td>\n",
       "      <td>No</td>\n",
       "      <td>No</td>\n",
       "      <td>1</td>\n",
       "      <td>Yes</td>\n",
       "      <td>No</td>\n",
       "      <td>No</td>\n",
       "      <td>No internet service</td>\n",
       "      <td>...</td>\n",
       "      <td>No internet service</td>\n",
       "      <td>No internet service</td>\n",
       "      <td>No internet service</td>\n",
       "      <td>No internet service</td>\n",
       "      <td>Month-to-month</td>\n",
       "      <td>Yes</td>\n",
       "      <td>Mailed check</td>\n",
       "      <td>18.85</td>\n",
       "      <td>18.85</td>\n",
       "      <td>Yes</td>\n",
       "    </tr>\n",
       "    <tr>\n",
       "      <th>7039</th>\n",
       "      <td>6634</td>\n",
       "      <td>Female</td>\n",
       "      <td>0</td>\n",
       "      <td>No</td>\n",
       "      <td>No</td>\n",
       "      <td>1</td>\n",
       "      <td>Yes</td>\n",
       "      <td>Yes</td>\n",
       "      <td>Fiber optic</td>\n",
       "      <td>No</td>\n",
       "      <td>...</td>\n",
       "      <td>No</td>\n",
       "      <td>No</td>\n",
       "      <td>No</td>\n",
       "      <td>No</td>\n",
       "      <td>Month-to-month</td>\n",
       "      <td>Yes</td>\n",
       "      <td>Electronic check</td>\n",
       "      <td>74.50</td>\n",
       "      <td>74.50</td>\n",
       "      <td>Yes</td>\n",
       "    </tr>\n",
       "    <tr>\n",
       "      <th>7040</th>\n",
       "      <td>6638</td>\n",
       "      <td>Male</td>\n",
       "      <td>0</td>\n",
       "      <td>Yes</td>\n",
       "      <td>No</td>\n",
       "      <td>69</td>\n",
       "      <td>Yes</td>\n",
       "      <td>No</td>\n",
       "      <td>DSL</td>\n",
       "      <td>Yes</td>\n",
       "      <td>...</td>\n",
       "      <td>No</td>\n",
       "      <td>No</td>\n",
       "      <td>No</td>\n",
       "      <td>No</td>\n",
       "      <td>One year</td>\n",
       "      <td>Yes</td>\n",
       "      <td>Credit card (automatic)</td>\n",
       "      <td>53.65</td>\n",
       "      <td>3804.40</td>\n",
       "      <td>No</td>\n",
       "    </tr>\n",
       "    <tr>\n",
       "      <th>7041</th>\n",
       "      <td>6721</td>\n",
       "      <td>Male</td>\n",
       "      <td>0</td>\n",
       "      <td>Yes</td>\n",
       "      <td>Yes</td>\n",
       "      <td>70</td>\n",
       "      <td>Yes</td>\n",
       "      <td>Yes</td>\n",
       "      <td>DSL</td>\n",
       "      <td>No</td>\n",
       "      <td>...</td>\n",
       "      <td>Yes</td>\n",
       "      <td>Yes</td>\n",
       "      <td>Yes</td>\n",
       "      <td>Yes</td>\n",
       "      <td>Two year</td>\n",
       "      <td>Yes</td>\n",
       "      <td>Electronic check</td>\n",
       "      <td>84.10</td>\n",
       "      <td>5979.70</td>\n",
       "      <td>No</td>\n",
       "    </tr>\n",
       "    <tr>\n",
       "      <th>7042</th>\n",
       "      <td>6819</td>\n",
       "      <td>Female</td>\n",
       "      <td>0</td>\n",
       "      <td>No</td>\n",
       "      <td>No</td>\n",
       "      <td>3</td>\n",
       "      <td>Yes</td>\n",
       "      <td>No</td>\n",
       "      <td>DSL</td>\n",
       "      <td>Yes</td>\n",
       "      <td>...</td>\n",
       "      <td>No</td>\n",
       "      <td>Yes</td>\n",
       "      <td>No</td>\n",
       "      <td>Yes</td>\n",
       "      <td>Two year</td>\n",
       "      <td>No</td>\n",
       "      <td>Mailed check</td>\n",
       "      <td>71.10</td>\n",
       "      <td>213.35</td>\n",
       "      <td>No</td>\n",
       "    </tr>\n",
       "  </tbody>\n",
       "</table>\n",
       "<p>7043 rows × 21 columns</p>\n",
       "</div>"
      ],
      "text/plain": [
       "      customerID  gender  SeniorCitizen Partner Dependents  tenure  \\\n",
       "0            148    Male              0      No         No       1   \n",
       "1            463    Male              0     Yes        Yes       4   \n",
       "2            471  Female              1      No         No      17   \n",
       "3            496    Male              0      No         No      22   \n",
       "4            833  Female              0     Yes        Yes      70   \n",
       "...          ...     ...            ...     ...        ...     ...   \n",
       "7038        6490    Male              0      No         No       1   \n",
       "7039        6634  Female              0      No         No       1   \n",
       "7040        6638    Male              0     Yes         No      69   \n",
       "7041        6721    Male              0     Yes        Yes      70   \n",
       "7042        6819  Female              0      No         No       3   \n",
       "\n",
       "     PhoneService     MultipleLines InternetService       OnlineSecurity  ...  \\\n",
       "0             Yes                No             DSL                   No  ...   \n",
       "1             Yes               Yes     Fiber optic                   No  ...   \n",
       "2             Yes                No              No  No internet service  ...   \n",
       "3              No  No phone service             DSL                   No  ...   \n",
       "4             Yes                No             DSL                  Yes  ...   \n",
       "...           ...               ...             ...                  ...  ...   \n",
       "7038          Yes                No              No  No internet service  ...   \n",
       "7039          Yes               Yes     Fiber optic                   No  ...   \n",
       "7040          Yes                No             DSL                  Yes  ...   \n",
       "7041          Yes               Yes             DSL                   No  ...   \n",
       "7042          Yes                No             DSL                  Yes  ...   \n",
       "\n",
       "         DeviceProtection          TechSupport          StreamingTV  \\\n",
       "0                      No                   No                   No   \n",
       "1                     Yes                   No                  Yes   \n",
       "2     No internet service  No internet service  No internet service   \n",
       "3                     Yes                   No                   No   \n",
       "4                     Yes                  Yes                   No   \n",
       "...                   ...                  ...                  ...   \n",
       "7038  No internet service  No internet service  No internet service   \n",
       "7039                   No                   No                   No   \n",
       "7040                   No                   No                   No   \n",
       "7041                  Yes                  Yes                  Yes   \n",
       "7042                   No                  Yes                   No   \n",
       "\n",
       "          StreamingMovies        Contract PaperlessBilling  \\\n",
       "0                      No  Month-to-month              Yes   \n",
       "1                     Yes  Month-to-month               No   \n",
       "2     No internet service        One year               No   \n",
       "3                     Yes        One year              Yes   \n",
       "4                     Yes        One year               No   \n",
       "...                   ...             ...              ...   \n",
       "7038  No internet service  Month-to-month              Yes   \n",
       "7039                   No  Month-to-month              Yes   \n",
       "7040                   No        One year              Yes   \n",
       "7041                  Yes        Two year              Yes   \n",
       "7042                  Yes        Two year               No   \n",
       "\n",
       "                  PaymentMethod MonthlyCharges  TotalCharges  Churn  \n",
       "0              Electronic check          45.65         45.65    Yes  \n",
       "1              Electronic check         101.15        385.90    Yes  \n",
       "2                  Mailed check          20.65        330.60     No  \n",
       "3     Bank transfer (automatic)          43.75        903.60    Yes  \n",
       "4       Credit card (automatic)          74.10       5222.30     No  \n",
       "...                         ...            ...           ...    ...  \n",
       "7038               Mailed check          18.85         18.85    Yes  \n",
       "7039           Electronic check          74.50         74.50    Yes  \n",
       "7040    Credit card (automatic)          53.65       3804.40     No  \n",
       "7041           Electronic check          84.10       5979.70     No  \n",
       "7042               Mailed check          71.10        213.35     No  \n",
       "\n",
       "[7043 rows x 21 columns]"
      ]
     },
     "execution_count": 6,
     "metadata": {},
     "output_type": "execute_result"
    }
   ],
   "source": [
    "df"
   ]
  },
  {
   "cell_type": "code",
   "execution_count": 7,
   "metadata": {
    "tags": []
   },
   "outputs": [
    {
     "name": "stdout",
     "output_type": "stream",
     "text": [
      "<class 'pandas.core.frame.DataFrame'>\n",
      "RangeIndex: 7043 entries, 0 to 7042\n",
      "Data columns (total 21 columns):\n",
      " #   Column            Non-Null Count  Dtype  \n",
      "---  ------            --------------  -----  \n",
      " 0   customerID        7043 non-null   int64  \n",
      " 1   gender            7043 non-null   object \n",
      " 2   SeniorCitizen     7043 non-null   int64  \n",
      " 3   Partner           7043 non-null   object \n",
      " 4   Dependents        7043 non-null   object \n",
      " 5   tenure            7043 non-null   int64  \n",
      " 6   PhoneService      7043 non-null   object \n",
      " 7   MultipleLines     7043 non-null   object \n",
      " 8   InternetService   7043 non-null   object \n",
      " 9   OnlineSecurity    7043 non-null   object \n",
      " 10  OnlineBackup      7043 non-null   object \n",
      " 11  DeviceProtection  7043 non-null   object \n",
      " 12  TechSupport       7043 non-null   object \n",
      " 13  StreamingTV       7043 non-null   object \n",
      " 14  StreamingMovies   7043 non-null   object \n",
      " 15  Contract          7043 non-null   object \n",
      " 16  PaperlessBilling  7043 non-null   object \n",
      " 17  PaymentMethod     7043 non-null   object \n",
      " 18  MonthlyCharges    7043 non-null   float64\n",
      " 19  TotalCharges      7032 non-null   float64\n",
      " 20  Churn             7043 non-null   object \n",
      "dtypes: float64(2), int64(3), object(16)\n",
      "memory usage: 1.1+ MB\n"
     ]
    }
   ],
   "source": [
    "df.info()"
   ]
  },
  {
   "cell_type": "markdown",
   "metadata": {},
   "source": [
    "Apparently, there are no missing values. But there is clearly an error. ‘Total Charges’ should be numeric. We can use pd.to_numeric to convert it."
   ]
  },
  {
   "cell_type": "code",
   "execution_count": 8,
   "metadata": {
    "tags": []
   },
   "outputs": [
    {
     "data": {
      "text/plain": [
       "dtype('float64')"
      ]
     },
     "execution_count": 8,
     "metadata": {},
     "output_type": "execute_result"
    }
   ],
   "source": [
    "df['TotalCharges'] = pd.to_numeric(df['TotalCharges'], errors='coerce')\n",
    "df['TotalCharges'].dtype"
   ]
  },
  {
   "cell_type": "markdown",
   "metadata": {},
   "source": [
    "After changing a column from string to numeric, some values may not be recognized, resulting in missing values. Let’s check if this happened."
   ]
  },
  {
   "cell_type": "code",
   "execution_count": 9,
   "metadata": {
    "tags": []
   },
   "outputs": [
    {
     "data": {
      "text/plain": [
       "11"
      ]
     },
     "execution_count": 9,
     "metadata": {},
     "output_type": "execute_result"
    }
   ],
   "source": [
    "df['TotalCharges'].isnull().sum()"
   ]
  },
  {
   "cell_type": "markdown",
   "metadata": {},
   "source": [
    "Now there are supposedly 11 missing values, but they might indicate that there were no charges for that customer up to the point when the data was obtained. The feature 'tenure' indicates for how long someone has been a customer. Let's check the number of samples with value '0' on that feature and, in case we also find 11 customers, compare if their index match those from the 'missing' values."
   ]
  },
  {
   "cell_type": "code",
   "execution_count": 10,
   "metadata": {
    "tags": []
   },
   "outputs": [
    {
     "data": {
      "text/plain": [
       "11"
      ]
     },
     "execution_count": 10,
     "metadata": {},
     "output_type": "execute_result"
    }
   ],
   "source": [
    "df['tenure'].isin([0]).sum()"
   ]
  },
  {
   "cell_type": "code",
   "execution_count": 11,
   "metadata": {
    "tags": []
   },
   "outputs": [
    {
     "name": "stdout",
     "output_type": "stream",
     "text": [
      "Int64Index([768, 928, 1783, 2177, 2332, 2424, 2483, 2540, 2905, 2985, 4924], dtype='int64')\n",
      "Int64Index([768, 928, 1783, 2177, 2332, 2424, 2483, 2540, 2905, 2985, 4924], dtype='int64')\n"
     ]
    }
   ],
   "source": [
    "print(df[df['tenure'].isin([0])].index)\n",
    "print(df[df['TotalCharges'].isna()].index)"
   ]
  },
  {
   "cell_type": "markdown",
   "metadata": {},
   "source": [
    "We got a match here. After confirming our suspects, we can replace those missing values with '0'."
   ]
  },
  {
   "cell_type": "code",
   "execution_count": 12,
   "metadata": {
    "tags": []
   },
   "outputs": [
    {
     "data": {
      "text/plain": [
       "0"
      ]
     },
     "execution_count": 12,
     "metadata": {},
     "output_type": "execute_result"
    }
   ],
   "source": [
    "df.loc[:,'TotalCharges'] = df.loc[:,'TotalCharges'].replace(np.nan,0)\n",
    "df['TotalCharges'].isnull().sum()"
   ]
  },
  {
   "cell_type": "markdown",
   "metadata": {},
   "source": [
    "The feature 'Senior Citizen', which is categorical ('Yes' or 'No'), is set as numeric. Although all features will be changed to numeric to be used in our prediction models, I'll convert it from numeric to string for now."
   ]
  },
  {
   "cell_type": "code",
   "execution_count": 13,
   "metadata": {
    "tags": []
   },
   "outputs": [
    {
     "name": "stdout",
     "output_type": "stream",
     "text": [
      "<class 'pandas.core.frame.DataFrame'>\n",
      "RangeIndex: 7043 entries, 0 to 7042\n",
      "Data columns (total 21 columns):\n",
      " #   Column            Non-Null Count  Dtype  \n",
      "---  ------            --------------  -----  \n",
      " 0   customerID        7043 non-null   int64  \n",
      " 1   gender            7043 non-null   object \n",
      " 2   SeniorCitizen     7043 non-null   object \n",
      " 3   Partner           7043 non-null   object \n",
      " 4   Dependents        7043 non-null   object \n",
      " 5   tenure            7043 non-null   int64  \n",
      " 6   PhoneService      7043 non-null   object \n",
      " 7   MultipleLines     7043 non-null   object \n",
      " 8   InternetService   7043 non-null   object \n",
      " 9   OnlineSecurity    7043 non-null   object \n",
      " 10  OnlineBackup      7043 non-null   object \n",
      " 11  DeviceProtection  7043 non-null   object \n",
      " 12  TechSupport       7043 non-null   object \n",
      " 13  StreamingTV       7043 non-null   object \n",
      " 14  StreamingMovies   7043 non-null   object \n",
      " 15  Contract          7043 non-null   object \n",
      " 16  PaperlessBilling  7043 non-null   object \n",
      " 17  PaymentMethod     7043 non-null   object \n",
      " 18  MonthlyCharges    7043 non-null   float64\n",
      " 19  TotalCharges      7043 non-null   float64\n",
      " 20  Churn             7043 non-null   object \n",
      "dtypes: float64(2), int64(2), object(17)\n",
      "memory usage: 1.1+ MB\n"
     ]
    }
   ],
   "source": [
    "df['SeniorCitizen'] = df['SeniorCitizen'].apply(str)\n",
    "senior_map = {'0': 'No', '1': 'Yes'}\n",
    "df['SeniorCitizen'] = df['SeniorCitizen'].map(senior_map)\n",
    "\n",
    "df.info()"
   ]
  },
  {
   "cell_type": "markdown",
   "metadata": {},
   "source": [
    "Let's finish this section by checking the possible values of categorical features and viewing descriptive statistics (df.describe) for numerical features."
   ]
  },
  {
   "cell_type": "code",
   "execution_count": 14,
   "metadata": {
    "tags": []
   },
   "outputs": [
    {
     "name": "stdout",
     "output_type": "stream",
     "text": [
      "gender - # unique values: 2\n",
      "SeniorCitizen - # unique values: 2\n",
      "Partner - # unique values: 2\n",
      "Dependents - # unique values: 2\n",
      "PhoneService - # unique values: 2\n",
      "MultipleLines - # unique values: 3\n",
      "InternetService - # unique values: 3\n",
      "OnlineSecurity - # unique values: 3\n",
      "OnlineBackup - # unique values: 3\n",
      "DeviceProtection - # unique values: 3\n",
      "TechSupport - # unique values: 3\n",
      "StreamingTV - # unique values: 3\n",
      "StreamingMovies - # unique values: 3\n",
      "Contract - # unique values: 3\n",
      "PaperlessBilling - # unique values: 2\n",
      "PaymentMethod - # unique values: 4\n",
      "Churn - # unique values: 2\n"
     ]
    }
   ],
   "source": [
    "for col in df.select_dtypes('object').columns:\n",
    "    print(col, '- # unique values:', df[col].nunique())"
   ]
  },
  {
   "cell_type": "code",
   "execution_count": 15,
   "metadata": {
    "tags": []
   },
   "outputs": [
    {
     "name": "stdout",
     "output_type": "stream",
     "text": [
      "gender \n",
      "\n",
      "Male      3555\n",
      "Female    3488\n",
      "Name: gender, dtype: int64 \n",
      "\n",
      "SeniorCitizen \n",
      "\n",
      "No     5901\n",
      "Yes    1142\n",
      "Name: SeniorCitizen, dtype: int64 \n",
      "\n",
      "Partner \n",
      "\n",
      "No     3641\n",
      "Yes    3402\n",
      "Name: Partner, dtype: int64 \n",
      "\n",
      "Dependents \n",
      "\n",
      "No     4933\n",
      "Yes    2110\n",
      "Name: Dependents, dtype: int64 \n",
      "\n",
      "PhoneService \n",
      "\n",
      "Yes    6361\n",
      "No      682\n",
      "Name: PhoneService, dtype: int64 \n",
      "\n",
      "MultipleLines \n",
      "\n",
      "No                  3390\n",
      "Yes                 2971\n",
      "No phone service     682\n",
      "Name: MultipleLines, dtype: int64 \n",
      "\n",
      "InternetService \n",
      "\n",
      "Fiber optic    3096\n",
      "DSL            2421\n",
      "No             1526\n",
      "Name: InternetService, dtype: int64 \n",
      "\n",
      "OnlineSecurity \n",
      "\n",
      "No                     3498\n",
      "Yes                    2019\n",
      "No internet service    1526\n",
      "Name: OnlineSecurity, dtype: int64 \n",
      "\n",
      "OnlineBackup \n",
      "\n",
      "No                     3088\n",
      "Yes                    2429\n",
      "No internet service    1526\n",
      "Name: OnlineBackup, dtype: int64 \n",
      "\n",
      "DeviceProtection \n",
      "\n",
      "No                     3095\n",
      "Yes                    2422\n",
      "No internet service    1526\n",
      "Name: DeviceProtection, dtype: int64 \n",
      "\n",
      "TechSupport \n",
      "\n",
      "No                     3473\n",
      "Yes                    2044\n",
      "No internet service    1526\n",
      "Name: TechSupport, dtype: int64 \n",
      "\n",
      "StreamingTV \n",
      "\n",
      "No                     2810\n",
      "Yes                    2707\n",
      "No internet service    1526\n",
      "Name: StreamingTV, dtype: int64 \n",
      "\n",
      "StreamingMovies \n",
      "\n",
      "No                     2785\n",
      "Yes                    2732\n",
      "No internet service    1526\n",
      "Name: StreamingMovies, dtype: int64 \n",
      "\n",
      "Contract \n",
      "\n",
      "Month-to-month    3875\n",
      "Two year          1695\n",
      "One year          1473\n",
      "Name: Contract, dtype: int64 \n",
      "\n",
      "PaperlessBilling \n",
      "\n",
      "Yes    4171\n",
      "No     2872\n",
      "Name: PaperlessBilling, dtype: int64 \n",
      "\n",
      "PaymentMethod \n",
      "\n",
      "Electronic check             2365\n",
      "Mailed check                 1612\n",
      "Bank transfer (automatic)    1544\n",
      "Credit card (automatic)      1522\n",
      "Name: PaymentMethod, dtype: int64 \n",
      "\n",
      "Churn \n",
      "\n",
      "No     5174\n",
      "Yes    1869\n",
      "Name: Churn, dtype: int64 \n",
      "\n"
     ]
    }
   ],
   "source": [
    "for col in df.select_dtypes('object').columns:\n",
    "    print(col, '\\n')\n",
    "    print(df[col].value_counts(), '\\n')"
   ]
  },
  {
   "cell_type": "code",
   "execution_count": 17,
   "metadata": {
    "tags": []
   },
   "outputs": [
    {
     "data": {
      "text/html": [
       "<div>\n",
       "<style scoped>\n",
       "    .dataframe tbody tr th:only-of-type {\n",
       "        vertical-align: middle;\n",
       "    }\n",
       "\n",
       "    .dataframe tbody tr th {\n",
       "        vertical-align: top;\n",
       "    }\n",
       "\n",
       "    .dataframe thead th {\n",
       "        text-align: right;\n",
       "    }\n",
       "</style>\n",
       "<table border=\"1\" class=\"dataframe\">\n",
       "  <thead>\n",
       "    <tr style=\"text-align: right;\">\n",
       "      <th></th>\n",
       "      <th>count</th>\n",
       "      <th>mean</th>\n",
       "      <th>std</th>\n",
       "      <th>min</th>\n",
       "      <th>25%</th>\n",
       "      <th>50%</th>\n",
       "      <th>75%</th>\n",
       "      <th>max</th>\n",
       "    </tr>\n",
       "  </thead>\n",
       "  <tbody>\n",
       "    <tr>\n",
       "      <th>customerID</th>\n",
       "      <td>7043.0</td>\n",
       "      <td>3522.000000</td>\n",
       "      <td>2033.283305</td>\n",
       "      <td>1.00</td>\n",
       "      <td>1761.50</td>\n",
       "      <td>3522.00</td>\n",
       "      <td>5282.50</td>\n",
       "      <td>7043.00</td>\n",
       "    </tr>\n",
       "    <tr>\n",
       "      <th>tenure</th>\n",
       "      <td>7043.0</td>\n",
       "      <td>32.371149</td>\n",
       "      <td>24.559481</td>\n",
       "      <td>0.00</td>\n",
       "      <td>9.00</td>\n",
       "      <td>29.00</td>\n",
       "      <td>55.00</td>\n",
       "      <td>72.00</td>\n",
       "    </tr>\n",
       "    <tr>\n",
       "      <th>MonthlyCharges</th>\n",
       "      <td>7043.0</td>\n",
       "      <td>64.761692</td>\n",
       "      <td>30.090047</td>\n",
       "      <td>18.25</td>\n",
       "      <td>35.50</td>\n",
       "      <td>70.35</td>\n",
       "      <td>89.85</td>\n",
       "      <td>118.75</td>\n",
       "    </tr>\n",
       "    <tr>\n",
       "      <th>TotalCharges</th>\n",
       "      <td>7043.0</td>\n",
       "      <td>2279.734304</td>\n",
       "      <td>2266.794470</td>\n",
       "      <td>0.00</td>\n",
       "      <td>398.55</td>\n",
       "      <td>1394.55</td>\n",
       "      <td>3786.60</td>\n",
       "      <td>8684.80</td>\n",
       "    </tr>\n",
       "  </tbody>\n",
       "</table>\n",
       "</div>"
      ],
      "text/plain": [
       "                 count         mean          std    min      25%      50%  \\\n",
       "customerID      7043.0  3522.000000  2033.283305   1.00  1761.50  3522.00   \n",
       "tenure          7043.0    32.371149    24.559481   0.00     9.00    29.00   \n",
       "MonthlyCharges  7043.0    64.761692    30.090047  18.25    35.50    70.35   \n",
       "TotalCharges    7043.0  2279.734304  2266.794470   0.00   398.55  1394.55   \n",
       "\n",
       "                    75%      max  \n",
       "customerID      5282.50  7043.00  \n",
       "tenure            55.00    72.00  \n",
       "MonthlyCharges    89.85   118.75  \n",
       "TotalCharges    3786.60  8684.80  "
      ]
     },
     "execution_count": 17,
     "metadata": {},
     "output_type": "execute_result"
    }
   ],
   "source": [
    "df.describe().T"
   ]
  },
  {
   "cell_type": "markdown",
   "metadata": {},
   "source": [
    "# <a id=\"3\">Exploratory Data Analysis</a> "
   ]
  },
  {
   "cell_type": "markdown",
   "metadata": {},
   "source": [
    "We will start our EDA by looking at the distribution of the target variable (Churn). It’s expected that the dataset is imbalanced, with less than 50% of the customers leaving the company"
   ]
  },
  {
   "cell_type": "markdown",
   "metadata": {},
   "source": [
    "## Churn"
   ]
  },
  {
   "cell_type": "code",
   "execution_count": 18,
   "metadata": {
    "_kg_hide-input": true,
    "tags": []
   },
   "outputs": [
    {
     "data": {
      "image/png": "[encoded data removed]",
      "text/plain": [
       "<Figure size 432x288 with 1 Axes>"
      ]
     },
     "metadata": {
      "needs_background": "light"
     },
     "output_type": "display_data"
    }
   ],
   "source": [
    "plt.figure(figsize=(6,4))\n",
    "\n",
    "ax = sns.countplot(x=\"Churn\", data=df, palette=\"rocket\")\n",
    "\n",
    "plt.xlabel(\"Churn?\", fontsize= 12)\n",
    "plt.ylabel(\"# of Clients\", fontsize= 12)\n",
    "plt.ylim(0,7500)\n",
    "plt.xticks([0,1], ['No', 'Yes'], fontsize = 11)\n",
    "\n",
    "for p in ax.patches:\n",
    "    ax.annotate((p.get_height()), (p.get_x()+0.30, p.get_height()+300), fontsize = 14)\n",
    "    \n",
    "plt.show()"
   ]
  },
  {
   "cell_type": "code",
   "execution_count": 19,
   "metadata": {
    "_kg_hide-input": true,
    "tags": []
   },
   "outputs": [
    {
     "data": {
      "image/png": "[encoded data removed]",
      "text/plain": [
       "<Figure size 504x360 with 1 Axes>"
      ]
     },
     "metadata": {},
     "output_type": "display_data"
    }
   ],
   "source": [
    "plt.figure(figsize=(7,5))\n",
    "\n",
    "df['Churn'].value_counts().plot(kind='pie',labels = ['',''], autopct='%1.1f%%', colors = ['indigo','salmon'], explode = [0,0.05], textprops = {\"fontsize\":15})\n",
    "\n",
    "plt.legend(labels=['No Churn', 'Churn'])\n",
    "plt.show()"
   ]
  },
  {
   "cell_type": "markdown",
   "metadata": {},
   "source": [
    "At the period represented in this dataset, there is a 26,5% of customer churn. As we move on to analyze the features, we can compare this number with the percentage of churn found for each category, providing us a better idea on the impact of a given feature in the company’s ability to retain its customers."
   ]
  },
  {
   "cell_type": "code",
   "execution_count": 20,
   "metadata": {
    "_kg_hide-input": true,
    "_kg_hide-output": true,
    "tags": []
   },
   "outputs": [
    {
     "data": {
      "text/plain": [
       "0    5174\n",
       "1    1869\n",
       "Name: Churn, dtype: int64"
      ]
     },
     "execution_count": 20,
     "metadata": {},
     "output_type": "execute_result"
    }
   ],
   "source": [
    "#Label encoding Churn to use sns.barplot\n",
    "le = LabelEncoder()\n",
    "df['Churn'] = le.fit_transform(df['Churn'])\n",
    "df['Churn'].value_counts()"
   ]
  },
  {
   "cell_type": "markdown",
   "metadata": {},
   "source": [
    "We can divide the features into the following groups:\n",
    "- Demographic features;\n",
    "- Services related features\n",
    "- Account information related features (categorical and numerical).\n",
    "\n",
    "For each group, we’ll start by looking at the features’ distributions. Then, we’ll check the percentage of churn for each category to understand their relationship with the target."
   ]
  },
  {
   "cell_type": "code",
   "execution_count": 21,
   "metadata": {
    "_kg_hide-input": true,
    "tags": []
   },
   "outputs": [],
   "source": [
    "demo_features = ['gender', 'SeniorCitizen', 'Partner', 'Dependents']\n",
    "\n",
    "serv_features = ['PhoneService', 'MultipleLines', 'InternetService', 'OnlineSecurity', 'OnlineBackup'\n",
    "                , 'DeviceProtection', 'TechSupport', 'StreamingTV', 'StreamingMovies']\n",
    "\n",
    "cat_accinfo_features = ['Contract', 'PaperlessBilling', 'PaymentMethod']\n",
    "\n",
    "num_accinfo_features = ['tenure', 'MonthlyCharges', 'TotalCharges']"
   ]
  },
  {
   "cell_type": "markdown",
   "metadata": {},
   "source": [
    "## <a id=\"31\">Demographic Features</a> "
   ]
  },
  {
   "cell_type": "code",
   "execution_count": 22,
   "metadata": {
    "_kg_hide-input": true,
    "tags": []
   },
   "outputs": [
    {
     "data": {
      "image/png": "[encoded data removed]",
      "text/plain": [
       "<Figure size 1296x864 with 4 Axes>"
      ]
     },
     "metadata": {
      "needs_background": "light"
     },
     "output_type": "display_data"
    }
   ],
   "source": [
    "plt.figure(figsize=(18,12))\n",
    "\n",
    "for i,col in enumerate(demo_features):    \n",
    "    plt.subplot(2,2,i + 1)\n",
    "    \n",
    "    ax = sns.countplot(data = df, x = col, palette = 'rocket')\n",
    "\n",
    "    plt.xlabel(col, fontsize= 14)\n",
    "    plt.ylabel(\"# of Clients\", fontsize= 13)\n",
    "    plt.ylim(0,7000)\n",
    "    plt.xticks(fontsize= 15)\n",
    "    plt.yticks(fontsize= 14)\n",
    "\n",
    "    for p in ax.patches:\n",
    "        ax.annotate((p.get_height()), (p.get_x()+0.32, p.get_height()+300), fontsize= 16)\n",
    "\n",
    "plt.tight_layout()\n",
    "\n",
    "plt.show()"
   ]
  },
  {
   "cell_type": "code",
   "execution_count": 19,
   "metadata": {
    "_kg_hide-input": true,
    "execution": {
     "iopub.execute_input": "2021-09-28T04:31:38.078035Z",
     "iopub.status.busy": "2021-09-28T04:31:38.077630Z",
     "iopub.status.idle": "2021-09-28T04:31:39.046649Z",
     "shell.execute_reply": "2021-09-28T04:31:39.045717Z",
     "shell.execute_reply.started": "2021-09-28T04:31:38.078005Z"
    }
   },
   "outputs": [],
   "source": [
    "plt.figure(figsize=(18,12))\n",
    "\n",
    "for i,col in enumerate(demo_features):    \n",
    "    plt.subplot(2,2,i + 1)\n",
    "    \n",
    "    ax = sns.countplot(data = df, x = col, hue=\"Churn\", palette = 'rocket')\n",
    "\n",
    "    plt.xlabel(col, fontsize= 14)\n",
    "    plt.ylabel(\"# of Clients\", fontsize= 13)\n",
    "    plt.ylim(0,7000)\n",
    "    plt.xticks(fontsize= 14)\n",
    "\n",
    "    for p in ax.patches:\n",
    "        ax.annotate((p.get_height()), (p.get_x()+0.14, p.get_height()+300), fontsize= 14)\n",
    "\n",
    "plt.tight_layout()\n",
    "\n",
    "plt.show()"
   ]
  },
  {
   "cell_type": "code",
   "execution_count": 20,
   "metadata": {
    "_kg_hide-input": true,
    "execution": {
     "iopub.execute_input": "2021-09-28T04:31:39.049469Z",
     "iopub.status.busy": "2021-09-28T04:31:39.049026Z",
     "iopub.status.idle": "2021-09-28T04:31:39.612729Z",
     "shell.execute_reply": "2021-09-28T04:31:39.611417Z",
     "shell.execute_reply.started": "2021-09-28T04:31:39.049424Z"
    }
   },
   "outputs": [],
   "source": [
    "plt.figure(figsize=(16,10))\n",
    "\n",
    "for i,col in enumerate(demo_features):    \n",
    "    plt.subplot(2,2,i + 1)\n",
    "    \n",
    "    ax = sns.barplot(x = col, y = \"Churn\", data = df, palette = 'rocket', ci = None)\n",
    "\n",
    "    plt.xlabel(col, fontsize= 14)\n",
    "    plt.ylabel(\"% of Churn\", fontsize= 13)\n",
    "    plt.ylim(0,0.5)\n",
    "    plt.xticks(fontsize= 14)\n",
    "\n",
    "    for p in ax.patches:\n",
    "        ax.annotate(\"%.2f\" %(p.get_height()), (p.get_x()+0.35, p.get_height()+0.03),fontsize=15)\n",
    "\n",
    "plt.tight_layout()\n",
    "\n",
    "plt.show()"
   ]
  },
  {
   "cell_type": "markdown",
   "metadata": {},
   "source": [
    "What we can observe for each feature:\n",
    "- Gender: There is barely any difference in churn percentage between men and women;\n",
    "- Senior Citizen: The churn percentage for senior customers are above 40%, indicating a high likelihood of churn from that group;\n",
    "- Partner: Single customers are more likely to churn than customers with partners;\n",
    "- Dependents: Customers with dependents are less likely to churn than customers without any dependents.\n",
    "\n",
    "We could go a little further and combine the two ‘family-related’ features, ‘Partner’ and ‘Dependents’ to see if, in fact, both of them contribute to the chance of customer churn or retention.\n",
    "\n",
    "It is expected that the majority of customers with dependents are married and, for instance, it could be that the partnership has more influence on the target than the fact that a customer has or hasn’t a child.  Although this might be unlikely, by analyzing both features together, we can discard such hypothesis with more confidence."
   ]
  },
  {
   "cell_type": "code",
   "execution_count": 21,
   "metadata": {
    "execution": {
     "iopub.execute_input": "2021-09-28T04:31:39.614692Z",
     "iopub.status.busy": "2021-09-28T04:31:39.614296Z",
     "iopub.status.idle": "2021-09-28T04:31:39.627850Z",
     "shell.execute_reply": "2021-09-28T04:31:39.627003Z",
     "shell.execute_reply.started": "2021-09-28T04:31:39.614649Z"
    }
   },
   "outputs": [],
   "source": [
    "df.groupby(['Partner'])['Dependents'].value_counts()"
   ]
  },
  {
   "cell_type": "markdown",
   "metadata": {},
   "source": [
    "As expected, most customers with dependents also have a partner. Yet, the number of single customers with dependents seems significant enough for us to draw some conclusions about this particular group."
   ]
  },
  {
   "cell_type": "code",
   "execution_count": 22,
   "metadata": {
    "execution": {
     "iopub.execute_input": "2021-09-28T04:31:39.629758Z",
     "iopub.status.busy": "2021-09-28T04:31:39.629282Z",
     "iopub.status.idle": "2021-09-28T04:31:39.643817Z",
     "shell.execute_reply": "2021-09-28T04:31:39.642707Z",
     "shell.execute_reply.started": "2021-09-28T04:31:39.629724Z"
    }
   },
   "outputs": [],
   "source": [
    "df.groupby(by=['Partner', 'Dependents'])['Churn'].value_counts(normalize = True)"
   ]
  },
  {
   "cell_type": "code",
   "execution_count": 23,
   "metadata": {
    "_kg_hide-input": true,
    "execution": {
     "iopub.execute_input": "2021-09-28T04:31:39.648757Z",
     "iopub.status.busy": "2021-09-28T04:31:39.648443Z",
     "iopub.status.idle": "2021-09-28T04:31:39.827759Z",
     "shell.execute_reply": "2021-09-28T04:31:39.826663Z",
     "shell.execute_reply.started": "2021-09-28T04:31:39.648726Z"
    }
   },
   "outputs": [],
   "source": [
    "plt.figure(figsize=(12,4))\n",
    "\n",
    "ax = sns.barplot(x = \"Dependents\", y = \"Churn\", hue = \"Partner\", data = df, palette = 'rocket', ci = None)\n",
    "\n",
    "plt.ylabel(\"% of Churn\", fontsize= 12)\n",
    "plt.ylim(0,0.5)\n",
    "\n",
    "for p in ax.patches:\n",
    "    ax.annotate(\"%.2f\" %(p.get_height()), (p.get_x()+0.15, p.get_height()+0.03),fontsize=14)\n",
    "\n",
    "plt.show()"
   ]
  },
  {
   "cell_type": "markdown",
   "metadata": {},
   "source": [
    "We can see that both features contribute to the likelihood of churn. The group of people with partners and dependents and the group with neither of those are on the extremes in terms of likelihood of churn (14% and 34%, respectively). The churn of customers with partners and without dependents falls close to the overall percentage of churn in our dataset, while the ‘opposite’ group still have a lower chance of it."
   ]
  },
  {
   "cell_type": "markdown",
   "metadata": {},
   "source": [
    "## <a id=\"32\">Services Related Features</a> "
   ]
  },
  {
   "cell_type": "code",
   "execution_count": 24,
   "metadata": {
    "_kg_hide-input": true,
    "execution": {
     "iopub.execute_input": "2021-09-28T04:31:39.830744Z",
     "iopub.status.busy": "2021-09-28T04:31:39.830398Z",
     "iopub.status.idle": "2021-09-28T04:31:41.371738Z",
     "shell.execute_reply": "2021-09-28T04:31:41.370753Z",
     "shell.execute_reply.started": "2021-09-28T04:31:39.830712Z"
    }
   },
   "outputs": [],
   "source": [
    "plt.figure(figsize=(18,30))\n",
    "\n",
    "for i,col in enumerate(serv_features):    \n",
    "    plt.subplot(5,2,i + 1)\n",
    "    \n",
    "    ax = sns.countplot(data = df, x = col, palette = 'rocket')\n",
    "\n",
    "    plt.xlabel(col, fontsize= 14)\n",
    "    plt.ylabel(\"# of Clients\", fontsize= 13)\n",
    "    plt.ylim(0,7500)\n",
    "    plt.xticks(fontsize= 15)\n",
    "    plt.yticks(fontsize= 14)\n",
    "\n",
    "    for p in ax.patches:\n",
    "        ax.annotate((p.get_height()), (p.get_x()+0.31, p.get_height()+300), fontsize= 16)\n",
    "\n",
    "plt.tight_layout()\n",
    "\n",
    "plt.show()"
   ]
  },
  {
   "cell_type": "markdown",
   "metadata": {},
   "source": [
    "A relatively small group of customers doesn’t have internet services and an even smaller one doesn’t have phone services. One thing to keep in mind is that most services can be and/or are only provided to customers who sign the Telco’s internet service."
   ]
  },
  {
   "cell_type": "code",
   "execution_count": 25,
   "metadata": {
    "_kg_hide-input": true,
    "execution": {
     "iopub.execute_input": "2021-09-28T04:31:41.373460Z",
     "iopub.status.busy": "2021-09-28T04:31:41.373150Z",
     "iopub.status.idle": "2021-09-28T04:31:43.516569Z",
     "shell.execute_reply": "2021-09-28T04:31:43.515704Z",
     "shell.execute_reply.started": "2021-09-28T04:31:41.373430Z"
    }
   },
   "outputs": [],
   "source": [
    "plt.figure(figsize=(18,30))\n",
    "\n",
    "for i,col in enumerate(serv_features):    \n",
    "    plt.subplot(5,2,i + 1)\n",
    "    \n",
    "    ax = sns.countplot(data = df, x = col, hue=\"Churn\", palette = 'rocket')\n",
    "\n",
    "    plt.xlabel(col, fontsize= 14)\n",
    "    plt.ylabel(\"# of Clients\", fontsize= 13)\n",
    "    plt.ylim(0,7000)\n",
    "    plt.xticks(fontsize= 14)\n",
    "\n",
    "    for p in ax.patches:\n",
    "        ax.annotate((p.get_height()), (p.get_x()+0.12, p.get_height()+300), fontsize= 13)\n",
    "\n",
    "plt.tight_layout()\n",
    "\n",
    "plt.show()"
   ]
  },
  {
   "cell_type": "code",
   "execution_count": 26,
   "metadata": {
    "_kg_hide-input": true,
    "execution": {
     "iopub.execute_input": "2021-09-28T04:31:43.518016Z",
     "iopub.status.busy": "2021-09-28T04:31:43.517589Z",
     "iopub.status.idle": "2021-09-28T04:31:44.817390Z",
     "shell.execute_reply": "2021-09-28T04:31:44.816320Z",
     "shell.execute_reply.started": "2021-09-28T04:31:43.517986Z"
    }
   },
   "outputs": [],
   "source": [
    "plt.figure(figsize=(16,25))\n",
    "\n",
    "for i,col in enumerate(serv_features):    \n",
    "    plt.subplot(5,2,i + 1)\n",
    "    \n",
    "    ax = sns.barplot(x = col, y = \"Churn\", data = df, palette = 'rocket', ci = None)\n",
    "\n",
    "    plt.xlabel(col, fontsize= 14)\n",
    "    plt.ylabel(\"% of Churn\", fontsize= 13)\n",
    "    plt.ylim(0,0.5)\n",
    "    plt.xticks(fontsize= 14)\n",
    "\n",
    "    for p in ax.patches:\n",
    "        ax.annotate(\"%.2f\" %(p.get_height()), (p.get_x()+0.32, p.get_height()+0.03),fontsize=15)\n",
    "\n",
    "plt.tight_layout()\n",
    "\n",
    "plt.show()"
   ]
  },
  {
   "cell_type": "markdown",
   "metadata": {},
   "source": [
    "Curiously enough, the difference of churn between clients with and without phone services is quite small, been negligible if we take those with multiple lines out of equation. In this group of features, the real game-changing ones in terms of customer retainment are those related to internet services.\n",
    "\n",
    "In the feature ‘InternetServices’, the percentage of churn in each category is highly different one from another. Those who don’t subscribe to the company’s internet (presumably, they only use their phone service), are the most likely to endure as their customers. The likelihood of churn from customers with DSL service is also smaller than the overall probability. \n",
    "\n",
    "The highest percentage of churn, with over 40%, is from customers with fiber optic internet. Fiber optic tends to be faster than DSL internet, but their subscription is usually more expensive as well. We don't have the information about the fee for each service, but at least we can find the mean value of monthly charges per type of internet just to have an idea that this is the case.\n"
   ]
  },
  {
   "cell_type": "code",
   "execution_count": 27,
   "metadata": {
    "execution": {
     "iopub.execute_input": "2021-09-28T04:31:44.818945Z",
     "iopub.status.busy": "2021-09-28T04:31:44.818653Z",
     "iopub.status.idle": "2021-09-28T04:31:44.828911Z",
     "shell.execute_reply": "2021-09-28T04:31:44.827959Z",
     "shell.execute_reply.started": "2021-09-28T04:31:44.818918Z"
    }
   },
   "outputs": [],
   "source": [
    "df.groupby(by=['InternetService'])['MonthlyCharges'].mean().sort_values()"
   ]
  },
  {
   "cell_type": "markdown",
   "metadata": {},
   "source": [
    "As expected, the average charges for each service are significantly different, with fiber optic been the most expensive. Without any additional information, it’s hard to draw definitive conclusions, but it seems that the cost-benefit relationship of their fiber optic service is far from been attractive enough to retain customers.\n",
    "\n",
    "Such a high churn rate might indicate that their service’s quality is subpar in terms of speed and/or reliability. Analyzing complaints received by their customer service call center service to extract useful and specific information about their internet is a must. A survey with a significant group of customers, aiming to understand how they perceive the quality of the service, is another step to find the problem and to help defining the course of action.\n",
    "\n",
    "As for the other services, the likelihood of churn from customers who have each one of them is actually lower than from those who haven’t. The higher differences are found in ‘TechSupport’ and ‘OnlineSecurity’, while the lower ones are found in the streaming services.\n",
    "\n",
    "Let’s calculate the average monthly charges from each category in the Tech Support and Online Security features."
   ]
  },
  {
   "cell_type": "code",
   "execution_count": 28,
   "metadata": {
    "execution": {
     "iopub.execute_input": "2021-09-28T04:31:44.830390Z",
     "iopub.status.busy": "2021-09-28T04:31:44.830074Z",
     "iopub.status.idle": "2021-09-28T04:31:44.854230Z",
     "shell.execute_reply": "2021-09-28T04:31:44.852931Z",
     "shell.execute_reply.started": "2021-09-28T04:31:44.830360Z"
    }
   },
   "outputs": [],
   "source": [
    "print(df.groupby(by=['TechSupport'])['MonthlyCharges'].mean().sort_values(), '\\n')\n",
    "print(df.groupby(by=['OnlineSecurity'])['MonthlyCharges'].mean().sort_values(), '\\n')\n",
    "print(df.groupby(by=['OnlineSecurity', 'TechSupport'])['MonthlyCharges'].mean().sort_values())"
   ]
  },
  {
   "cell_type": "markdown",
   "metadata": {},
   "source": [
    "Both services don’t seem to affect the subscription charges by much. If the company can quantify the cost of providing each service per customer and find out that it is relatively small, they could either reduce the extra subscription fee for those additional services or simply cut that fee and offer those services as standard for internet customers for a trial period. Given that most customers don’t subscribe to those services and given that they have a significant impact on the customer retainment, it’s possible that such strategy could result in a higher profit on the long term.\n",
    "\n",
    "Let’s see if the churn rate gets significantly lower for customers who have access to both services."
   ]
  },
  {
   "cell_type": "code",
   "execution_count": 29,
   "metadata": {
    "execution": {
     "iopub.execute_input": "2021-09-28T04:31:44.856252Z",
     "iopub.status.busy": "2021-09-28T04:31:44.855803Z",
     "iopub.status.idle": "2021-09-28T04:31:44.868382Z",
     "shell.execute_reply": "2021-09-28T04:31:44.867022Z",
     "shell.execute_reply.started": "2021-09-28T04:31:44.856207Z"
    }
   },
   "outputs": [],
   "source": [
    "print(df.groupby(by=['TechSupport'])['OnlineSecurity'].value_counts(), '\\n')"
   ]
  },
  {
   "cell_type": "code",
   "execution_count": 30,
   "metadata": {
    "_kg_hide-input": true,
    "execution": {
     "iopub.execute_input": "2021-09-28T04:31:44.870391Z",
     "iopub.status.busy": "2021-09-28T04:31:44.869975Z",
     "iopub.status.idle": "2021-09-28T04:31:45.091141Z",
     "shell.execute_reply": "2021-09-28T04:31:45.090048Z",
     "shell.execute_reply.started": "2021-09-28T04:31:44.870348Z"
    }
   },
   "outputs": [],
   "source": [
    "plt.figure(figsize=(12,4))\n",
    "\n",
    "ax = sns.barplot(x = \"TechSupport\", y = \"Churn\", hue = \"OnlineSecurity\", data = df, palette = 'rocket', ci = None)\n",
    "\n",
    "plt.ylabel(\"% of Churn\", fontsize= 12)\n",
    "plt.ylim(0,1.0)\n",
    "\n",
    "for p in ax.patches:\n",
    "    ax.annotate(\"%.2f\" %(p.get_height()), (p.get_x()+0.070, p.get_height()+0.03),fontsize=14)\n",
    "\n",
    "plt.show()"
   ]
  },
  {
   "cell_type": "markdown",
   "metadata": {},
   "source": [
    "The differences in terms of churn rate are quite significant. While customers who don’t use neither of those services have a close to 50% chance of churn, the churn rate for those who have both is lower than 10%, supporting the previous point."
   ]
  },
  {
   "cell_type": "markdown",
   "metadata": {},
   "source": [
    "## <a id=\"33\">Account Information Features (categorical)</a> "
   ]
  },
  {
   "cell_type": "code",
   "execution_count": 31,
   "metadata": {
    "_kg_hide-input": true,
    "execution": {
     "iopub.execute_input": "2021-09-28T04:31:45.093018Z",
     "iopub.status.busy": "2021-09-28T04:31:45.092586Z",
     "iopub.status.idle": "2021-09-28T04:31:45.636653Z",
     "shell.execute_reply": "2021-09-28T04:31:45.635465Z",
     "shell.execute_reply.started": "2021-09-28T04:31:45.092974Z"
    }
   },
   "outputs": [],
   "source": [
    "plt.figure(figsize=(12,15))\n",
    "\n",
    "for i,col in enumerate(cat_accinfo_features):    \n",
    "    plt.subplot(3,1,i + 1)\n",
    "    \n",
    "    ax = sns.countplot(data = df, x = col, palette = 'rocket')\n",
    "\n",
    "    plt.xlabel(col, fontsize= 14)\n",
    "    plt.ylabel(\"# of Clients\", fontsize= 13)\n",
    "    plt.ylim(0,5000)\n",
    "    plt.xticks(fontsize= 14)\n",
    "    plt.yticks(fontsize= 14)\n",
    "\n",
    "    for p in ax.patches:\n",
    "        ax.annotate((p.get_height()), (p.get_x()+0.32, p.get_height()+300), fontsize= 15)\n",
    "\n",
    "plt.tight_layout()\n",
    "\n",
    "plt.show()"
   ]
  },
  {
   "cell_type": "code",
   "execution_count": 32,
   "metadata": {
    "_kg_hide-input": true,
    "execution": {
     "iopub.execute_input": "2021-09-28T04:31:45.638288Z",
     "iopub.status.busy": "2021-09-28T04:31:45.638000Z",
     "iopub.status.idle": "2021-09-28T04:31:46.625554Z",
     "shell.execute_reply": "2021-09-28T04:31:46.624474Z",
     "shell.execute_reply.started": "2021-09-28T04:31:45.638261Z"
    }
   },
   "outputs": [],
   "source": [
    "plt.figure(figsize=(12,15))\n",
    "\n",
    "for i,col in enumerate(cat_accinfo_features):    \n",
    "    plt.subplot(3,1,i + 1)\n",
    "    \n",
    "    ax = sns.countplot(data = df, x = col, hue=\"Churn\", palette = 'rocket')\n",
    "\n",
    "    plt.xlabel(col, fontsize= 14)\n",
    "    plt.ylabel(\"# of Clients\", fontsize= 13)\n",
    "    plt.ylim(0,5000)\n",
    "    plt.xticks(fontsize= 13)\n",
    "\n",
    "    for p in ax.patches:\n",
    "        ax.annotate((p.get_height()), (p.get_x()+0.135, p.get_height()+300), fontsize= 14)\n",
    "\n",
    "plt.tight_layout()\n",
    "\n",
    "plt.show()"
   ]
  },
  {
   "cell_type": "code",
   "execution_count": 33,
   "metadata": {
    "_kg_hide-input": true,
    "execution": {
     "iopub.execute_input": "2021-09-28T04:31:46.627605Z",
     "iopub.status.busy": "2021-09-28T04:31:46.627181Z",
     "iopub.status.idle": "2021-09-28T04:31:47.151178Z",
     "shell.execute_reply": "2021-09-28T04:31:47.150140Z",
     "shell.execute_reply.started": "2021-09-28T04:31:46.627558Z"
    }
   },
   "outputs": [],
   "source": [
    "plt.figure(figsize=(12,15))\n",
    "\n",
    "for i,col in enumerate(cat_accinfo_features):    \n",
    "    plt.subplot(3,1,i + 1)\n",
    "    \n",
    "    ax = sns.barplot(x = col, y = \"Churn\", data = df, palette = 'rocket', ci = None)\n",
    "\n",
    "    plt.xlabel(col, fontsize= 14)\n",
    "    plt.ylabel(\"% of Churn\", fontsize= 13)\n",
    "    plt.ylim(0,0.55)\n",
    "    plt.xticks(fontsize= 14)\n",
    "\n",
    "    for p in ax.patches:\n",
    "        ax.annotate(\"%.2f\" %(p.get_height()), (p.get_x()+0.32, p.get_height()+0.02),fontsize=15)\n",
    "\n",
    "plt.tight_layout()\n",
    "\n",
    "plt.show()"
   ]
  },
  {
   "cell_type": "markdown",
   "metadata": {},
   "source": [
    "Naturally, in terms of contract, the highest churn rate is from the ‘month-to-month’ type, which is also the most dominant contract. What seems odd is the high chance of churn from customers who choose electronic check as payment method and opts for paperless billing. It could be, for instance, that most customers in the month-to-month contract also fall into those categories. We can check that."
   ]
  },
  {
   "cell_type": "code",
   "execution_count": 34,
   "metadata": {
    "execution": {
     "iopub.execute_input": "2021-09-28T04:31:47.153818Z",
     "iopub.status.busy": "2021-09-28T04:31:47.153484Z",
     "iopub.status.idle": "2021-09-28T04:31:47.171915Z",
     "shell.execute_reply": "2021-09-28T04:31:47.170732Z",
     "shell.execute_reply.started": "2021-09-28T04:31:47.153788Z"
    }
   },
   "outputs": [],
   "source": [
    "print(df.groupby(by=['Contract'])['PaperlessBilling'].value_counts(normalize = True),' \\n')\n",
    "print(df.groupby(by=['Contract'])['PaymentMethod'].value_counts(normalize = True))"
   ]
  },
  {
   "cell_type": "markdown",
   "metadata": {},
   "source": [
    "When we group the dataset by contract, we can see that the percentage of customers who don’t receive their bills through the mail and that pay them via electronic check is higher for the ‘month-to-month’ type. Yet, this doesn’t seem to be enough to justify such a high churn rate for those categories. There is a good chance that we will find higher percentages of churn in them, regardless of the type of contract. Let’s see."
   ]
  },
  {
   "cell_type": "code",
   "execution_count": 35,
   "metadata": {
    "_kg_hide-input": true,
    "execution": {
     "iopub.execute_input": "2021-09-28T04:31:47.173362Z",
     "iopub.status.busy": "2021-09-28T04:31:47.173053Z",
     "iopub.status.idle": "2021-09-28T04:31:47.380506Z",
     "shell.execute_reply": "2021-09-28T04:31:47.379314Z",
     "shell.execute_reply.started": "2021-09-28T04:31:47.173332Z"
    }
   },
   "outputs": [],
   "source": [
    "plt.figure(figsize=(12,4))\n",
    "\n",
    "ax = sns.barplot(x = \"PaperlessBilling\", y = \"Churn\", hue = \"Contract\", data = df, palette = 'rocket', ci = None)\n",
    "\n",
    "plt.ylabel(\"% of Churn\", fontsize= 12)\n",
    "plt.ylim(0,0.6)\n",
    "\n",
    "for p in ax.patches:\n",
    "    ax.annotate(\"%.2f\" %(p.get_height()), (p.get_x()+0.08, p.get_height()+0.03),fontsize=14)\n",
    "\n",
    "plt.show()"
   ]
  },
  {
   "cell_type": "code",
   "execution_count": 36,
   "metadata": {
    "_kg_hide-input": true,
    "execution": {
     "iopub.execute_input": "2021-09-28T04:31:47.382542Z",
     "iopub.status.busy": "2021-09-28T04:31:47.382154Z",
     "iopub.status.idle": "2021-09-28T04:31:47.652308Z",
     "shell.execute_reply": "2021-09-28T04:31:47.651054Z",
     "shell.execute_reply.started": "2021-09-28T04:31:47.382508Z"
    }
   },
   "outputs": [],
   "source": [
    "plt.figure(figsize=(12,4))\n",
    "\n",
    "ax = sns.barplot(x = \"PaymentMethod\", y = \"Churn\", hue = \"Contract\", data = df, palette = 'rocket', ci = None)\n",
    "\n",
    "plt.ylabel(\"% of Churn\", fontsize= 12)\n",
    "plt.ylim(0,0.6)\n",
    "\n",
    "for p in ax.patches:\n",
    "    ax.annotate(\"%.2f\" %(p.get_height()), (p.get_x()+0.05, p.get_height()+0.020),fontsize=14)\n",
    "\n",
    "plt.show()"
   ]
  },
  {
   "cell_type": "markdown",
   "metadata": {},
   "source": [
    "The likelihood of churn is, in fact, higher for those categories, regardless of type of contract. Personally, is hard for me to see a causality, without additional information or domain knowledge, between the churn rate and the way someone receives their bill and choose to pay them. It is more likely that those two features are associated with several others. The internet service, a feature with notable differences of churn rate between each one of its categories, could present some correlation between them."
   ]
  },
  {
   "cell_type": "code",
   "execution_count": 37,
   "metadata": {
    "execution": {
     "iopub.execute_input": "2021-09-28T04:31:47.654182Z",
     "iopub.status.busy": "2021-09-28T04:31:47.653758Z",
     "iopub.status.idle": "2021-09-28T04:31:47.672115Z",
     "shell.execute_reply": "2021-09-28T04:31:47.670720Z",
     "shell.execute_reply.started": "2021-09-28T04:31:47.654140Z"
    }
   },
   "outputs": [],
   "source": [
    "print(df.groupby(by=['InternetService'])['PaperlessBilling'].value_counts(normalize = True), '\\n')\n",
    "print(df.groupby(by=['InternetService'])['PaymentMethod'].value_counts(normalize = True))"
   ]
  },
  {
   "cell_type": "markdown",
   "metadata": {},
   "source": [
    "What stands out here in our grouping operations:\n",
    "- Customers with Internet Service = ‘No’: Less than 30% receive paperless bills and only 8% pay them with electronic check;\n",
    "- Customers with Internet Service = ‘Fiber Optic’: 77% receive paperless bills and more them 51% pay them with electronic check.\n",
    "\n",
    "We can recall that the lowest churn rate in the internet services feature is from those customers who don’t use Telco’s internet, while the highest is found among those who use their fiber optic internet. So, we can say that those results don’t come out as a surprise. \n",
    "\n",
    "Although we shouldn’t conclude that the payment method or the way the bills are sent have a direct influence in the customer retainment, it is worth to point that those features will probably be useful for our prediction models."
   ]
  },
  {
   "cell_type": "markdown",
   "metadata": {},
   "source": [
    "## <a id=\"34\">Account Information Features (numerical)</a> "
   ]
  },
  {
   "cell_type": "code",
   "execution_count": 38,
   "metadata": {
    "_kg_hide-input": true,
    "execution": {
     "iopub.execute_input": "2021-09-28T04:31:47.673741Z",
     "iopub.status.busy": "2021-09-28T04:31:47.673423Z",
     "iopub.status.idle": "2021-09-28T04:31:48.516611Z",
     "shell.execute_reply": "2021-09-28T04:31:48.515583Z",
     "shell.execute_reply.started": "2021-09-28T04:31:47.673711Z"
    }
   },
   "outputs": [],
   "source": [
    "plt.figure(figsize=(12,15))\n",
    "\n",
    "for i,col in enumerate(num_accinfo_features):    \n",
    "    plt.subplot(3,1,i + 1)\n",
    "    sns.distplot(df.loc[:,col])\n",
    "    #plt.ticklabel_format(style='plain', axis='x') #repressing scientific notation    \n",
    "    plt.ylabel('')\n",
    "    plt.tight_layout()\n",
    "\n",
    "plt.show()"
   ]
  },
  {
   "cell_type": "code",
   "execution_count": 39,
   "metadata": {
    "_kg_hide-input": true,
    "execution": {
     "iopub.execute_input": "2021-09-28T04:31:48.518408Z",
     "iopub.status.busy": "2021-09-28T04:31:48.518124Z",
     "iopub.status.idle": "2021-09-28T04:31:49.362468Z",
     "shell.execute_reply": "2021-09-28T04:31:49.361412Z",
     "shell.execute_reply.started": "2021-09-28T04:31:48.518381Z"
    }
   },
   "outputs": [],
   "source": [
    "plt.figure(figsize=(12,15))\n",
    "\n",
    "for i,col in enumerate(num_accinfo_features):    \n",
    "    plt.subplot(3,1,i + 1)    \n",
    "    sns.kdeplot(df.loc[(df['Churn'] == 0), col], label = 'No Churn', shade = True)\n",
    "    sns.kdeplot(df.loc[(df['Churn'] == 1), col], label = 'Churn', shade = True)\n",
    "    plt.legend()\n",
    "    plt.ylabel('')\n",
    "    plt.tight_layout()\n",
    "\n",
    "plt.show()"
   ]
  },
  {
   "cell_type": "markdown",
   "metadata": {},
   "source": [
    "What we can observe for each feature:\n",
    "- Tenure: High concentration of churned customer in the first months.\n",
    "- Monthly Charges: High concentration of churned customer in higher values (around 60 and beyond)\n",
    "- Total Charges: Somewhat similar distributions, but the ‘No churn’ distribution have lower values.\n",
    "\n",
    "Let’s get the mean values to complement our analysis."
   ]
  },
  {
   "cell_type": "code",
   "execution_count": 40,
   "metadata": {
    "execution": {
     "iopub.execute_input": "2021-09-28T04:31:49.363822Z",
     "iopub.status.busy": "2021-09-28T04:31:49.363553Z",
     "iopub.status.idle": "2021-09-28T04:31:49.378721Z",
     "shell.execute_reply": "2021-09-28T04:31:49.377473Z",
     "shell.execute_reply.started": "2021-09-28T04:31:49.363796Z"
    }
   },
   "outputs": [],
   "source": [
    "print(df.groupby(by=['Churn'])['tenure'].mean().sort_values(), '\\n')\n",
    "print(df.groupby(by=['Churn'])['MonthlyCharges'].mean().sort_values(), '\\n')\n",
    "print(df.groupby(by=['Churn'])['TotalCharges'].mean().sort_values())"
   ]
  },
  {
   "cell_type": "markdown",
   "metadata": {},
   "source": [
    "As expected, the average tenure period for churned customers is lower and the average monthly charges are higher than the same metrics for retained customers. The average total charges are lower for churned customers, which is probably due to their lower tenure.\n",
    "\n",
    "The density plot for churned customers in the ‘tenure’ feature showed a high concentration in the first months. Let’s divide this feature in bins to get the churn rate per year of service."
   ]
  },
  {
   "cell_type": "code",
   "execution_count": 41,
   "metadata": {
    "execution": {
     "iopub.execute_input": "2021-09-28T04:31:49.380506Z",
     "iopub.status.busy": "2021-09-28T04:31:49.380099Z",
     "iopub.status.idle": "2021-09-28T04:31:49.402235Z",
     "shell.execute_reply": "2021-09-28T04:31:49.401135Z",
     "shell.execute_reply.started": "2021-09-28T04:31:49.380473Z"
    }
   },
   "outputs": [],
   "source": [
    "df['tenure_bin'] = pd.cut(df['tenure'],[-1,12,24,36,48,60,100])\n",
    "df['tenure_bin'].value_counts(sort = False)"
   ]
  },
  {
   "cell_type": "code",
   "execution_count": 42,
   "metadata": {
    "_kg_hide-input": true,
    "execution": {
     "iopub.execute_input": "2021-09-28T04:31:49.404213Z",
     "iopub.status.busy": "2021-09-28T04:31:49.403587Z",
     "iopub.status.idle": "2021-09-28T04:31:49.588609Z",
     "shell.execute_reply": "2021-09-28T04:31:49.587515Z",
     "shell.execute_reply.started": "2021-09-28T04:31:49.404167Z"
    }
   },
   "outputs": [],
   "source": [
    "plt.figure(figsize=(12,4))\n",
    "\n",
    "ax = sns.barplot(x = \"tenure_bin\", y = \"Churn\", data = df, palette = 'rocket', ci = None)\n",
    "\n",
    "plt.ylabel(\"% of Churn\", fontsize= 12)\n",
    "plt.ylim(0,0.6)\n",
    "plt.xticks([0,1,2,3,4,5], ['12 or less', '13 to 24', '25 to 36', '37 to 48', '49 to 60', 'more than 60'], fontsize = 12)\n",
    "plt.xlabel(\"Tenure Group (in months)\", fontsize= 12)\n",
    "\n",
    "\n",
    "\n",
    "for p in ax.patches:\n",
    "    ax.annotate(\"%.2f\" %(p.get_height()), (p.get_x()+0.25, p.get_height()+0.03),fontsize=14)\n",
    "\n",
    "plt.show()"
   ]
  },
  {
   "cell_type": "markdown",
   "metadata": {},
   "source": [
    "Almost 50 percent of those who became a customer for a year or less ended up leaving the company. It’s not unusual to have a higher churn rate in the first year or two for some types of business. Nevertheless, a churn rate this high in the first year indicates that the quality of the service provided fails to hold up to their new customers’ expectation."
   ]
  },
  {
   "cell_type": "markdown",
   "metadata": {},
   "source": [
    "# <a id=\"4\">Creating and Evaluating Models</a>"
   ]
  },
  {
   "cell_type": "markdown",
   "metadata": {},
   "source": [
    "Now, let's move on to the predictive models. In this notebook, we will use the Area Under the Curve of Receiver Characteristic Operator (AUC-ROC or ROC-AUC) as the main metric to assess the performance of our models. The ROC-AUC measures the ability of a model is to distinguish between classes. [(Link for more information about ROC-AUC)](https://www.analyticsvidhya.com/blog/2020/06/auc-roc-curve-machine-learning/). Nevertheless, we will also check the accuracy, the classification report and the confusion matrix for each model.\n",
    "\n",
    "First, we will make a copy of the dataset and separate the features from the target."
   ]
  },
  {
   "cell_type": "code",
   "execution_count": 43,
   "metadata": {
    "execution": {
     "iopub.execute_input": "2021-09-28T04:31:49.590363Z",
     "iopub.status.busy": "2021-09-28T04:31:49.590064Z",
     "iopub.status.idle": "2021-09-28T04:31:49.598241Z",
     "shell.execute_reply": "2021-09-28T04:31:49.597134Z",
     "shell.execute_reply.started": "2021-09-28T04:31:49.590335Z"
    }
   },
   "outputs": [],
   "source": [
    "X = df.copy().drop('Churn', axis = 1)\n",
    "Y = df['Churn'].copy()"
   ]
  },
  {
   "cell_type": "markdown",
   "metadata": {},
   "source": [
    "We’re also going to remove the customer_id and the feature ‘tenure_bin’, that we created for EDA purposes, since we’re not planning to use them"
   ]
  },
  {
   "cell_type": "code",
   "execution_count": 44,
   "metadata": {
    "execution": {
     "iopub.execute_input": "2021-09-28T04:31:49.599790Z",
     "iopub.status.busy": "2021-09-28T04:31:49.599511Z",
     "iopub.status.idle": "2021-09-28T04:31:49.639753Z",
     "shell.execute_reply": "2021-09-28T04:31:49.638998Z",
     "shell.execute_reply.started": "2021-09-28T04:31:49.599762Z"
    }
   },
   "outputs": [],
   "source": [
    "X = X.drop(['customerID', 'tenure_bin'], axis = 1)\n",
    "X"
   ]
  },
  {
   "cell_type": "code",
   "execution_count": 45,
   "metadata": {
    "execution": {
     "iopub.execute_input": "2021-09-28T04:31:49.641524Z",
     "iopub.status.busy": "2021-09-28T04:31:49.641190Z",
     "iopub.status.idle": "2021-09-28T04:31:49.668479Z",
     "shell.execute_reply": "2021-09-28T04:31:49.667122Z",
     "shell.execute_reply.started": "2021-09-28T04:31:49.641492Z"
    }
   },
   "outputs": [],
   "source": [
    "X.info()"
   ]
  },
  {
   "cell_type": "markdown",
   "metadata": {},
   "source": [
    "We need to encode the features to use them in our models. We could use something like sklearn’s OrdinalEncoder for this, but I’ll do it manually. This effort will pay off later when we’ll analyze the predictions using SHAP."
   ]
  },
  {
   "cell_type": "code",
   "execution_count": 46,
   "metadata": {
    "execution": {
     "iopub.execute_input": "2021-09-28T04:31:49.670227Z",
     "iopub.status.busy": "2021-09-28T04:31:49.669852Z",
     "iopub.status.idle": "2021-09-28T04:31:49.723769Z",
     "shell.execute_reply": "2021-09-28T04:31:49.722964Z",
     "shell.execute_reply.started": "2021-09-28T04:31:49.670167Z"
    }
   },
   "outputs": [],
   "source": [
    "gender_map = {'Female': 0, 'Male': 1}\n",
    "yes_or_no_map = {'No': 0, 'Yes': 1} #seniorcitizen, partner, dependents, phoneservice, paperlessbilling\n",
    "multiplelines_map = {'No phone service': -1, 'No': 0, 'Yes': 1}\n",
    "internetservice_map = {'No': -1, 'DSL': 0, 'Fiber optic': 1}\n",
    "add_netservices_map = {'No internet service': -1, 'No': 0, 'Yes': 1} #onlinesecurity, onlinebackup, deviceprotection,techsupport,streaming services\n",
    "contract_map = {'Month-to-month': 0, 'One year': 1, 'Two year': 2}\n",
    "paymentmethod_map = {'Electronic check': 0, 'Mailed check': 1, 'Bank transfer (automatic)': 2, 'Credit card (automatic)': 3}\n",
    "\n",
    "\n",
    "X['gender'] = X['gender'].map(gender_map).astype('int')\n",
    "X['Partner'] = X['Partner'].map(yes_or_no_map).astype('int')\n",
    "X['SeniorCitizen'] = X['SeniorCitizen'].map(yes_or_no_map).astype('int')\n",
    "X['Dependents'] = X['Dependents'].map(yes_or_no_map).astype('int')\n",
    "X['PhoneService'] = X['PhoneService'].map(yes_or_no_map).astype('int')\n",
    "X['MultipleLines'] = X['MultipleLines'].map(multiplelines_map).astype('int')\n",
    "X['InternetService'] = X['InternetService'].map(internetservice_map).astype('int')\n",
    "X['OnlineSecurity'] = X['OnlineSecurity'].map(add_netservices_map).astype('int')\n",
    "X['OnlineBackup'] = X['OnlineBackup'].map(add_netservices_map).astype('int')\n",
    "X['DeviceProtection'] = X['DeviceProtection'].map(add_netservices_map).astype('int')\n",
    "X['TechSupport'] = X['TechSupport'].map(add_netservices_map).astype('int')\n",
    "X['StreamingTV'] = X['StreamingTV'].map(add_netservices_map).astype('int')\n",
    "X['StreamingMovies'] = X['StreamingMovies'].map(add_netservices_map).astype('int')\n",
    "X['Contract'] = X['Contract'].map(contract_map).astype('int')\n",
    "X['PaperlessBilling'] = X['PaperlessBilling'].map(yes_or_no_map).astype('int')\n",
    "X['PaymentMethod'] = X['PaymentMethod'].map(paymentmethod_map).astype('int')\n"
   ]
  },
  {
   "cell_type": "code",
   "execution_count": 47,
   "metadata": {
    "execution": {
     "iopub.execute_input": "2021-09-28T04:31:49.725583Z",
     "iopub.status.busy": "2021-09-28T04:31:49.725052Z",
     "iopub.status.idle": "2021-09-28T04:31:49.745069Z",
     "shell.execute_reply": "2021-09-28T04:31:49.744081Z",
     "shell.execute_reply.started": "2021-09-28T04:31:49.725541Z"
    }
   },
   "outputs": [],
   "source": [
    "X.info()"
   ]
  },
  {
   "cell_type": "markdown",
   "metadata": {},
   "source": [
    "Now we will split the data into train and test sets."
   ]
  },
  {
   "cell_type": "code",
   "execution_count": 48,
   "metadata": {
    "execution": {
     "iopub.execute_input": "2021-09-28T04:31:49.746428Z",
     "iopub.status.busy": "2021-09-28T04:31:49.746153Z",
     "iopub.status.idle": "2021-09-28T04:31:49.761124Z",
     "shell.execute_reply": "2021-09-28T04:31:49.760112Z",
     "shell.execute_reply.started": "2021-09-28T04:31:49.746401Z"
    }
   },
   "outputs": [],
   "source": [
    "X_train, X_test, Y_train, Y_test = train_test_split(X, Y, test_size = 0.2, random_state = 42\n",
    "                                                    , stratify = Y)"
   ]
  },
  {
   "cell_type": "markdown",
   "metadata": {},
   "source": [
    "## <a id=\"41\">Logistic Regression</a> "
   ]
  },
  {
   "cell_type": "markdown",
   "metadata": {},
   "source": [
    "The first model we're going to use is Logistic Regression, which will require two things for a better performance:\n",
    "- Scaling the numerical features;\n",
    "- (One hot) encoding the categorical (nominal) features.\n",
    "\n",
    "We can use the Column Transformer to assign each transformation to its correct features and fit it in a pipeline as a preprocessing step."
   ]
  },
  {
   "cell_type": "code",
   "execution_count": 49,
   "metadata": {
    "execution": {
     "iopub.execute_input": "2021-09-28T04:31:49.762879Z",
     "iopub.status.busy": "2021-09-28T04:31:49.762450Z",
     "iopub.status.idle": "2021-09-28T04:31:49.783722Z",
     "shell.execute_reply": "2021-09-28T04:31:49.782859Z",
     "shell.execute_reply.started": "2021-09-28T04:31:49.762840Z"
    }
   },
   "outputs": [],
   "source": [
    "num_features = num_accinfo_features\n",
    "\n",
    "cat_3p_features = []\n",
    "for col in X.columns:\n",
    "    if (X[col].nunique() > 2) & (X[col].nunique() < 5):  #less than 5 to exclude the numerical features\n",
    "        cat_3p_features.append(col)\n",
    "print('Numerical features: ', num_features, '\\n')        \n",
    "print('Nominal with 3 or more categories: ', cat_3p_features)"
   ]
  },
  {
   "cell_type": "code",
   "execution_count": 50,
   "metadata": {
    "execution": {
     "iopub.execute_input": "2021-09-28T04:31:49.785221Z",
     "iopub.status.busy": "2021-09-28T04:31:49.784776Z",
     "iopub.status.idle": "2021-09-28T04:31:49.789570Z",
     "shell.execute_reply": "2021-09-28T04:31:49.788732Z",
     "shell.execute_reply.started": "2021-09-28T04:31:49.785190Z"
    }
   },
   "outputs": [],
   "source": [
    "cat_transformer = OneHotEncoder(handle_unknown='ignore')\n",
    "num_transformer = StandardScaler()\n",
    "\n",
    "preprocessor = ColumnTransformer(\n",
    "    transformers=[\n",
    "        ('num', num_transformer, num_features),\n",
    "        ('cat', cat_transformer, cat_3p_features)      \n",
    "    ], remainder='passthrough')"
   ]
  },
  {
   "cell_type": "code",
   "execution_count": 51,
   "metadata": {
    "execution": {
     "iopub.execute_input": "2021-09-28T04:31:49.791120Z",
     "iopub.status.busy": "2021-09-28T04:31:49.790674Z",
     "iopub.status.idle": "2021-09-28T04:31:49.802866Z",
     "shell.execute_reply": "2021-09-28T04:31:49.802147Z",
     "shell.execute_reply.started": "2021-09-28T04:31:49.791082Z"
    }
   },
   "outputs": [],
   "source": [
    "lr_pipe = Pipeline([('Transformers', preprocessor)\n",
    "                        ,('LR',  LogisticRegression(random_state = 42, max_iter = 1000))])"
   ]
  },
  {
   "cell_type": "markdown",
   "metadata": {},
   "source": [
    "Even without the intent of doing an extensive hyperparameter tuning, we can give each model a better chance of good performance by testing some values for a key parameter and choosing one of them based on cross-validation score."
   ]
  },
  {
   "cell_type": "code",
   "execution_count": 52,
   "metadata": {
    "execution": {
     "iopub.execute_input": "2021-09-28T04:31:49.804390Z",
     "iopub.status.busy": "2021-09-28T04:31:49.803961Z",
     "iopub.status.idle": "2021-09-28T04:32:40.640581Z",
     "shell.execute_reply": "2021-09-28T04:32:40.639531Z",
     "shell.execute_reply.started": "2021-09-28T04:31:49.804349Z"
    }
   },
   "outputs": [],
   "source": [
    "def cv_function (model, param, list):\n",
    "    \n",
    "    rp_st_kfold = RepeatedStratifiedKFold(n_splits=10, n_repeats = 3, random_state = 42)\n",
    "    search_model = model\n",
    "    print ('Hyperparameter: ', param)\n",
    "    \n",
    "    for i in list:\n",
    "        param_dict = {param : i}\n",
    "        search_model.set_params(**param_dict)    \n",
    "        cv_score = cross_val_score(search_model, X_train, Y_train, cv=rp_st_kfold, scoring='roc_auc')\n",
    "        print(\"Parameter: {0:0.2f} - AUC(SD): {1:0.4f} ({2:0.4f})\". format(i, cv_score.mean(), cv_score.std()))\n",
    "        \n",
    "params_lr_list = [0.01,0.1,0.2,0.3,0.5,0.7,1,2,3,5]\n",
    "param_lr = 'LR__C'\n",
    "cv_function(lr_pipe, param_lr, params_lr_list)"
   ]
  },
  {
   "cell_type": "markdown",
   "metadata": {},
   "source": [
    "After some point, there is barely an improvement. Choice: C = 3.0"
   ]
  },
  {
   "cell_type": "code",
   "execution_count": 53,
   "metadata": {
    "_kg_hide-output": true,
    "execution": {
     "iopub.execute_input": "2021-09-28T04:32:40.642883Z",
     "iopub.status.busy": "2021-09-28T04:32:40.642189Z",
     "iopub.status.idle": "2021-09-28T04:32:40.673253Z",
     "shell.execute_reply": "2021-09-28T04:32:40.672103Z",
     "shell.execute_reply.started": "2021-09-28T04:32:40.642837Z"
    }
   },
   "outputs": [],
   "source": [
    "lr_param = {'LR__C': 3.0}\n",
    "lr_pipe.set_params(**lr_param) \n",
    "lr_pipe"
   ]
  },
  {
   "cell_type": "markdown",
   "metadata": {},
   "source": [
    "Now, let’s fit this model and predict."
   ]
  },
  {
   "cell_type": "code",
   "execution_count": 54,
   "metadata": {
    "execution": {
     "iopub.execute_input": "2021-09-28T04:32:40.681222Z",
     "iopub.status.busy": "2021-09-28T04:32:40.678339Z",
     "iopub.status.idle": "2021-09-28T04:32:40.903063Z",
     "shell.execute_reply": "2021-09-28T04:32:40.901905Z",
     "shell.execute_reply.started": "2021-09-28T04:32:40.681162Z"
    }
   },
   "outputs": [],
   "source": [
    "lr_pipe.fit(X_train, Y_train)\n",
    "pred_lr = lr_pipe.predict(X_test)\n",
    "\n",
    "print(\"Test Accuracy: \",metrics.accuracy_score(Y_test, pred_lr))"
   ]
  },
  {
   "cell_type": "code",
   "execution_count": 55,
   "metadata": {
    "_kg_hide-input": true,
    "execution": {
     "iopub.execute_input": "2021-09-28T04:32:40.911312Z",
     "iopub.status.busy": "2021-09-28T04:32:40.908453Z",
     "iopub.status.idle": "2021-09-28T04:32:41.199756Z",
     "shell.execute_reply": "2021-09-28T04:32:41.198934Z",
     "shell.execute_reply.started": "2021-09-28T04:32:40.911247Z"
    }
   },
   "outputs": [],
   "source": [
    "lr_confusion_matrix = metrics.confusion_matrix(Y_test, pred_lr)\n",
    "sns.heatmap(lr_confusion_matrix, annot=True, fmt=\"d\")\n",
    "\n",
    "plt.xlabel(\"Predicted Label\", fontsize= 12)\n",
    "plt.ylabel(\"True Label\", fontsize= 12)\n",
    "\n",
    "plt.show()"
   ]
  },
  {
   "cell_type": "code",
   "execution_count": 56,
   "metadata": {
    "_kg_hide-input": true,
    "execution": {
     "iopub.execute_input": "2021-09-28T04:32:41.201884Z",
     "iopub.status.busy": "2021-09-28T04:32:41.201211Z",
     "iopub.status.idle": "2021-09-28T04:32:41.217512Z",
     "shell.execute_reply": "2021-09-28T04:32:41.216273Z",
     "shell.execute_reply.started": "2021-09-28T04:32:41.201840Z"
    }
   },
   "outputs": [],
   "source": [
    "print(metrics.classification_report(Y_test, pred_lr, labels = [0, 1]))"
   ]
  },
  {
   "cell_type": "code",
   "execution_count": 57,
   "metadata": {
    "_kg_hide-input": true,
    "execution": {
     "iopub.execute_input": "2021-09-28T04:32:41.220078Z",
     "iopub.status.busy": "2021-09-28T04:32:41.219166Z",
     "iopub.status.idle": "2021-09-28T04:32:41.438972Z",
     "shell.execute_reply": "2021-09-28T04:32:41.436953Z",
     "shell.execute_reply.started": "2021-09-28T04:32:41.220025Z"
    }
   },
   "outputs": [],
   "source": [
    "lr_pred_proba = lr_pipe.predict_proba(X_test)[:,1]\n",
    "\n",
    "lr_roc_auc = metrics.roc_auc_score(Y_test, lr_pred_proba)\n",
    "print('ROC_AUC: ', lr_roc_auc)\n",
    "\n",
    "lr_fpr, lr_tpr, thresholds = metrics.roc_curve(Y_test, lr_pred_proba)\n",
    "\n",
    "plt.plot(lr_fpr,lr_tpr, label = 'ROC_AUC = %0.3f' % lr_roc_auc)\n",
    "\n",
    "plt.xlabel(\"False Positive Rate\", fontsize= 12)\n",
    "plt.ylabel(\"True Positive Rate\", fontsize= 12)\n",
    "plt.legend(loc=\"lower right\")\n",
    "\n",
    "plt.show()"
   ]
  },
  {
   "cell_type": "markdown",
   "metadata": {},
   "source": [
    "## <a id=\"42\">Random Forest</a> "
   ]
  },
  {
   "cell_type": "markdown",
   "metadata": {},
   "source": [
    "For every model, we’re going to follow the same steps that we made with Logistic Regression, with the exception of using a pipeline for preprocessing."
   ]
  },
  {
   "cell_type": "code",
   "execution_count": 58,
   "metadata": {
    "execution": {
     "iopub.execute_input": "2021-09-28T04:32:41.440823Z",
     "iopub.status.busy": "2021-09-28T04:32:41.440407Z",
     "iopub.status.idle": "2021-09-28T04:38:58.413512Z",
     "shell.execute_reply": "2021-09-28T04:38:58.412342Z",
     "shell.execute_reply.started": "2021-09-28T04:32:41.440779Z"
    }
   },
   "outputs": [],
   "source": [
    "rf_model = RandomForestClassifier(random_state = 42)\n",
    "\n",
    "params_rf_list = [100,150,200,250,300,400,500]\n",
    "param_rf = 'n_estimators'\n",
    "cv_function(rf_model, param_rf, params_rf_list)"
   ]
  },
  {
   "cell_type": "code",
   "execution_count": 59,
   "metadata": {
    "execution": {
     "iopub.execute_input": "2021-09-28T04:38:58.416525Z",
     "iopub.status.busy": "2021-09-28T04:38:58.416096Z",
     "iopub.status.idle": "2021-09-28T04:38:58.423276Z",
     "shell.execute_reply": "2021-09-28T04:38:58.422239Z",
     "shell.execute_reply.started": "2021-09-28T04:38:58.416479Z"
    }
   },
   "outputs": [],
   "source": [
    "rf_param = {'n_estimators': 500}\n",
    "rf_model.set_params(**rf_param) \n",
    "rf_model"
   ]
  },
  {
   "cell_type": "code",
   "execution_count": 60,
   "metadata": {
    "execution": {
     "iopub.execute_input": "2021-09-28T04:38:58.425365Z",
     "iopub.status.busy": "2021-09-28T04:38:58.424757Z",
     "iopub.status.idle": "2021-09-28T04:39:02.089698Z",
     "shell.execute_reply": "2021-09-28T04:39:02.088569Z",
     "shell.execute_reply.started": "2021-09-28T04:38:58.425319Z"
    }
   },
   "outputs": [],
   "source": [
    "rf_model.fit(X_train, Y_train)\n",
    "pred_rf = rf_model.predict(X_test)\n",
    "\n",
    "print(\"Test Accuracy: \",metrics.accuracy_score(Y_test, pred_rf))"
   ]
  },
  {
   "cell_type": "code",
   "execution_count": 61,
   "metadata": {
    "_kg_hide-input": true,
    "execution": {
     "iopub.execute_input": "2021-09-28T04:39:02.091925Z",
     "iopub.status.busy": "2021-09-28T04:39:02.091279Z",
     "iopub.status.idle": "2021-09-28T04:39:02.336274Z",
     "shell.execute_reply": "2021-09-28T04:39:02.335308Z",
     "shell.execute_reply.started": "2021-09-28T04:39:02.091853Z"
    }
   },
   "outputs": [],
   "source": [
    "rf_confusion_matrix = metrics.confusion_matrix(Y_test, pred_rf)\n",
    "sns.heatmap(rf_confusion_matrix, annot=True, fmt=\"d\")\n",
    "\n",
    "plt.xlabel(\"Predicted Label\", fontsize= 12)\n",
    "plt.ylabel(\"True Label\", fontsize= 12)\n",
    "\n",
    "plt.show()"
   ]
  },
  {
   "cell_type": "code",
   "execution_count": 62,
   "metadata": {
    "_kg_hide-input": true,
    "execution": {
     "iopub.execute_input": "2021-09-28T04:39:02.337939Z",
     "iopub.status.busy": "2021-09-28T04:39:02.337635Z",
     "iopub.status.idle": "2021-09-28T04:39:02.350504Z",
     "shell.execute_reply": "2021-09-28T04:39:02.349448Z",
     "shell.execute_reply.started": "2021-09-28T04:39:02.337910Z"
    }
   },
   "outputs": [],
   "source": [
    "print(metrics.classification_report(Y_test, pred_rf, labels = [0, 1]))"
   ]
  },
  {
   "cell_type": "code",
   "execution_count": 63,
   "metadata": {
    "_kg_hide-input": true,
    "execution": {
     "iopub.execute_input": "2021-09-28T04:39:02.352295Z",
     "iopub.status.busy": "2021-09-28T04:39:02.351947Z",
     "iopub.status.idle": "2021-09-28T04:39:02.952875Z",
     "shell.execute_reply": "2021-09-28T04:39:02.951932Z",
     "shell.execute_reply.started": "2021-09-28T04:39:02.352265Z"
    }
   },
   "outputs": [],
   "source": [
    "rf_pred_proba = rf_model.predict_proba(X_test)[:,1]\n",
    "\n",
    "rf_roc_auc = metrics.roc_auc_score(Y_test, rf_pred_proba)\n",
    "print('ROC_AUC: ', rf_roc_auc)\n",
    "\n",
    "rf_fpr, rf_tpr, thresholds = metrics.roc_curve(Y_test, rf_pred_proba)\n",
    "\n",
    "plt.plot(rf_fpr,rf_tpr, label = 'ROC_AUC = %0.3f' % rf_roc_auc)\n",
    "\n",
    "plt.xlabel(\"False Positive Rate\", fontsize= 12)\n",
    "plt.ylabel(\"True Positive Rate\", fontsize= 12)\n",
    "plt.legend(loc=\"lower right\")\n",
    "\n",
    "plt.show()"
   ]
  },
  {
   "cell_type": "markdown",
   "metadata": {},
   "source": [
    "The results we found with Random Forest were quite disappointing. Although feature scaling and one hot encoding aren’t necessary, we can use them just for testing purposes."
   ]
  },
  {
   "cell_type": "markdown",
   "metadata": {},
   "source": [
    "## <a id=\"43\">Random Forest with Preprocessing</a> "
   ]
  },
  {
   "cell_type": "code",
   "execution_count": 64,
   "metadata": {
    "execution": {
     "iopub.execute_input": "2021-09-28T04:39:02.954343Z",
     "iopub.status.busy": "2021-09-28T04:39:02.954068Z",
     "iopub.status.idle": "2021-09-28T04:39:06.753038Z",
     "shell.execute_reply": "2021-09-28T04:39:06.751973Z",
     "shell.execute_reply.started": "2021-09-28T04:39:02.954317Z"
    }
   },
   "outputs": [],
   "source": [
    "rf_pipe = Pipeline([('Transformers', preprocessor)\n",
    "                        ,('RF',  RandomForestClassifier(n_estimators = 500, random_state = 42))])\n",
    "\n",
    "rf_pipe.fit(X_train, Y_train)\n",
    "pred_rf_pipe = rf_pipe.predict(X_test)\n",
    "\n",
    "print(\"Test Accuracy: \",metrics.accuracy_score(Y_test, pred_rf_pipe))"
   ]
  },
  {
   "cell_type": "code",
   "execution_count": 65,
   "metadata": {
    "_kg_hide-input": true,
    "execution": {
     "iopub.execute_input": "2021-09-28T04:39:06.754587Z",
     "iopub.status.busy": "2021-09-28T04:39:06.754314Z",
     "iopub.status.idle": "2021-09-28T04:39:06.997435Z",
     "shell.execute_reply": "2021-09-28T04:39:06.996503Z",
     "shell.execute_reply.started": "2021-09-28T04:39:06.754560Z"
    }
   },
   "outputs": [],
   "source": [
    "rf_pipe_confusion_matrix = metrics.confusion_matrix(Y_test, pred_rf_pipe)\n",
    "sns.heatmap(rf_pipe_confusion_matrix, annot=True, fmt=\"d\")\n",
    "\n",
    "plt.xlabel(\"Predicted Label\", fontsize= 12)\n",
    "plt.ylabel(\"True Label\", fontsize= 12)\n",
    "\n",
    "plt.show()"
   ]
  },
  {
   "cell_type": "code",
   "execution_count": 66,
   "metadata": {
    "_kg_hide-input": true,
    "execution": {
     "iopub.execute_input": "2021-09-28T04:39:06.998776Z",
     "iopub.status.busy": "2021-09-28T04:39:06.998518Z",
     "iopub.status.idle": "2021-09-28T04:39:07.010989Z",
     "shell.execute_reply": "2021-09-28T04:39:07.009823Z",
     "shell.execute_reply.started": "2021-09-28T04:39:06.998751Z"
    }
   },
   "outputs": [],
   "source": [
    "print(metrics.classification_report(Y_test, pred_rf_pipe, labels = [0, 1]))"
   ]
  },
  {
   "cell_type": "code",
   "execution_count": 67,
   "metadata": {
    "_kg_hide-input": true,
    "execution": {
     "iopub.execute_input": "2021-09-28T04:39:07.012626Z",
     "iopub.status.busy": "2021-09-28T04:39:07.012231Z",
     "iopub.status.idle": "2021-09-28T04:39:07.376568Z",
     "shell.execute_reply": "2021-09-28T04:39:07.375519Z",
     "shell.execute_reply.started": "2021-09-28T04:39:07.012594Z"
    }
   },
   "outputs": [],
   "source": [
    "rf_pipe_pred_proba = rf_pipe.predict_proba(X_test)[:,1]\n",
    "\n",
    "rf_pipe_roc_auc = metrics.roc_auc_score(Y_test, rf_pipe_pred_proba)\n",
    "print('ROC_AUC: ', rf_pipe_roc_auc)\n",
    "\n",
    "rf_pipe_fpr, rf_pipe_tpr, thresholds = metrics.roc_curve(Y_test, rf_pipe_pred_proba)\n",
    "\n",
    "plt.plot(rf_pipe_fpr,rf_pipe_tpr, label = 'ROC_AUC = %0.3f' % rf_pipe_roc_auc)\n",
    "\n",
    "plt.xlabel(\"False Positive Rate\", fontsize= 12)\n",
    "plt.ylabel(\"True Positive Rate\", fontsize= 12)\n",
    "plt.legend(loc=\"lower right\")\n",
    "\n",
    "plt.show()"
   ]
  },
  {
   "cell_type": "markdown",
   "metadata": {},
   "source": [
    "It did not go too well either. Let’s move on to the boosting models."
   ]
  },
  {
   "cell_type": "markdown",
   "metadata": {},
   "source": [
    "## <a id=\"44\">XGBoost</a> "
   ]
  },
  {
   "cell_type": "code",
   "execution_count": 68,
   "metadata": {
    "execution": {
     "iopub.execute_input": "2021-09-28T04:39:07.382772Z",
     "iopub.status.busy": "2021-09-28T04:39:07.382439Z",
     "iopub.status.idle": "2021-09-28T04:41:54.945124Z",
     "shell.execute_reply": "2021-09-28T04:41:54.944071Z",
     "shell.execute_reply.started": "2021-09-28T04:39:07.382741Z"
    }
   },
   "outputs": [],
   "source": [
    "xgb_model = XGBClassifier(learning_rate = 0.05 ,random_state = 42, eval_metric = 'logloss')\n",
    "\n",
    "params_xgb_list = [50,75,100,150,200,250,300]\n",
    "param_xgb = 'n_estimators'\n",
    "cv_function(xgb_model, param_xgb, params_xgb_list)"
   ]
  },
  {
   "cell_type": "code",
   "execution_count": 69,
   "metadata": {
    "_kg_hide-output": true,
    "execution": {
     "iopub.execute_input": "2021-09-28T04:41:54.952209Z",
     "iopub.status.busy": "2021-09-28T04:41:54.950498Z",
     "iopub.status.idle": "2021-09-28T04:41:54.960611Z",
     "shell.execute_reply": "2021-09-28T04:41:54.959862Z",
     "shell.execute_reply.started": "2021-09-28T04:41:54.952158Z"
    }
   },
   "outputs": [],
   "source": [
    "xgb_param = {'n_estimators': 75}\n",
    "xgb_model.set_params(**xgb_param) \n",
    "xgb_model"
   ]
  },
  {
   "cell_type": "code",
   "execution_count": 70,
   "metadata": {
    "execution": {
     "iopub.execute_input": "2021-09-28T04:41:54.962054Z",
     "iopub.status.busy": "2021-09-28T04:41:54.961614Z",
     "iopub.status.idle": "2021-09-28T04:41:55.619222Z",
     "shell.execute_reply": "2021-09-28T04:41:55.618266Z",
     "shell.execute_reply.started": "2021-09-28T04:41:54.962010Z"
    }
   },
   "outputs": [],
   "source": [
    "xgb_model.fit(X_train, Y_train, eval_set = [(X_test,Y_test)])\n",
    "\n",
    "pred_xgb = xgb_model.predict(X_test)\n",
    "\n",
    "print(\"Test Accuracy: \",metrics.accuracy_score(Y_test, pred_xgb))"
   ]
  },
  {
   "cell_type": "code",
   "execution_count": 71,
   "metadata": {
    "_kg_hide-input": true,
    "execution": {
     "iopub.execute_input": "2021-09-28T04:41:55.622542Z",
     "iopub.status.busy": "2021-09-28T04:41:55.622002Z",
     "iopub.status.idle": "2021-09-28T04:41:55.884807Z",
     "shell.execute_reply": "2021-09-28T04:41:55.883711Z",
     "shell.execute_reply.started": "2021-09-28T04:41:55.622504Z"
    }
   },
   "outputs": [],
   "source": [
    "xgb_confusion_matrix = metrics.confusion_matrix(Y_test, pred_xgb)\n",
    "sns.heatmap(xgb_confusion_matrix, annot=True, fmt=\"d\")\n",
    "\n",
    "plt.xlabel(\"Predicted Label\", fontsize= 12)\n",
    "plt.ylabel(\"True Label\", fontsize= 12)\n",
    "\n",
    "plt.show()"
   ]
  },
  {
   "cell_type": "code",
   "execution_count": 72,
   "metadata": {
    "_kg_hide-input": true,
    "execution": {
     "iopub.execute_input": "2021-09-28T04:41:55.886348Z",
     "iopub.status.busy": "2021-09-28T04:41:55.886070Z",
     "iopub.status.idle": "2021-09-28T04:41:55.901502Z",
     "shell.execute_reply": "2021-09-28T04:41:55.900261Z",
     "shell.execute_reply.started": "2021-09-28T04:41:55.886322Z"
    }
   },
   "outputs": [],
   "source": [
    "print(metrics.classification_report(Y_test, pred_xgb, labels = [0, 1]))"
   ]
  },
  {
   "cell_type": "code",
   "execution_count": 73,
   "metadata": {
    "_kg_hide-input": true,
    "execution": {
     "iopub.execute_input": "2021-09-28T04:41:55.903015Z",
     "iopub.status.busy": "2021-09-28T04:41:55.902711Z",
     "iopub.status.idle": "2021-09-28T04:41:56.071193Z",
     "shell.execute_reply": "2021-09-28T04:41:56.070144Z",
     "shell.execute_reply.started": "2021-09-28T04:41:55.902984Z"
    }
   },
   "outputs": [],
   "source": [
    "xgb_pred_proba = xgb_model.predict_proba(X_test)[:,1]\n",
    "\n",
    "xgb_roc_auc = metrics.roc_auc_score(Y_test, xgb_pred_proba)\n",
    "print('ROC_AUC: ', xgb_roc_auc)\n",
    "\n",
    "xgb_fpr, xgb_tpr, thresholds = metrics.roc_curve(Y_test, xgb_pred_proba)\n",
    "\n",
    "plt.plot(xgb_fpr,xgb_tpr, label = 'ROC_AUC = %0.3f' % xgb_roc_auc)\n",
    "\n",
    "plt.xlabel(\"False Positive Rate\", fontsize= 12)\n",
    "plt.ylabel(\"True Positive Rate\", fontsize= 12)\n",
    "plt.legend(loc=\"lower right\")\n",
    "\n",
    "plt.show()"
   ]
  },
  {
   "cell_type": "markdown",
   "metadata": {},
   "source": [
    "## <a id=\"45\">Catboost</a> "
   ]
  },
  {
   "cell_type": "code",
   "execution_count": 74,
   "metadata": {
    "execution": {
     "iopub.execute_input": "2021-09-28T04:41:56.072677Z",
     "iopub.status.busy": "2021-09-28T04:41:56.072401Z",
     "iopub.status.idle": "2021-09-28T04:41:56.078104Z",
     "shell.execute_reply": "2021-09-28T04:41:56.077077Z",
     "shell.execute_reply.started": "2021-09-28T04:41:56.072650Z"
    }
   },
   "outputs": [],
   "source": [
    "categorical_ft = [x for x in X.columns if x not in num_features]\n",
    "print(categorical_ft)"
   ]
  },
  {
   "cell_type": "code",
   "execution_count": 75,
   "metadata": {
    "execution": {
     "iopub.execute_input": "2021-09-28T04:41:56.080112Z",
     "iopub.status.busy": "2021-09-28T04:41:56.079685Z",
     "iopub.status.idle": "2021-09-28T04:47:01.091366Z",
     "shell.execute_reply": "2021-09-28T04:47:01.090044Z",
     "shell.execute_reply.started": "2021-09-28T04:41:56.080070Z"
    }
   },
   "outputs": [],
   "source": [
    "cat_model = CatBoostClassifier (random_state = 42, eval_metric = 'AUC', cat_features = categorical_ft, verbose = 0)\n",
    "#cat_model.get_params()\n",
    "\n",
    "params_cat_list = [50,75,100,150,200,250,300]\n",
    "param_cat = 'n_estimators'\n",
    "cv_function(cat_model, param_cat, params_cat_list)"
   ]
  },
  {
   "cell_type": "code",
   "execution_count": 76,
   "metadata": {
    "execution": {
     "iopub.execute_input": "2021-09-28T04:47:01.093395Z",
     "iopub.status.busy": "2021-09-28T04:47:01.092992Z",
     "iopub.status.idle": "2021-09-28T04:47:01.100104Z",
     "shell.execute_reply": "2021-09-28T04:47:01.098953Z",
     "shell.execute_reply.started": "2021-09-28T04:47:01.093361Z"
    }
   },
   "outputs": [],
   "source": [
    "cat_param = {'n_estimators':100}\n",
    "cat_model.set_params(**cat_param) \n",
    "#cat_model"
   ]
  },
  {
   "cell_type": "code",
   "execution_count": 77,
   "metadata": {
    "execution": {
     "iopub.execute_input": "2021-09-28T04:47:01.102191Z",
     "iopub.status.busy": "2021-09-28T04:47:01.101736Z",
     "iopub.status.idle": "2021-09-28T04:47:01.681473Z",
     "shell.execute_reply": "2021-09-28T04:47:01.680325Z",
     "shell.execute_reply.started": "2021-09-28T04:47:01.102134Z"
    }
   },
   "outputs": [],
   "source": [
    "cat_model.fit(X_train, Y_train, eval_set = [(X_test,Y_test)], cat_features = categorical_ft)\n",
    "\n",
    "#xgb_model.fit(X_train, Y_train, early_stopping_rounds = 100, eval_set = [(X_test,Y_test)])\n",
    "#cat_model.fit(X_train, Y_train)\n",
    "\n",
    "pred_cat = cat_model.predict(X_test)\n",
    "\n",
    "print(\"Test Accuracy: \",metrics.accuracy_score(Y_test, pred_cat))"
   ]
  },
  {
   "cell_type": "code",
   "execution_count": 78,
   "metadata": {
    "_kg_hide-input": true,
    "execution": {
     "iopub.execute_input": "2021-09-28T04:47:01.683137Z",
     "iopub.status.busy": "2021-09-28T04:47:01.682771Z",
     "iopub.status.idle": "2021-09-28T04:47:01.942669Z",
     "shell.execute_reply": "2021-09-28T04:47:01.941495Z",
     "shell.execute_reply.started": "2021-09-28T04:47:01.683101Z"
    }
   },
   "outputs": [],
   "source": [
    "cat_confusion_matrix = metrics.confusion_matrix(Y_test, pred_cat)\n",
    "sns.heatmap(cat_confusion_matrix, annot=True, fmt=\"d\")\n",
    "\n",
    "plt.xlabel(\"Predicted Label\", fontsize= 12)\n",
    "plt.ylabel(\"True Label\", fontsize= 12)\n",
    "\n",
    "plt.show()"
   ]
  },
  {
   "cell_type": "code",
   "execution_count": 79,
   "metadata": {
    "_kg_hide-input": true,
    "execution": {
     "iopub.execute_input": "2021-09-28T04:47:01.944328Z",
     "iopub.status.busy": "2021-09-28T04:47:01.944003Z",
     "iopub.status.idle": "2021-09-28T04:47:01.957739Z",
     "shell.execute_reply": "2021-09-28T04:47:01.956647Z",
     "shell.execute_reply.started": "2021-09-28T04:47:01.944296Z"
    }
   },
   "outputs": [],
   "source": [
    "print(metrics.classification_report(Y_test, pred_cat, labels = [0, 1]))"
   ]
  },
  {
   "cell_type": "code",
   "execution_count": 80,
   "metadata": {
    "_kg_hide-input": true,
    "execution": {
     "iopub.execute_input": "2021-09-28T04:47:01.959560Z",
     "iopub.status.busy": "2021-09-28T04:47:01.959199Z",
     "iopub.status.idle": "2021-09-28T04:47:02.136168Z",
     "shell.execute_reply": "2021-09-28T04:47:02.135105Z",
     "shell.execute_reply.started": "2021-09-28T04:47:01.959527Z"
    }
   },
   "outputs": [],
   "source": [
    "cat_pred_proba = cat_model.predict_proba(X_test)[:,1]\n",
    "\n",
    "cat_roc_auc = metrics.roc_auc_score(Y_test, cat_pred_proba)\n",
    "print('ROC_AUC: ', cat_roc_auc)\n",
    "\n",
    "cat_fpr, cat_tpr, thresholds = metrics.roc_curve(Y_test, cat_pred_proba)\n",
    "\n",
    "plt.plot(cat_fpr,cat_tpr, label = 'ROC_AUC = %0.3f' % cat_roc_auc)\n",
    "\n",
    "plt.xlabel(\"False Positive Rate\", fontsize= 12)\n",
    "plt.ylabel(\"True Positive Rate\", fontsize= 12)\n",
    "plt.legend(loc=\"lower right\")\n",
    "\n",
    "plt.show()"
   ]
  },
  {
   "cell_type": "markdown",
   "metadata": {},
   "source": [
    "Results (AUC/accuracy):\n",
    "- Logistic Regression: 0.842/0.807\n",
    "- Random Forest: 0.825/0.788\n",
    "- Random Forest w/preprocessing: 0.823/0.780\n",
    "- XGBoost: 0.846/0.806\n",
    "- Catboost: 0.849/0.813"
   ]
  },
  {
   "cell_type": "markdown",
   "metadata": {},
   "source": [
    "The Catboost yielded the best results, although they were quite close from those obtained with XGBoost and Logistic Regression."
   ]
  },
  {
   "cell_type": "markdown",
   "metadata": {},
   "source": [
    "## <a id=\"46\">Feature Importance and SHAP Plot</a>"
   ]
  },
  {
   "cell_type": "markdown",
   "metadata": {},
   "source": [
    "Let’s see what features have more importance for the Catboost’s predictions."
   ]
  },
  {
   "cell_type": "code",
   "execution_count": 81,
   "metadata": {
    "execution": {
     "iopub.execute_input": "2021-09-28T04:47:02.137703Z",
     "iopub.status.busy": "2021-09-28T04:47:02.137400Z",
     "iopub.status.idle": "2021-09-28T04:47:02.201788Z",
     "shell.execute_reply": "2021-09-28T04:47:02.200335Z",
     "shell.execute_reply.started": "2021-09-28T04:47:02.137671Z"
    }
   },
   "outputs": [],
   "source": [
    "pool = Pool(X_train, Y_train, cat_features=categorical_ft)\n",
    "\n",
    "Feature_importance = pd.DataFrame({'feature_importance': cat_model.get_feature_importance(pool), \n",
    "                      'feature_names': X_train.columns}).sort_values(by=['feature_importance'], \n",
    "                                                           ascending=False)\n",
    "\n",
    "Feature_importance"
   ]
  },
  {
   "cell_type": "code",
   "execution_count": 82,
   "metadata": {
    "execution": {
     "iopub.execute_input": "2021-09-28T04:47:02.204151Z",
     "iopub.status.busy": "2021-09-28T04:47:02.203411Z",
     "iopub.status.idle": "2021-09-28T04:47:02.503848Z",
     "shell.execute_reply": "2021-09-28T04:47:02.502840Z",
     "shell.execute_reply.started": "2021-09-28T04:47:02.204104Z"
    }
   },
   "outputs": [],
   "source": [
    "plt.figure(figsize=(10,10))\n",
    "\n",
    "sns.barplot(x=Feature_importance['feature_importance'], y=Feature_importance['feature_names'], palette = 'rocket')\n",
    "\n",
    "plt.show()"
   ]
  },
  {
   "cell_type": "markdown",
   "metadata": {},
   "source": [
    "To better interpret the model’s results, and maybe gain some insights, we can use the SHAP package [(link)](https://shap.readthedocs.io/en/latest/example_notebooks/tabular_examples/tree_based_models/Catboost%20tutorial.html)."
   ]
  },
  {
   "cell_type": "code",
   "execution_count": 83,
   "metadata": {
    "execution": {
     "iopub.execute_input": "2021-09-28T04:47:02.505474Z",
     "iopub.status.busy": "2021-09-28T04:47:02.505197Z",
     "iopub.status.idle": "2021-09-28T04:47:05.058102Z",
     "shell.execute_reply": "2021-09-28T04:47:05.057088Z",
     "shell.execute_reply.started": "2021-09-28T04:47:02.505447Z"
    }
   },
   "outputs": [],
   "source": [
    "explainer = shap.TreeExplainer(cat_model)\n",
    "shap_values = explainer.shap_values(pool)\n",
    "\n",
    "shap.summary_plot(shap_values, X_train)"
   ]
  },
  {
   "cell_type": "markdown",
   "metadata": {},
   "source": [
    "Since we manually encoded the categorical features, it becomes easier to understand what’s been represented in each category. For instance, the feature ‘contract’ has 3 categories. ‘Month-to-month’ was encoded with the lowest value and it’s represented by the blue color. ‘One year’ is the mid value and it’s represented in purple. ‘Two years’ is the highest value and is represented in red. We can clearly see that the ‘month-to-month’ category impacts the prediction towards the positive value (churn), while the other types of contracts push the prediction into the opposite direction (no churn)."
   ]
  },
  {
   "cell_type": "markdown",
   "metadata": {},
   "source": [
    "# <a id=\"5\">References</a>"
   ]
  },
  {
   "cell_type": "markdown",
   "metadata": {},
   "source": [
    "- https://www.analyticsvidhya.com/blog/2020/06/auc-roc-curve-machine-learning/\n",
    "- https://shap.readthedocs.io/en/latest/example_notebooks/tabular_examples/tree_based_models/Catboost%20tutorial.html"
   ]
  },
  {
   "cell_type": "markdown",
   "metadata": {},
   "source": [
    "## <center> If you find this notebook useful, support with an upvote! <center>"
   ]
  }
 ],
 "metadata": {
  "kernelspec": {
   "display_name": "Python 3",
   "language": "python",
   "name": "python3"
  },
  "language_info": {
   "codemirror_mode": {
    "name": "ipython",
    "version": 3
   },
   "file_extension": ".py",
   "mimetype": "text/x-python",
   "name": "python",
   "nbconvert_exporter": "python",
   "pygments_lexer": "ipython3",
   "version": "3.9.7"
  }
 },
 "nbformat": 4,
 "nbformat_minor": 4
}
