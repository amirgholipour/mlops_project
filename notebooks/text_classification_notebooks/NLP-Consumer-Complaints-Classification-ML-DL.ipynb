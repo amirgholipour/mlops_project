{
 "cells": [
  {
   "cell_type": "code",
   "execution_count": 4,
   "id": "a4954f67-8096-44cf-a89e-c09b1bc118a4",
   "metadata": {},
   "outputs": [],
   "source": [
    "import os\n",
    "import shutil\n",
    "\n",
    "import tensorflow as tf\n",
    "import tensorflow_hub as hub\n",
    "import tensorflow_text as text\n",
    "from official.nlp import optimization  # to create AdamW optimizer\n",
    "\n",
    "import matplotlib.pyplot as plt\n",
    "\n",
    "tf.get_logger().setLevel('ERROR')"
   ]
  },
  {
   "cell_type": "code",
   "execution_count": 16,
   "id": "b49b85cd-6fcf-4db8-b5e0-bd6123b944b7",
   "metadata": {},
   "outputs": [
    {
     "name": "stderr",
     "output_type": "stream",
     "text": [
      "[nltk_data] Downloading package stopwords to /opt/app-\n",
      "[nltk_data]     root/src/nltk_data...\n",
      "[nltk_data]   Unzipping corpora/stopwords.zip.\n"
     ]
    }
   ],
   "source": [
    "import numpy as np\n",
    "import pandas as pd\n",
    "import tensorflow as tf\n",
    "from sklearn.feature_extraction.text import TfidfVectorizer\n",
    "import sklearn.feature_extraction.text as text\n",
    "from sklearn import model_selection, preprocessing, linear_model, naive_bayes, metrics, svm\n",
    "from sklearn.naive_bayes import MultinomialNB\n",
    "from sklearn.linear_model import LogisticRegression\n",
    "from sklearn.ensemble import RandomForestClassifier\n",
    "from sklearn.svm import LinearSVC\n",
    "from sklearn.model_selection import cross_val_score\n",
    "from sklearn.model_selection import train_test_split\n",
    "\n",
    "from textblob import TextBlob\n",
    "from nltk.stem import PorterStemmer,SnowballStemmer\n",
    "from textblob import Word\n",
    "from sklearn.feature_extraction.text import CountVectorizer,TfidfVectorizer\n",
    "from nltk.corpus import stopwords\n",
    "from nltk.tokenize import sent_tokenize, word_tokenize\n",
    "from nltk.tokenize.toktok import ToktokTokenizer\n",
    "\n",
    "from io import StringIO\n",
    "import os\n",
    "import string\n",
    "import gensim\n",
    "from gensim.models import Word2Vec\n",
    "import itertools\n",
    "import scipy\n",
    "from scipy import spatial\n",
    "import seaborn as sns\n",
    "import matplotlib.pyplot as plt\n",
    "import re\n",
    "import nltk\n",
    "tokenizer = ToktokTokenizer()\n",
    "# stopword_list = nltk.corpus.stopwords.words('english')   \n",
    "stopword_list = nltk.download('stopwords')"
   ]
  },
  {
   "cell_type": "code",
   "execution_count": 14,
   "id": "5dee234d-3750-4548-93ec-15f90a7d5a23",
   "metadata": {},
   "outputs": [
    {
     "name": "stdout",
     "output_type": "stream",
     "text": [
      "Requirement already satisfied: textblob in /opt/app-root/lib/python3.9/site-packages (0.15.3)\n",
      "Requirement already satisfied: nltk in /opt/app-root/lib/python3.9/site-packages (3.6.3)\n",
      "Collecting gensim\n",
      "  Downloading gensim-4.1.2-cp39-cp39-manylinux_2_12_x86_64.manylinux2010_x86_64.whl (24.0 MB)\n",
      "\u001b[K     |████████████████████████████████| 24.0 MB 14.2 MB/s eta 0:00:01\n",
      "\u001b[?25hRequirement already satisfied: click in /opt/app-root/lib/python3.9/site-packages (from nltk) (7.1.2)\n",
      "Requirement already satisfied: regex in /opt/app-root/lib/python3.9/site-packages (from nltk) (2021.4.4)\n",
      "Requirement already satisfied: joblib in /opt/app-root/lib/python3.9/site-packages (from nltk) (1.0.1)\n",
      "Requirement already satisfied: tqdm in /opt/app-root/lib/python3.9/site-packages (from nltk) (4.61.1)\n",
      "Requirement already satisfied: scipy>=0.18.1 in /opt/app-root/lib/python3.9/site-packages (from gensim) (1.7.0)\n",
      "Requirement already satisfied: numpy>=1.17.0 in /opt/app-root/lib/python3.9/site-packages (from gensim) (1.21.0)\n",
      "Collecting smart-open>=1.8.1\n",
      "  Downloading smart_open-5.2.1-py3-none-any.whl (58 kB)\n",
      "\u001b[K     |████████████████████████████████| 58 kB 75.8 MB/s eta 0:00:01\n",
      "\u001b[?25hInstalling collected packages: smart-open, gensim\n",
      "Successfully installed gensim-4.1.2 smart-open-5.2.1\n",
      "\u001b[33mWARNING: You are using pip version 20.2.4; however, version 21.2.4 is available.\n",
      "You should consider upgrading via the '/opt/app-root/bin/python3.9 -m pip install --upgrade pip' command.\u001b[0m\n"
     ]
    }
   ],
   "source": [
    "!pip install textblob nltk gensim"
   ]
  },
  {
   "cell_type": "code",
   "execution_count": 17,
   "id": "1ec3a641-fb92-48ac-8abf-c635543f9990",
   "metadata": {},
   "outputs": [],
   "source": [
    "import warnings\n",
    "warnings.filterwarnings(\"ignore\")"
   ]
  },
  {
   "cell_type": "code",
   "execution_count": null,
   "id": "7cf4839b-2f2f-40b1-a324-429bbee1c755",
   "metadata": {},
   "outputs": [],
   "source": []
  },
  {
   "cell_type": "code",
   "execution_count": 18,
   "id": "3d7fc4d0-dbf1-41e0-b101-255c453747f7",
   "metadata": {},
   "outputs": [
    {
     "name": "stderr",
     "output_type": "stream",
     "text": [
      "[nltk_data] Downloading package stopwords to /opt/app-\n",
      "[nltk_data]     root/src/nltk_data...\n",
      "[nltk_data]   Package stopwords is already up-to-date!\n"
     ]
    },
    {
     "data": {
      "text/plain": [
       "True"
      ]
     },
     "execution_count": 18,
     "metadata": {},
     "output_type": "execute_result"
    }
   ],
   "source": [
    "nltk.download('stopwords')\n"
   ]
  },
  {
   "cell_type": "code",
   "execution_count": 19,
   "id": "dbf6e525-0403-4703-b208-e4c52b5f122a",
   "metadata": {},
   "outputs": [
    {
     "name": "stderr",
     "output_type": "stream",
     "text": [
      "[nltk_data] Downloading package wordnet to /opt/app-\n",
      "[nltk_data]     root/src/nltk_data...\n",
      "[nltk_data]   Unzipping corpora/wordnet.zip.\n"
     ]
    },
    {
     "data": {
      "text/plain": [
       "True"
      ]
     },
     "execution_count": 19,
     "metadata": {},
     "output_type": "execute_result"
    }
   ],
   "source": [
    "nltk.download('wordnet')\n"
   ]
  },
  {
   "cell_type": "code",
   "execution_count": null,
   "id": "bc14d0f8-41e1-4744-8e32-92f06ba16f88",
   "metadata": {},
   "outputs": [],
   "source": []
  },
  {
   "cell_type": "code",
   "execution_count": 20,
   "id": "416e762d-dc3e-42f6-ad28-72ea451fcb92",
   "metadata": {},
   "outputs": [],
   "source": [
    "df = pd.read_csv(\"consumer_complaints.csv\")\n"
   ]
  },
  {
   "cell_type": "code",
   "execution_count": 21,
   "id": "a810820c-25de-4546-b127-eb5230f6687e",
   "metadata": {},
   "outputs": [
    {
     "data": {
      "text/html": [
       "<div>\n",
       "<style scoped>\n",
       "    .dataframe tbody tr th:only-of-type {\n",
       "        vertical-align: middle;\n",
       "    }\n",
       "\n",
       "    .dataframe tbody tr th {\n",
       "        vertical-align: top;\n",
       "    }\n",
       "\n",
       "    .dataframe thead th {\n",
       "        text-align: right;\n",
       "    }\n",
       "</style>\n",
       "<table border=\"1\" class=\"dataframe\">\n",
       "  <thead>\n",
       "    <tr style=\"text-align: right;\">\n",
       "      <th></th>\n",
       "      <th>date_received</th>\n",
       "      <th>product</th>\n",
       "      <th>sub_product</th>\n",
       "      <th>issue</th>\n",
       "      <th>sub_issue</th>\n",
       "      <th>consumer_complaint_narrative</th>\n",
       "      <th>company_public_response</th>\n",
       "      <th>company</th>\n",
       "      <th>state</th>\n",
       "      <th>zipcode</th>\n",
       "      <th>tags</th>\n",
       "      <th>consumer_consent_provided</th>\n",
       "      <th>submitted_via</th>\n",
       "      <th>date_sent_to_company</th>\n",
       "      <th>company_response_to_consumer</th>\n",
       "      <th>timely_response</th>\n",
       "      <th>consumer_disputed?</th>\n",
       "      <th>complaint_id</th>\n",
       "    </tr>\n",
       "  </thead>\n",
       "  <tbody>\n",
       "    <tr>\n",
       "      <th>0</th>\n",
       "      <td>08/30/2013</td>\n",
       "      <td>Mortgage</td>\n",
       "      <td>Other mortgage</td>\n",
       "      <td>Loan modification,collection,foreclosure</td>\n",
       "      <td>NaN</td>\n",
       "      <td>NaN</td>\n",
       "      <td>NaN</td>\n",
       "      <td>U.S. Bancorp</td>\n",
       "      <td>CA</td>\n",
       "      <td>95993</td>\n",
       "      <td>NaN</td>\n",
       "      <td>NaN</td>\n",
       "      <td>Referral</td>\n",
       "      <td>09/03/2013</td>\n",
       "      <td>Closed with explanation</td>\n",
       "      <td>Yes</td>\n",
       "      <td>Yes</td>\n",
       "      <td>511074.0</td>\n",
       "    </tr>\n",
       "    <tr>\n",
       "      <th>1</th>\n",
       "      <td>08/30/2013</td>\n",
       "      <td>Mortgage</td>\n",
       "      <td>Other mortgage</td>\n",
       "      <td>Loan servicing, payments, escrow account</td>\n",
       "      <td>NaN</td>\n",
       "      <td>NaN</td>\n",
       "      <td>NaN</td>\n",
       "      <td>Wells Fargo &amp; Company</td>\n",
       "      <td>CA</td>\n",
       "      <td>91104</td>\n",
       "      <td>NaN</td>\n",
       "      <td>NaN</td>\n",
       "      <td>Referral</td>\n",
       "      <td>09/03/2013</td>\n",
       "      <td>Closed with explanation</td>\n",
       "      <td>Yes</td>\n",
       "      <td>Yes</td>\n",
       "      <td>511080.0</td>\n",
       "    </tr>\n",
       "    <tr>\n",
       "      <th>2</th>\n",
       "      <td>08/30/2013</td>\n",
       "      <td>Credit reporting</td>\n",
       "      <td>NaN</td>\n",
       "      <td>Incorrect information on credit report</td>\n",
       "      <td>Account status</td>\n",
       "      <td>NaN</td>\n",
       "      <td>NaN</td>\n",
       "      <td>Wells Fargo &amp; Company</td>\n",
       "      <td>NY</td>\n",
       "      <td>11764</td>\n",
       "      <td>NaN</td>\n",
       "      <td>NaN</td>\n",
       "      <td>Postal mail</td>\n",
       "      <td>09/18/2013</td>\n",
       "      <td>Closed with explanation</td>\n",
       "      <td>Yes</td>\n",
       "      <td>No</td>\n",
       "      <td>510473.0</td>\n",
       "    </tr>\n",
       "    <tr>\n",
       "      <th>3</th>\n",
       "      <td>08/30/2013</td>\n",
       "      <td>Student loan</td>\n",
       "      <td>Non-federal student loan</td>\n",
       "      <td>Repaying your loan</td>\n",
       "      <td>Repaying your loan</td>\n",
       "      <td>NaN</td>\n",
       "      <td>NaN</td>\n",
       "      <td>Navient Solutions, Inc.</td>\n",
       "      <td>MD</td>\n",
       "      <td>21402</td>\n",
       "      <td>NaN</td>\n",
       "      <td>NaN</td>\n",
       "      <td>Email</td>\n",
       "      <td>08/30/2013</td>\n",
       "      <td>Closed with explanation</td>\n",
       "      <td>Yes</td>\n",
       "      <td>Yes</td>\n",
       "      <td>510326.0</td>\n",
       "    </tr>\n",
       "    <tr>\n",
       "      <th>4</th>\n",
       "      <td>08/30/2013</td>\n",
       "      <td>Debt collection</td>\n",
       "      <td>Credit card</td>\n",
       "      <td>False statements or representation</td>\n",
       "      <td>Attempted to collect wrong amount</td>\n",
       "      <td>NaN</td>\n",
       "      <td>NaN</td>\n",
       "      <td>Resurgent Capital Services L.P.</td>\n",
       "      <td>GA</td>\n",
       "      <td>30106</td>\n",
       "      <td>NaN</td>\n",
       "      <td>NaN</td>\n",
       "      <td>Web</td>\n",
       "      <td>08/30/2013</td>\n",
       "      <td>Closed with explanation</td>\n",
       "      <td>Yes</td>\n",
       "      <td>Yes</td>\n",
       "      <td>511067.0</td>\n",
       "    </tr>\n",
       "  </tbody>\n",
       "</table>\n",
       "</div>"
      ],
      "text/plain": [
       "  date_received           product               sub_product  \\\n",
       "0    08/30/2013          Mortgage            Other mortgage   \n",
       "1    08/30/2013          Mortgage            Other mortgage   \n",
       "2    08/30/2013  Credit reporting                       NaN   \n",
       "3    08/30/2013      Student loan  Non-federal student loan   \n",
       "4    08/30/2013   Debt collection               Credit card   \n",
       "\n",
       "                                      issue  \\\n",
       "0  Loan modification,collection,foreclosure   \n",
       "1  Loan servicing, payments, escrow account   \n",
       "2    Incorrect information on credit report   \n",
       "3                        Repaying your loan   \n",
       "4        False statements or representation   \n",
       "\n",
       "                           sub_issue consumer_complaint_narrative  \\\n",
       "0                                NaN                          NaN   \n",
       "1                                NaN                          NaN   \n",
       "2                     Account status                          NaN   \n",
       "3                 Repaying your loan                          NaN   \n",
       "4  Attempted to collect wrong amount                          NaN   \n",
       "\n",
       "  company_public_response                          company state zipcode tags  \\\n",
       "0                     NaN                     U.S. Bancorp    CA   95993  NaN   \n",
       "1                     NaN            Wells Fargo & Company    CA   91104  NaN   \n",
       "2                     NaN            Wells Fargo & Company    NY   11764  NaN   \n",
       "3                     NaN          Navient Solutions, Inc.    MD   21402  NaN   \n",
       "4                     NaN  Resurgent Capital Services L.P.    GA   30106  NaN   \n",
       "\n",
       "  consumer_consent_provided submitted_via date_sent_to_company  \\\n",
       "0                       NaN      Referral           09/03/2013   \n",
       "1                       NaN      Referral           09/03/2013   \n",
       "2                       NaN   Postal mail           09/18/2013   \n",
       "3                       NaN         Email           08/30/2013   \n",
       "4                       NaN           Web           08/30/2013   \n",
       "\n",
       "  company_response_to_consumer timely_response consumer_disputed?  \\\n",
       "0      Closed with explanation             Yes                Yes   \n",
       "1      Closed with explanation             Yes                Yes   \n",
       "2      Closed with explanation             Yes                 No   \n",
       "3      Closed with explanation             Yes                Yes   \n",
       "4      Closed with explanation             Yes                Yes   \n",
       "\n",
       "   complaint_id  \n",
       "0      511074.0  \n",
       "1      511080.0  \n",
       "2      510473.0  \n",
       "3      510326.0  \n",
       "4      511067.0  "
      ]
     },
     "execution_count": 21,
     "metadata": {},
     "output_type": "execute_result"
    }
   ],
   "source": [
    "df.head()\n"
   ]
  },
  {
   "cell_type": "code",
   "execution_count": null,
   "id": "f97eaf7f-8fbe-4e5e-8e1d-0349984a6688",
   "metadata": {},
   "outputs": [],
   "source": []
  },
  {
   "cell_type": "code",
   "execution_count": 22,
   "id": "da0a69da-7946-433a-9344-1960557a3a53",
   "metadata": {},
   "outputs": [
    {
     "data": {
      "text/plain": [
       "date_received                    object\n",
       "product                          object\n",
       "sub_product                      object\n",
       "issue                            object\n",
       "sub_issue                        object\n",
       "consumer_complaint_narrative     object\n",
       "company_public_response          object\n",
       "company                          object\n",
       "state                            object\n",
       "zipcode                          object\n",
       "tags                             object\n",
       "consumer_consent_provided        object\n",
       "submitted_via                    object\n",
       "date_sent_to_company             object\n",
       "company_response_to_consumer     object\n",
       "timely_response                  object\n",
       "consumer_disputed?               object\n",
       "complaint_id                    float64\n",
       "dtype: object"
      ]
     },
     "execution_count": 22,
     "metadata": {},
     "output_type": "execute_result"
    }
   ],
   "source": [
    "df.dtypes\n"
   ]
  },
  {
   "cell_type": "code",
   "execution_count": null,
   "id": "b605d28c-5fea-4f5b-922e-076834848323",
   "metadata": {},
   "outputs": [],
   "source": []
  },
  {
   "cell_type": "code",
   "execution_count": 23,
   "id": "0ac9106c-4fd2-45cc-90d9-472371758ec5",
   "metadata": {},
   "outputs": [
    {
     "data": {
      "text/html": [
       "<div>\n",
       "<style scoped>\n",
       "    .dataframe tbody tr th:only-of-type {\n",
       "        vertical-align: middle;\n",
       "    }\n",
       "\n",
       "    .dataframe tbody tr th {\n",
       "        vertical-align: top;\n",
       "    }\n",
       "\n",
       "    .dataframe thead th {\n",
       "        text-align: right;\n",
       "    }\n",
       "</style>\n",
       "<table border=\"1\" class=\"dataframe\">\n",
       "  <thead>\n",
       "    <tr style=\"text-align: right;\">\n",
       "      <th></th>\n",
       "      <th>date_received</th>\n",
       "      <th>product</th>\n",
       "      <th>sub_product</th>\n",
       "      <th>issue</th>\n",
       "      <th>sub_issue</th>\n",
       "      <th>consumer_complaint_narrative</th>\n",
       "      <th>company_public_response</th>\n",
       "      <th>company</th>\n",
       "      <th>state</th>\n",
       "      <th>zipcode</th>\n",
       "      <th>tags</th>\n",
       "      <th>consumer_consent_provided</th>\n",
       "      <th>submitted_via</th>\n",
       "      <th>date_sent_to_company</th>\n",
       "      <th>company_response_to_consumer</th>\n",
       "      <th>timely_response</th>\n",
       "      <th>consumer_disputed?</th>\n",
       "      <th>complaint_id</th>\n",
       "    </tr>\n",
       "  </thead>\n",
       "  <tbody>\n",
       "    <tr>\n",
       "      <th>count</th>\n",
       "      <td>287944</td>\n",
       "      <td>287944</td>\n",
       "      <td>205374</td>\n",
       "      <td>287944</td>\n",
       "      <td>138620</td>\n",
       "      <td>32719</td>\n",
       "      <td>38258</td>\n",
       "      <td>287944</td>\n",
       "      <td>286650</td>\n",
       "      <td>287027</td>\n",
       "      <td>42715</td>\n",
       "      <td>61812</td>\n",
       "      <td>287943</td>\n",
       "      <td>287943</td>\n",
       "      <td>287943</td>\n",
       "      <td>287943</td>\n",
       "      <td>287943</td>\n",
       "      <td>2.879430e+05</td>\n",
       "    </tr>\n",
       "    <tr>\n",
       "      <th>unique</th>\n",
       "      <td>731</td>\n",
       "      <td>11</td>\n",
       "      <td>46</td>\n",
       "      <td>92</td>\n",
       "      <td>68</td>\n",
       "      <td>32132</td>\n",
       "      <td>9</td>\n",
       "      <td>3122</td>\n",
       "      <td>62</td>\n",
       "      <td>22572</td>\n",
       "      <td>3</td>\n",
       "      <td>4</td>\n",
       "      <td>6</td>\n",
       "      <td>786</td>\n",
       "      <td>5</td>\n",
       "      <td>2</td>\n",
       "      <td>2</td>\n",
       "      <td>NaN</td>\n",
       "    </tr>\n",
       "    <tr>\n",
       "      <th>top</th>\n",
       "      <td>08/27/2015</td>\n",
       "      <td>Mortgage</td>\n",
       "      <td>Other mortgage</td>\n",
       "      <td>Incorrect information on credit report</td>\n",
       "      <td>Debt is not mine</td>\n",
       "      <td>This company continues to report on my credit ...</td>\n",
       "      <td>Company chooses not to provide a public response</td>\n",
       "      <td>Bank of America</td>\n",
       "      <td>CA</td>\n",
       "      <td>300XX</td>\n",
       "      <td>Older American</td>\n",
       "      <td>Consent provided</td>\n",
       "      <td>Web</td>\n",
       "      <td>03/12/2014</td>\n",
       "      <td>Closed with explanation</td>\n",
       "      <td>Yes</td>\n",
       "      <td>No</td>\n",
       "      <td>NaN</td>\n",
       "    </tr>\n",
       "    <tr>\n",
       "      <th>freq</th>\n",
       "      <td>945</td>\n",
       "      <td>78660</td>\n",
       "      <td>26415</td>\n",
       "      <td>40681</td>\n",
       "      <td>19001</td>\n",
       "      <td>37</td>\n",
       "      <td>27268</td>\n",
       "      <td>18937</td>\n",
       "      <td>40632</td>\n",
       "      <td>587</td>\n",
       "      <td>24203</td>\n",
       "      <td>32719</td>\n",
       "      <td>205158</td>\n",
       "      <td>903</td>\n",
       "      <td>222422</td>\n",
       "      <td>280567</td>\n",
       "      <td>230259</td>\n",
       "      <td>NaN</td>\n",
       "    </tr>\n",
       "    <tr>\n",
       "      <th>mean</th>\n",
       "      <td>NaN</td>\n",
       "      <td>NaN</td>\n",
       "      <td>NaN</td>\n",
       "      <td>NaN</td>\n",
       "      <td>NaN</td>\n",
       "      <td>NaN</td>\n",
       "      <td>NaN</td>\n",
       "      <td>NaN</td>\n",
       "      <td>NaN</td>\n",
       "      <td>NaN</td>\n",
       "      <td>NaN</td>\n",
       "      <td>NaN</td>\n",
       "      <td>NaN</td>\n",
       "      <td>NaN</td>\n",
       "      <td>NaN</td>\n",
       "      <td>NaN</td>\n",
       "      <td>NaN</td>\n",
       "      <td>1.083377e+06</td>\n",
       "    </tr>\n",
       "    <tr>\n",
       "      <th>std</th>\n",
       "      <td>NaN</td>\n",
       "      <td>NaN</td>\n",
       "      <td>NaN</td>\n",
       "      <td>NaN</td>\n",
       "      <td>NaN</td>\n",
       "      <td>NaN</td>\n",
       "      <td>NaN</td>\n",
       "      <td>NaN</td>\n",
       "      <td>NaN</td>\n",
       "      <td>NaN</td>\n",
       "      <td>NaN</td>\n",
       "      <td>NaN</td>\n",
       "      <td>NaN</td>\n",
       "      <td>NaN</td>\n",
       "      <td>NaN</td>\n",
       "      <td>NaN</td>\n",
       "      <td>NaN</td>\n",
       "      <td>2.916342e+05</td>\n",
       "    </tr>\n",
       "    <tr>\n",
       "      <th>min</th>\n",
       "      <td>NaN</td>\n",
       "      <td>NaN</td>\n",
       "      <td>NaN</td>\n",
       "      <td>NaN</td>\n",
       "      <td>NaN</td>\n",
       "      <td>NaN</td>\n",
       "      <td>NaN</td>\n",
       "      <td>NaN</td>\n",
       "      <td>NaN</td>\n",
       "      <td>NaN</td>\n",
       "      <td>NaN</td>\n",
       "      <td>NaN</td>\n",
       "      <td>NaN</td>\n",
       "      <td>NaN</td>\n",
       "      <td>NaN</td>\n",
       "      <td>NaN</td>\n",
       "      <td>NaN</td>\n",
       "      <td>5.099440e+05</td>\n",
       "    </tr>\n",
       "    <tr>\n",
       "      <th>25%</th>\n",
       "      <td>NaN</td>\n",
       "      <td>NaN</td>\n",
       "      <td>NaN</td>\n",
       "      <td>NaN</td>\n",
       "      <td>NaN</td>\n",
       "      <td>NaN</td>\n",
       "      <td>NaN</td>\n",
       "      <td>NaN</td>\n",
       "      <td>NaN</td>\n",
       "      <td>NaN</td>\n",
       "      <td>NaN</td>\n",
       "      <td>NaN</td>\n",
       "      <td>NaN</td>\n",
       "      <td>NaN</td>\n",
       "      <td>NaN</td>\n",
       "      <td>NaN</td>\n",
       "      <td>NaN</td>\n",
       "      <td>8.361265e+05</td>\n",
       "    </tr>\n",
       "    <tr>\n",
       "      <th>50%</th>\n",
       "      <td>NaN</td>\n",
       "      <td>NaN</td>\n",
       "      <td>NaN</td>\n",
       "      <td>NaN</td>\n",
       "      <td>NaN</td>\n",
       "      <td>NaN</td>\n",
       "      <td>NaN</td>\n",
       "      <td>NaN</td>\n",
       "      <td>NaN</td>\n",
       "      <td>NaN</td>\n",
       "      <td>NaN</td>\n",
       "      <td>NaN</td>\n",
       "      <td>NaN</td>\n",
       "      <td>NaN</td>\n",
       "      <td>NaN</td>\n",
       "      <td>NaN</td>\n",
       "      <td>NaN</td>\n",
       "      <td>1.085814e+06</td>\n",
       "    </tr>\n",
       "    <tr>\n",
       "      <th>75%</th>\n",
       "      <td>NaN</td>\n",
       "      <td>NaN</td>\n",
       "      <td>NaN</td>\n",
       "      <td>NaN</td>\n",
       "      <td>NaN</td>\n",
       "      <td>NaN</td>\n",
       "      <td>NaN</td>\n",
       "      <td>NaN</td>\n",
       "      <td>NaN</td>\n",
       "      <td>NaN</td>\n",
       "      <td>NaN</td>\n",
       "      <td>NaN</td>\n",
       "      <td>NaN</td>\n",
       "      <td>NaN</td>\n",
       "      <td>NaN</td>\n",
       "      <td>NaN</td>\n",
       "      <td>NaN</td>\n",
       "      <td>1.336831e+06</td>\n",
       "    </tr>\n",
       "    <tr>\n",
       "      <th>max</th>\n",
       "      <td>NaN</td>\n",
       "      <td>NaN</td>\n",
       "      <td>NaN</td>\n",
       "      <td>NaN</td>\n",
       "      <td>NaN</td>\n",
       "      <td>NaN</td>\n",
       "      <td>NaN</td>\n",
       "      <td>NaN</td>\n",
       "      <td>NaN</td>\n",
       "      <td>NaN</td>\n",
       "      <td>NaN</td>\n",
       "      <td>NaN</td>\n",
       "      <td>NaN</td>\n",
       "      <td>NaN</td>\n",
       "      <td>NaN</td>\n",
       "      <td>NaN</td>\n",
       "      <td>NaN</td>\n",
       "      <td>1.659039e+06</td>\n",
       "    </tr>\n",
       "  </tbody>\n",
       "</table>\n",
       "</div>"
      ],
      "text/plain": [
       "       date_received   product     sub_product  \\\n",
       "count         287944    287944          205374   \n",
       "unique           731        11              46   \n",
       "top       08/27/2015  Mortgage  Other mortgage   \n",
       "freq             945     78660           26415   \n",
       "mean             NaN       NaN             NaN   \n",
       "std              NaN       NaN             NaN   \n",
       "min              NaN       NaN             NaN   \n",
       "25%              NaN       NaN             NaN   \n",
       "50%              NaN       NaN             NaN   \n",
       "75%              NaN       NaN             NaN   \n",
       "max              NaN       NaN             NaN   \n",
       "\n",
       "                                         issue         sub_issue  \\\n",
       "count                                   287944            138620   \n",
       "unique                                      92                68   \n",
       "top     Incorrect information on credit report  Debt is not mine   \n",
       "freq                                     40681             19001   \n",
       "mean                                       NaN               NaN   \n",
       "std                                        NaN               NaN   \n",
       "min                                        NaN               NaN   \n",
       "25%                                        NaN               NaN   \n",
       "50%                                        NaN               NaN   \n",
       "75%                                        NaN               NaN   \n",
       "max                                        NaN               NaN   \n",
       "\n",
       "                             consumer_complaint_narrative  \\\n",
       "count                                               32719   \n",
       "unique                                              32132   \n",
       "top     This company continues to report on my credit ...   \n",
       "freq                                                   37   \n",
       "mean                                                  NaN   \n",
       "std                                                   NaN   \n",
       "min                                                   NaN   \n",
       "25%                                                   NaN   \n",
       "50%                                                   NaN   \n",
       "75%                                                   NaN   \n",
       "max                                                   NaN   \n",
       "\n",
       "                                 company_public_response          company  \\\n",
       "count                                              38258           287944   \n",
       "unique                                                 9             3122   \n",
       "top     Company chooses not to provide a public response  Bank of America   \n",
       "freq                                               27268            18937   \n",
       "mean                                                 NaN              NaN   \n",
       "std                                                  NaN              NaN   \n",
       "min                                                  NaN              NaN   \n",
       "25%                                                  NaN              NaN   \n",
       "50%                                                  NaN              NaN   \n",
       "75%                                                  NaN              NaN   \n",
       "max                                                  NaN              NaN   \n",
       "\n",
       "         state zipcode            tags consumer_consent_provided  \\\n",
       "count   286650  287027           42715                     61812   \n",
       "unique      62   22572               3                         4   \n",
       "top         CA   300XX  Older American          Consent provided   \n",
       "freq     40632     587           24203                     32719   \n",
       "mean       NaN     NaN             NaN                       NaN   \n",
       "std        NaN     NaN             NaN                       NaN   \n",
       "min        NaN     NaN             NaN                       NaN   \n",
       "25%        NaN     NaN             NaN                       NaN   \n",
       "50%        NaN     NaN             NaN                       NaN   \n",
       "75%        NaN     NaN             NaN                       NaN   \n",
       "max        NaN     NaN             NaN                       NaN   \n",
       "\n",
       "       submitted_via date_sent_to_company company_response_to_consumer  \\\n",
       "count         287943               287943                       287943   \n",
       "unique             6                  786                            5   \n",
       "top              Web           03/12/2014      Closed with explanation   \n",
       "freq          205158                  903                       222422   \n",
       "mean             NaN                  NaN                          NaN   \n",
       "std              NaN                  NaN                          NaN   \n",
       "min              NaN                  NaN                          NaN   \n",
       "25%              NaN                  NaN                          NaN   \n",
       "50%              NaN                  NaN                          NaN   \n",
       "75%              NaN                  NaN                          NaN   \n",
       "max              NaN                  NaN                          NaN   \n",
       "\n",
       "       timely_response consumer_disputed?  complaint_id  \n",
       "count           287943             287943  2.879430e+05  \n",
       "unique               2                  2           NaN  \n",
       "top                Yes                 No           NaN  \n",
       "freq            280567             230259           NaN  \n",
       "mean               NaN                NaN  1.083377e+06  \n",
       "std                NaN                NaN  2.916342e+05  \n",
       "min                NaN                NaN  5.099440e+05  \n",
       "25%                NaN                NaN  8.361265e+05  \n",
       "50%                NaN                NaN  1.085814e+06  \n",
       "75%                NaN                NaN  1.336831e+06  \n",
       "max                NaN                NaN  1.659039e+06  "
      ]
     },
     "execution_count": 23,
     "metadata": {},
     "output_type": "execute_result"
    }
   ],
   "source": [
    "df.describe(include='all')\n"
   ]
  },
  {
   "cell_type": "code",
   "execution_count": 24,
   "id": "22ed597e-3a31-4683-a294-15e1ea0ff0ee",
   "metadata": {},
   "outputs": [
    {
     "data": {
      "text/plain": [
       "date_received                    0.000000\n",
       "product                          0.000000\n",
       "sub_product                     28.675715\n",
       "issue                            0.000000\n",
       "sub_issue                       51.858695\n",
       "consumer_complaint_narrative    88.637027\n",
       "company_public_response         86.713389\n",
       "company                          0.000000\n",
       "state                            0.449393\n",
       "zipcode                          0.318465\n",
       "tags                            85.165518\n",
       "consumer_consent_provided       78.533326\n",
       "submitted_via                    0.000347\n",
       "date_sent_to_company             0.000347\n",
       "company_response_to_consumer     0.000347\n",
       "timely_response                  0.000347\n",
       "consumer_disputed?               0.000347\n",
       "complaint_id                     0.000347\n",
       "dtype: float64"
      ]
     },
     "execution_count": 24,
     "metadata": {},
     "output_type": "execute_result"
    }
   ],
   "source": [
    "df.isnull().sum()/df.shape[0]*100\n"
   ]
  },
  {
   "cell_type": "code",
   "execution_count": 25,
   "id": "07483189-8d37-4164-a304-4cebe482a3c4",
   "metadata": {},
   "outputs": [],
   "source": [
    "df1 = df[['complaint_id','date_received','product','issue','company','state','submitted_via','company_response_to_consumer','timely_response','consumer_disputed?','consumer_complaint_narrative']]\n"
   ]
  },
  {
   "cell_type": "code",
   "execution_count": 26,
   "id": "799fb4f1-0991-4807-81cf-3e0b7b1cb584",
   "metadata": {},
   "outputs": [],
   "source": [
    "df1 = df1[pd.notnull(df1['consumer_complaint_narrative'])]\n"
   ]
  },
  {
   "cell_type": "markdown",
   "id": "51a6d3a4-acdc-453c-9b0d-1f617feeabfb",
   "metadata": {},
   "source": [
    "## EDA\n",
    "We’ll check the disribution of complaints by product category to understand which product received maximum complaints and \n",
    "\n",
    "other products which rarely receive complaints.\n",
    "\n"
   ]
  },
  {
   "cell_type": "code",
   "execution_count": 28,
   "id": "dc8a2bfb-67c6-4d2d-a2fd-46b41ec6ddd6",
   "metadata": {},
   "outputs": [
    {
     "data": {
      "text/plain": [
       "<AxesSubplot:xlabel='product', ylabel='count'>"
      ]
     },
     "execution_count": 28,
     "metadata": {},
     "output_type": "execute_result"
    },
    {
     "data": {
      "image/png": "[encoded data removed]",
      "text/plain": [
       "<Figure size 1296x432 with 1 Axes>"
      ]
     },
     "metadata": {
      "needs_background": "light"
     },
     "output_type": "display_data"
    }
   ],
   "source": [
    "fig,ax = plt.subplots(figsize=(18,6))\n",
    "sns.countplot(x='product',data=df1)"
   ]
  },
  {
   "cell_type": "markdown",
   "id": "704bbf18-cb29-47a1-bf9f-2038306e6f5c",
   "metadata": {},
   "source": [
    "From this plot we can see Debt Collection and Mortgage received maximum number of complaints\n",
    "\n",
    "We’ll now analyze the contingency table in form of plot to understand which product has more customer disputes on their complaints after resolving the issues"
   ]
  },
  {
   "cell_type": "code",
   "execution_count": 29,
   "id": "123833a8-7a4a-445b-a340-c81db4129cbc",
   "metadata": {},
   "outputs": [
    {
     "data": {
      "text/plain": [
       "<AxesSubplot:xlabel='product'>"
      ]
     },
     "execution_count": 29,
     "metadata": {},
     "output_type": "execute_result"
    },
    {
     "data": {
      "image/png": "[encoded data removed]",
      "text/plain": [
       "<Figure size 432x288 with 1 Axes>"
      ]
     },
     "metadata": {
      "needs_background": "light"
     },
     "output_type": "display_data"
    }
   ],
   "source": [
    "pd.crosstab(df1['product'],df1['consumer_disputed?']).plot(kind='bar')\n"
   ]
  },
  {
   "cell_type": "markdown",
   "id": "bf444d3b-9c42-4181-b996-83d5fb380a8e",
   "metadata": {},
   "source": [
    "Not much of difference in proportion of disputes raised by complaint for each product category.\n",
    "\n",
    "Checking various plots to identify patterns within data"
   ]
  },
  {
   "cell_type": "code",
   "execution_count": 30,
   "id": "9aa975f0-5b8c-42bb-a599-9c3b5d9318e5",
   "metadata": {},
   "outputs": [
    {
     "data": {
      "text/plain": [
       "(Timestamp('2015-03-19 00:00:00'), Timestamp('2015-10-23 00:00:00'))"
      ]
     },
     "execution_count": 30,
     "metadata": {},
     "output_type": "execute_result"
    }
   ],
   "source": [
    "df1['date_received'] = pd.to_datetime(df1['date_received'])\n",
    "df1.date_received.min(),df1.date_received.max()\n"
   ]
  },
  {
   "cell_type": "code",
   "execution_count": 31,
   "id": "d59e34d8-6f4e-4192-a155-630c25b17477",
   "metadata": {},
   "outputs": [
    {
     "data": {
      "text/plain": [
       "<AxesSubplot:xlabel='month', ylabel='count'>"
      ]
     },
     "execution_count": 31,
     "metadata": {},
     "output_type": "execute_result"
    },
    {
     "data": {
      "image/png": "[encoded data removed]",
      "text/plain": [
       "<Figure size 432x288 with 1 Axes>"
      ]
     },
     "metadata": {
      "needs_background": "light"
     },
     "output_type": "display_data"
    }
   ],
   "source": [
    "df1['month'] = df1['date_received'].dt.month\n",
    "sns.countplot(x='month',data=df1)"
   ]
  },
  {
   "cell_type": "code",
   "execution_count": 32,
   "id": "c40b4e76-212a-4f07-a2cb-b197497c5439",
   "metadata": {},
   "outputs": [
    {
     "data": {
      "text/plain": [
       "<AxesSubplot:xlabel='timely_response', ylabel='count'>"
      ]
     },
     "execution_count": 32,
     "metadata": {},
     "output_type": "execute_result"
    },
    {
     "data": {
      "image/png": "[encoded data removed]",
      "text/plain": [
       "<Figure size 432x288 with 1 Axes>"
      ]
     },
     "metadata": {
      "needs_background": "light"
     },
     "output_type": "display_data"
    }
   ],
   "source": [
    "sns.countplot(x='timely_response',data=df1)\n"
   ]
  },
  {
   "cell_type": "markdown",
   "id": "96aee115-4fb6-4512-8409-84298d307016",
   "metadata": {},
   "source": [
    "# Text Data Preprocessing\n"
   ]
  },
  {
   "cell_type": "markdown",
   "id": "d02dec76-18ed-4d54-8730-8a72c4d6aec5",
   "metadata": {},
   "source": [
    "## Converting Text data to Lowercase\n"
   ]
  },
  {
   "cell_type": "code",
   "execution_count": 33,
   "id": "aa6f2dc4-a8d1-4ba4-bca0-ff24dfac02b7",
   "metadata": {},
   "outputs": [
    {
     "data": {
      "text/plain": [
       "216579    in 2010 i was giving an forgiveness loan from ...\n",
       "280119    i was negotiating a settlement with pressler &...\n",
       "Name: consumer_complaint_narrative, dtype: object"
      ]
     },
     "execution_count": 33,
     "metadata": {},
     "output_type": "execute_result"
    }
   ],
   "source": [
    "df1['consumer_complaint_narrative'] =df1['consumer_complaint_narrative'].apply(lambda x: ' '.join([i.lower() for i in x.split()]))\n",
    "df1['consumer_complaint_narrative'].sample(2)\n",
    "\n"
   ]
  },
  {
   "cell_type": "markdown",
   "id": "cec6e610-f147-4e07-b136-7565ce2e10fa",
   "metadata": {},
   "source": [
    "## Removing Punctuations\n"
   ]
  },
  {
   "cell_type": "code",
   "execution_count": 34,
   "id": "9b3fd883-c028-42a9-8a5d-861577ee362f",
   "metadata": {},
   "outputs": [
    {
     "data": {
      "text/plain": [
       "278878    thank you for taking time to review my issue i...\n",
       "281729    why are credit seekers punished for seeking th...\n",
       "Name: consumer_complaint_narrative, dtype: object"
      ]
     },
     "execution_count": 34,
     "metadata": {},
     "output_type": "execute_result"
    }
   ],
   "source": [
    "df1['consumer_complaint_narrative'] =df1['consumer_complaint_narrative'].str.replace(r'[^\\w\\s]',\"\")\n",
    "df1['consumer_complaint_narrative'].sample(2)\n"
   ]
  },
  {
   "cell_type": "markdown",
   "id": "7e43443d-51b5-4e4c-aecd-a6f71ccb82de",
   "metadata": {},
   "source": [
    "## Text standardization\n"
   ]
  },
  {
   "cell_type": "code",
   "execution_count": 35,
   "id": "ab36aab7-0263-4163-a21c-3348da5373c7",
   "metadata": {},
   "outputs": [
    {
     "ename": "FileNotFoundError",
     "evalue": "[Errno 2] No such file or directory: 'doc1.txt'",
     "output_type": "error",
     "traceback": [
      "\u001b[0;31m---------------------------------------------------------------------------\u001b[0m",
      "\u001b[0;31mFileNotFoundError\u001b[0m                         Traceback (most recent call last)",
      "\u001b[0;32m<ipython-input-35-e2db897a4935>\u001b[0m in \u001b[0;36m<module>\u001b[0;34m\u001b[0m\n\u001b[1;32m      4\u001b[0m \u001b[0;31m#http://luululu.com/tweet/typo-corpus-r1.txt\u001b[0m\u001b[0;34m\u001b[0m\u001b[0;34m\u001b[0m\u001b[0m\n\u001b[1;32m      5\u001b[0m \u001b[0mdico\u001b[0m \u001b[0;34m=\u001b[0m \u001b[0;34m{\u001b[0m\u001b[0;34m}\u001b[0m\u001b[0;34m\u001b[0m\u001b[0;34m\u001b[0m\u001b[0m\n\u001b[0;32m----> 6\u001b[0;31m \u001b[0mdico1\u001b[0m \u001b[0;34m=\u001b[0m \u001b[0mopen\u001b[0m\u001b[0;34m(\u001b[0m\u001b[0;34m'doc1.txt'\u001b[0m\u001b[0;34m,\u001b[0m \u001b[0;34m'rb'\u001b[0m\u001b[0;34m)\u001b[0m\u001b[0;34m\u001b[0m\u001b[0;34m\u001b[0m\u001b[0m\n\u001b[0m\u001b[1;32m      7\u001b[0m \u001b[0;32mfor\u001b[0m \u001b[0mword\u001b[0m \u001b[0;32min\u001b[0m \u001b[0mdico1\u001b[0m\u001b[0;34m:\u001b[0m\u001b[0;34m\u001b[0m\u001b[0;34m\u001b[0m\u001b[0m\n\u001b[1;32m      8\u001b[0m     \u001b[0mword\u001b[0m \u001b[0;34m=\u001b[0m \u001b[0mword\u001b[0m\u001b[0;34m.\u001b[0m\u001b[0mdecode\u001b[0m\u001b[0;34m(\u001b[0m\u001b[0;34m'utf8'\u001b[0m\u001b[0;34m)\u001b[0m\u001b[0;34m\u001b[0m\u001b[0;34m\u001b[0m\u001b[0m\n",
      "\u001b[0;31mFileNotFoundError\u001b[0m: [Errno 2] No such file or directory: 'doc1.txt'"
     ]
    }
   ],
   "source": [
    "# #Below, we used three normalizazion dictionaries from these links :\n",
    "# #http://www.hlt.utdallas.edu/~yangl/data/Text_Norm_Data_Release_Fei_Liu/\n",
    "# #http://people.eng.unimelb.edu.au/tbaldwin/etc/emnlp2012-lexnorm.tgz\n",
    "# #http://luululu.com/tweet/typo-corpus-r1.txt\n",
    "# dico = {}\n",
    "# dico1 = open('doc1.txt', 'rb')\n",
    "# for word in dico1:\n",
    "#     word = word.decode('utf8')\n",
    "#     word = word.split()\n",
    "#     dico[word[1]] = word[3]\n",
    "# dico1.close()\n",
    "# dico2 = open('doc2.txt', 'rb')\n",
    "# for word in dico2:\n",
    "#     word = word.decode('utf8')\n",
    "#     word = word.split()\n",
    "#     dico[word[0]] = word[1]\n",
    "# dico2.close()\n",
    "# dico3 = open('doc3.txt', 'rb')\n",
    "# for word in dico3:\n",
    "#     word = word.decode('utf8')\n",
    "#     word = word.split()\n",
    "#     dico[word[0]] = word[1]\n",
    "# dico3.close()"
   ]
  },
  {
   "cell_type": "code",
   "execution_count": 41,
   "id": "b90fd386-6861-40e3-a3a9-aebcf4f947a0",
   "metadata": {},
   "outputs": [],
   "source": [
    "def txt_std(words):\n",
    "    list_words = words.split()\n",
    "    for i in range(len(list_words)):\n",
    "        if list_words[i] in dico.keys():\n",
    "            list_words[i] = dico[list_words[i]]\n",
    "    return ' '.join(list_words)"
   ]
  },
  {
   "cell_type": "code",
   "execution_count": 42,
   "id": "375fee02-4f82-4ea2-ba46-51b757bce2c2",
   "metadata": {},
   "outputs": [
    {
     "data": {
      "text/plain": [
       "190126    claimed owe 2700 years despite proof payment s...\n",
       "Name: consumer_complaint_narrative, dtype: object"
      ]
     },
     "execution_count": 42,
     "metadata": {},
     "output_type": "execute_result"
    }
   ],
   "source": [
    "df1['consumer_complaint_narrative'] = df1['consumer_complaint_narrative'].apply(txt_std)\n",
    "df1.consumer_complaint_narrative.head(1)\n"
   ]
  },
  {
   "cell_type": "code",
   "execution_count": 43,
   "id": "cea51405-cd91-4813-8a1e-59a4fde09923",
   "metadata": {},
   "outputs": [
    {
     "data": {
      "text/plain": [
       "190126    claimed owe 2700 years despite proof payment s...\n",
       "Name: consumer_complaint_narrative, dtype: object"
      ]
     },
     "execution_count": 43,
     "metadata": {},
     "output_type": "execute_result"
    }
   ],
   "source": [
    "\n",
    "df1['consumer_complaint_narrative'] = df1['consumer_complaint_narrative'].str.replace(r\"xx+\\s\",\"\")\n",
    "df1['consumer_complaint_narrative'].head(1)\n"
   ]
  },
  {
   "cell_type": "markdown",
   "id": "ffb6852f-366c-4745-9f43-dec111c7445e",
   "metadata": {},
   "source": [
    "## Removing Stopwords\n"
   ]
  },
  {
   "cell_type": "code",
   "execution_count": 44,
   "id": "e17e61cd-e53a-4048-8108-1e7c99004e61",
   "metadata": {},
   "outputs": [
    {
     "data": {
      "text/plain": [
       "190126    claimed owe 2700 years despite proof payment s...\n",
       "Name: consumer_complaint_narrative, dtype: object"
      ]
     },
     "execution_count": 44,
     "metadata": {},
     "output_type": "execute_result"
    }
   ],
   "source": [
    "from nltk.corpus import stopwords\n",
    "stop = stopwords.words('english')\n",
    "df1['consumer_complaint_narrative'] =df1['consumer_complaint_narrative'].apply(lambda x: ' '.join([i for i in x.split() if i not in stop]))\n",
    "df1['consumer_complaint_narrative'].head(1)\n"
   ]
  },
  {
   "cell_type": "markdown",
   "id": "aa944c24-c3cc-4a11-b79a-70f20c00fa91",
   "metadata": {},
   "source": [
    "## Correcting Spelling\n"
   ]
  },
  {
   "cell_type": "code",
   "execution_count": null,
   "id": "726a5289-4f56-43af-9c7e-1b46fb5fd2bf",
   "metadata": {},
   "outputs": [],
   "source": [
    "##ensure text is standardized before applying this step\n",
    "from textblob import TextBlob\n",
    "df1['consumer_complaint_narrative'] =df1['consumer_complaint_narrative'].apply(lambda x: str(TextBlob(x).correct()))"
   ]
  },
  {
   "cell_type": "markdown",
   "id": "2a6b8300-617c-499e-8555-a9e59699850c",
   "metadata": {},
   "source": [
    "## Lemmatizing\n"
   ]
  },
  {
   "cell_type": "code",
   "execution_count": null,
   "id": "decde19a-b001-4bcf-9c6c-ee45318c3d7c",
   "metadata": {},
   "outputs": [],
   "source": [
    "from textblob import Word\n",
    "\n",
    "df1['consumer_complaint_narrative'] =df1['consumer_complaint_narrative'].apply(lambda x:' '.join([Word(i).lemmatize() for i in x.split()]))\n",
    "df1.consumer_complaint_narrative.head(1)\n"
   ]
  },
  {
   "cell_type": "markdown",
   "id": "6d1a31d9-a2aa-4b98-ac5d-4758211f3b99",
   "metadata": {},
   "source": [
    "# Word Cloud for all Product categories\n"
   ]
  },
  {
   "cell_type": "code",
   "execution_count": null,
   "id": "3ddbacda-fd44-465e-aacf-040fa0f317ac",
   "metadata": {},
   "outputs": [],
   "source": [
    "for product_name in df1['product'].unique():\n",
    "    print(product_name)\n",
    "    all_words = ' '.join([text for text in df1.loc[df1['product'].str.contains(product_name),'consumer_complaint_narrative']])\n",
    "    from wordcloud import WordCloud\n",
    "    wordcloud = WordCloud(width=800, height=500, random_state=21, max_font_size=110).generate(all_words)\n",
    "\n",
    "    plt.figure(figsize=(10, 7))\n",
    "    plt.imshow(wordcloud, interpolation=\"bilinear\")\n",
    "    plt.axis('off')\n",
    "    plt.show()\n"
   ]
  },
  {
   "cell_type": "markdown",
   "id": "34fd95f4-60f7-4478-b3a9-bcef357b92f6",
   "metadata": {},
   "source": [
    "### Train/Test split\n"
   ]
  },
  {
   "cell_type": "code",
   "execution_count": null,
   "id": "608d5c38-89a0-4bf6-b3b9-9b50f0a2c682",
   "metadata": {},
   "outputs": [],
   "source": [
    "train_x, valid_x, train_y, valid_y = train_test_split(df1['consumer_complaint_narrative'], df1['product'],stratify=df1['product'], \n",
    "                                                    test_size=0.25)\n",
    "Feature engineering of consumer complaint with TF-IDF\n",
    "##label encoding target variable\n",
    "enc = preprocessing.LabelEncoder()\n",
    "train_y = enc.fit_transform(train_y)\n",
    "valid_y = enc.fit_transform(valid_y)\n",
    "\n"
   ]
  },
  {
   "cell_type": "code",
   "execution_count": null,
   "id": "e0363b6f-8a94-43b3-9558-07c7fd6c9adf",
   "metadata": {},
   "outputs": [],
   "source": [
    "\n",
    "##tf-idf verctor representation\n",
    "tfidf_vect = TfidfVectorizer(analyzer='word', token_pattern=r'\\w{1,}', max_features=5000)\n",
    "tfidf_vect.fit(df1['consumer_complaint_narrative'])\n",
    "xtrain_tfidf =  tfidf_vect.transform(train_x)\n",
    "xvalid_tfidf =  tfidf_vect.transform(valid_x)\n"
   ]
  },
  {
   "cell_type": "code",
   "execution_count": null,
   "id": "20362cb1-8eb8-426d-bdf6-fae5778e196e",
   "metadata": {},
   "outputs": [],
   "source": [
    "from sklearn.model_selection import GridSearchCV\n",
    "clf = LogisticRegression()\n",
    "lr_params = {'C':[int(x) for x in np.linspace(1,10,10)]}\n",
    "grid_lr = GridSearchCV(estimator=clf,param_grid=lr_params,cv=5,n_jobs=-1)\n",
    "grid_lr.fit(xtrain_tfidf,train_y)\n"
   ]
  },
  {
   "cell_type": "code",
   "execution_count": null,
   "id": "66c58a31-0e64-4087-81a2-0230efb32702",
   "metadata": {},
   "outputs": [],
   "source": [
    "GridSearchCV(cv=5, error_score='raise-deprecating',\n",
    "       estimator=LogisticRegression(C=1.0, class_weight=None, dual=False, fit_intercept=True,\n",
    "          intercept_scaling=1, max_iter=100, multi_class='warn',\n",
    "          n_jobs=None, penalty='l2', random_state=None, solver='warn',\n",
    "          tol=0.0001, verbose=0, warm_start=False),\n",
    "       fit_params=None, iid='warn', n_jobs=-1,\n",
    "       param_grid={'C': [1, 2, 3, 4, 5, 6, 7, 8, 9, 10]},\n",
    "       pre_dispatch='2*n_jobs', refit=True, return_train_score='warn',\n",
    "       scoring=None, verbose=0)\n"
   ]
  },
  {
   "cell_type": "code",
   "execution_count": null,
   "id": "ed914402-49e3-40a8-8e24-e12dcc9f9923",
   "metadata": {},
   "outputs": [],
   "source": [
    "print(grid_lr.best_params_)\n",
    "print(grid_lr.best_score_)\n"
   ]
  },
  {
   "cell_type": "code",
   "execution_count": null,
   "id": "24d03503-9ef3-472c-8b10-d7a7acfb3eae",
   "metadata": {},
   "outputs": [],
   "source": [
    "\n",
    "final_lr = LogisticRegression(C=5)\n",
    "final_lr.fit(xtrain_tfidf,train_y)\n"
   ]
  },
  {
   "cell_type": "code",
   "execution_count": null,
   "id": "c1b7e662-9551-4258-be96-bf702b318321",
   "metadata": {},
   "outputs": [],
   "source": [
    "LogisticRegression(C=5, class_weight=None, dual=False, fit_intercept=True,\n",
    "          intercept_scaling=1, max_iter=100, multi_class='warn',\n",
    "          n_jobs=None, penalty='l2', random_state=None, solver='warn',\n",
    "          tol=0.0001, verbose=0, warm_start=False)\n"
   ]
  },
  {
   "cell_type": "code",
   "execution_count": null,
   "id": "24ba0b09-3405-4348-b180-03562db8154d",
   "metadata": {},
   "outputs": [],
   "source": [
    "final_lr_predict = final_lr.predict(xvalid_tfidf)\n",
    "lr_accuracy = metrics.accuracy_score(final_lr_predict, valid_y)\n",
    "print (\"Logistic Regression > Accuracy: \", lr_accuracy)\n"
   ]
  },
  {
   "cell_type": "code",
   "execution_count": null,
   "id": "c56f3c85-aa7b-4fd7-947b-969cde872c9d",
   "metadata": {},
   "outputs": [],
   "source": [
    "from sklearn.metrics import classification_report\n",
    "print(classification_report(valid_y, final_lr_predict,target_names=df1['product'].unique()))"
   ]
  },
  {
   "cell_type": "code",
   "execution_count": null,
   "id": "32a01970-5b05-4b0e-a5d2-e257fa3cd8d6",
   "metadata": {},
   "outputs": [],
   "source": [
    "from sklearn.metrics import confusion_matrix\n",
    "conf_mat = confusion_matrix(valid_y, final_lr_predict)\n",
    "fig, ax = plt.subplots(figsize=(8,6))\n",
    "sns.heatmap(conf_mat, annot=True, fmt=\"d\", cmap=\"BuPu\",xticklabels=df1['product'].unique(),yticklabels=df1['product'].unique())\n",
    "plt.ylabel('Actual')\n",
    "plt.xlabel('Predicted')\n",
    "plt.show()"
   ]
  },
  {
   "cell_type": "markdown",
   "id": "25f3caf7-5c57-4eb2-82cf-d0023b197a36",
   "metadata": {},
   "source": [
    "We have acheived an accuracy of around 85% with a Logistic Regression model and the classification metrics are good for all departments except Payday loan - this might be due to less training instances of this product category and also on looking at the confusion matrix it is mostly being predicted as Credit reporting or debt collection which gives us an indication that this product is similar to one another or maybe linked with other.\n",
    "\n",
    "We might further improve the performance using Random Forest, SVM, GBM, Neural Networks and utilize hyperparameter tuning."
   ]
  },
  {
   "cell_type": "markdown",
   "id": "67acd8f2-8642-458f-9070-5a72f48e9f67",
   "metadata": {},
   "source": [
    "### SVM"
   ]
  },
  {
   "cell_type": "code",
   "execution_count": null,
   "id": "8ee33961-03b4-4850-be92-9b4029432c42",
   "metadata": {},
   "outputs": [],
   "source": [
    "from sklearn.svm import LinearSVC\n",
    "svc_model = LinearSVC()\n",
    "svc_params = {'C':[0.01,0.1, 1, 10, 100, 1000]}\n",
    "grid_svc = GridSearchCV(estimator=svc_model,param_grid=svc_params,cv=5,n_jobs=-1)\n",
    "grid_svc.fit(xtrain_tfidf,train_y)\n",
    "\n"
   ]
  },
  {
   "cell_type": "code",
   "execution_count": null,
   "id": "34e1ee3b-bd3c-4913-a8bf-bb1793489afd",
   "metadata": {},
   "outputs": [],
   "source": [
    "GridSearchCV(cv=5, error_score='raise-deprecating',\n",
    "       estimator=LinearSVC(C=1.0, class_weight=None, dual=True, fit_intercept=True,\n",
    "     intercept_scaling=1, loss='squared_hinge', max_iter=1000,\n",
    "     multi_class='ovr', penalty='l2', random_state=None, tol=0.0001,\n",
    "     verbose=0),\n",
    "       fit_params=None, iid='warn', n_jobs=-1,\n",
    "       param_grid={'C': [0.01, 0.1, 1, 10, 100, 1000]},\n",
    "       pre_dispatch='2*n_jobs', refit=True, return_train_score='warn',\n",
    "       scoring=None, verbose=0)\n"
   ]
  },
  {
   "cell_type": "code",
   "execution_count": null,
   "id": "9b85d968-35f2-4d1f-91fe-676984ef4d27",
   "metadata": {},
   "outputs": [],
   "source": [
    "print(grid_svc.best_params_)\n",
    "print(grid_svc.best_score_)\n"
   ]
  },
  {
   "cell_type": "code",
   "execution_count": null,
   "id": "ca9e0c60-afaf-46cb-9330-e67d9872d527",
   "metadata": {},
   "outputs": [],
   "source": [
    "\n",
    "final_svc = LinearSVC(C=0.1)\n",
    "final_svc.fit(xtrain_tfidf,train_y)\n"
   ]
  },
  {
   "cell_type": "code",
   "execution_count": null,
   "id": "89f372c1-ac59-47f6-95d9-a9af1c97859e",
   "metadata": {},
   "outputs": [],
   "source": [
    "LinearSVC(C=0.1, class_weight=None, dual=True, fit_intercept=True,\n",
    "     intercept_scaling=1, loss='squared_hinge', max_iter=1000,\n",
    "     multi_class='ovr', penalty='l2', random_state=None, tol=0.0001,\n",
    "     verbose=0)\n"
   ]
  },
  {
   "cell_type": "code",
   "execution_count": null,
   "id": "83d66371-0831-4937-a674-2df593796b62",
   "metadata": {},
   "outputs": [],
   "source": [
    "final_svc_predict = final_svc.predict(xvalid_tfidf)\n",
    "svc_accuracy = metrics.accuracy_score(final_svc_predict, valid_y)\n",
    "print (\"SVC > Accuracy: \", svc_accuracy)\n"
   ]
  },
  {
   "cell_type": "code",
   "execution_count": null,
   "id": "9592d9d8-418f-4bbe-8c35-6eb154d9f126",
   "metadata": {},
   "outputs": [],
   "source": [
    "print(classification_report(valid_y, final_svc_predict,target_names=df1['product'].unique()))"
   ]
  },
  {
   "cell_type": "code",
   "execution_count": null,
   "id": "9d626bbd-7111-4b5f-98ea-2d4f1cec9983",
   "metadata": {},
   "outputs": [],
   "source": [
    "\n",
    "conf_mat = confusion_matrix(valid_y, final_svc_predict)\n",
    "fig, ax = plt.subplots(figsize=(8,6))\n",
    "sns.heatmap(conf_mat, annot=True, fmt=\"d\", cmap=\"BuPu\",xticklabels=df1['product'].unique(),yticklabels=df1['product'].unique())\n",
    "plt.ylabel('Actual')\n",
    "plt.xlabel('Predicted')\n",
    "plt.show()\n"
   ]
  },
  {
   "cell_type": "code",
   "execution_count": null,
   "id": "35f65544-c8b2-4546-a208-aba521485834",
   "metadata": {},
   "outputs": [],
   "source": [
    "XGBOOST\n"
   ]
  },
  {
   "cell_type": "code",
   "execution_count": null,
   "id": "76bebac5-2116-42bd-ab8c-fdfb8d27531f",
   "metadata": {},
   "outputs": [],
   "source": [
    "from xgboost import XGBClassifier\n",
    "xgb_model = XGBClassifier(max_depth=50, n_estimators=80, learning_rate=0.1, colsample_bytree=.7, gamma=0, reg_alpha=4, eta=0.3, silent=1, subsample=0.8)\n",
    "xgb_model.fit(xtrain_tfidf_final, train_y)\n",
    "\n"
   ]
  },
  {
   "cell_type": "code",
   "execution_count": null,
   "id": "064eae49-278a-4dc9-b1d6-971d7283a0e9",
   "metadata": {},
   "outputs": [],
   "source": [
    "XGBClassifier(base_score=0.5, booster='gbtree', colsample_bylevel=1,\n",
    "       colsample_bytree=0.7, eta=0.3, gamma=0, learning_rate=0.1,\n",
    "       max_delta_step=0, max_depth=50, min_child_weight=1, missing=None,\n",
    "       n_estimators=80, n_jobs=1, nthread=None, objective='multi:softprob',\n",
    "       random_state=0, reg_alpha=4, reg_lambda=1, scale_pos_weight=1,\n",
    "       seed=None, silent=1, subsample=0.8)\n"
   ]
  },
  {
   "cell_type": "code",
   "execution_count": null,
   "id": "4b4174b7-59da-47ed-810d-26c5564f32d4",
   "metadata": {},
   "outputs": [],
   "source": [
    "xgb_predict = xgb_model.predict(xvalid_tfidf_final)\n",
    "xgb_accuracy = metrics.accuracy_score(xgb_predict, valid_y)\n",
    "print (\"XGBoost > Accuracy: \", xgb_accuracy)\n"
   ]
  },
  {
   "cell_type": "code",
   "execution_count": null,
   "id": "3509be36-e8f6-4a4d-a794-cd31e1f30dbd",
   "metadata": {},
   "outputs": [],
   "source": [
    "from sklearn.metrics import classification_report\n",
    "print(classification_report(valid_y, xgb_predict,target_names=df1['product'].unique()))\n"
   ]
  },
  {
   "cell_type": "code",
   "execution_count": null,
   "id": "fd497bf3-c83e-4baa-bc8a-2608d346bb94",
   "metadata": {},
   "outputs": [],
   "source": [
    "\n",
    "from sklearn.metrics import confusion_matrix\n",
    "conf_mat = confusion_matrix(valid_y, xgb_predict)\n",
    "fig, ax = plt.subplots(figsize=(8,6))\n",
    "sns.heatmap(conf_mat, annot=True, fmt=\"d\", cmap=\"BuPu\",xticklabels=df1['product'].unique(),yticklabels=df1['product'].unique())\n",
    "plt.ylabel('Actual')\n",
    "plt.xlabel('Predicted')\n",
    "plt.show()"
   ]
  },
  {
   "cell_type": "code",
   "execution_count": null,
   "id": "062b7208-3aa8-4d5e-97ae-ed8acaf820e8",
   "metadata": {},
   "outputs": [],
   "source": [
    "Deep Learning models\n"
   ]
  },
  {
   "cell_type": "code",
   "execution_count": null,
   "id": "72da9140-f08e-4ac0-b24b-db4f53b764ee",
   "metadata": {},
   "outputs": [],
   "source": [
    "from keras.preprocessing.text import Tokenizer\n",
    "from keras.preprocessing.sequence import pad_sequences\n",
    "from keras.utils import to_categorical\n",
    "from keras.layers import Dense, Input, LSTM, Embedding, Dropout, Activation\n",
    "from keras.layers import Bidirectional, GlobalMaxPool1D, Conv1D, SimpleRNN\n",
    "from keras.models import Model\n",
    "from keras.models import Sequential\n",
    "from keras import initializers, regularizers, constraints, optimizers, layers\n",
    "from keras.layers import Dense, Input, Flatten, Dropout, BatchNormalization\n",
    "from keras.layers import Conv1D, MaxPooling1D, Embedding\n",
    "from keras.models import Sequential\n"
   ]
  },
  {
   "cell_type": "code",
   "execution_count": null,
   "id": "aacb922d-1b31-465d-b2fd-8f353ffc1d90",
   "metadata": {},
   "outputs": [],
   "source": [
    "\n",
    "#total_complaints = np.append(train_x.values,valid_x.values)\n",
    "tokenizer = Tokenizer(num_words=25000)\n",
    "tokenizer.fit_on_texts(train_x.values)#total_complaints\n",
    "train_sequences = tokenizer.texts_to_sequences(train_x.values)\n",
    "test_sequences = tokenizer.texts_to_sequences(valid_x.values)\n"
   ]
  },
  {
   "cell_type": "code",
   "execution_count": null,
   "id": "8b790c8a-7581-42a0-aa17-ca327af37f29",
   "metadata": {},
   "outputs": [],
   "source": [
    "\n",
    "word_index = tokenizer.word_index# dictionary containing words and their index\n",
    "print('Found %s unique tokens.' % len(word_index))\n"
   ]
  },
  {
   "cell_type": "code",
   "execution_count": null,
   "id": "4868a156-66c6-4a78-aa16-28d47c5802b9",
   "metadata": {},
   "outputs": [],
   "source": [
    "\n",
    "MAX_SEQUENCE_LENGTH = max([len(c.split()) for c in total_complaints])\n",
    "MAX_SEQUENCE_LENGTH\n"
   ]
  },
  {
   "cell_type": "code",
   "execution_count": null,
   "id": "257a5b4c-7714-44cb-9bd3-863974c6d045",
   "metadata": {},
   "outputs": [],
   "source": [
    "\n",
    "train_data = pad_sequences(train_sequences, maxlen=max_length,padding='post')\n",
    "test_data = pad_sequences(test_sequences, maxlen=max_length,padding='post')\n",
    "print(train_data.shape)\n",
    "print(test_data.shape)\n"
   ]
  },
  {
   "cell_type": "code",
   "execution_count": null,
   "id": "603eb2dc-cb54-40bf-aaa0-e4c64e205089",
   "metadata": {},
   "outputs": [],
   "source": [
    "\n",
    "enc = preprocessing.LabelEncoder()\n",
    "train_labels = enc.fit_transform(train_y)\n",
    "test_labels = enc.fit_transform(valid_y)\n",
    "\n",
    "print(enc.classes_)\n",
    "print(np.unique(train_labels, return_counts=True))\n",
    "print(np.unique(test_labels, return_counts=True))\n"
   ]
  },
  {
   "cell_type": "code",
   "execution_count": null,
   "id": "2137db3f-77a5-4b45-a27e-5c9fb4bdb770",
   "metadata": {},
   "outputs": [],
   "source": [
    "\n",
    "labels_train = to_categorical(np.asarray(train_labels))\n",
    "labels_test = to_categorical(np.asarray(test_labels))\n",
    "print('Shape of data tensor:', train_data.shape)\n",
    "print('Shape of label tensor:', labels_train.shape)\n",
    "print('Shape of label tensor:', labels_test.shape)\n"
   ]
  },
  {
   "cell_type": "markdown",
   "id": "1f9fcc86-d219-4b9d-9890-6c8c48b3c617",
   "metadata": {},
   "source": [
    "\n",
    "## CNN w/ Pre-trained word embeddings(GloVe)\n",
    "We’ll use pre-trained embeddings such as Glove which provides word based vector representation trained on a large corpus.\n",
    "\n",
    "It is trained on a dataset of one billion tokens (words) with a vocabulary of 400 thousand words. The glove has embedding vector sizes, including 50, 100, 200 and 300 dimensions.\n"
   ]
  },
  {
   "cell_type": "code",
   "execution_count": null,
   "id": "e7a43473-58d8-4622-bf39-4869760a90a7",
   "metadata": {},
   "outputs": [],
   "source": [
    "\n",
    "#wget http://nlp.stanford.edu/data/glove.6B.zip\n",
    "GLOVE_DIR = '/mnt/data/temp/nlp/'\n",
    "embeddings_index = {}\n",
    "f = open(os.path.join(GLOVE_DIR, 'glove.6B.300d.txt'))\n",
    "for line in f:\n",
    "    values = line.split()\n",
    "    word = values[0]\n",
    "    coefs = np.asarray(values[1:], dtype='float32')\n",
    "    embeddings_index[word] = coefs\n",
    "f.close()\n",
    "\n",
    "print('Found %s word vectors.' % len(embeddings_index))\n",
    "\n"
   ]
  },
  {
   "cell_type": "markdown",
   "id": "67530481-9a12-4eab-ae1b-ac14cf7fc67d",
   "metadata": {},
   "source": [
    "Now lets create the embedding matrix using the word indexer created from tokenizer.\n"
   ]
  },
  {
   "cell_type": "code",
   "execution_count": null,
   "id": "979c067d-ef29-469b-8379-a1750fe4278c",
   "metadata": {},
   "outputs": [],
   "source": [
    "\n",
    "EMBEDDING_DIM = 300\n",
    "embedding_matrix = np.zeros((len(word_index) + 1, EMBEDDING_DIM))\n",
    "for word, i in word_index.items():\n",
    "    embedding_vector = embeddings_index.get(word)\n",
    "    if embedding_vector is not None:\n",
    "        # words not found in embedding index will be all-zeros.\n",
    "        embedding_matrix[i] = embedding_vector\n"
   ]
  },
  {
   "cell_type": "code",
   "execution_count": null,
   "id": "517a9c21-6d19-44fa-b6f2-fc66adde6b38",
   "metadata": {},
   "outputs": [],
   "source": [
    "Lets check the word embedded vector representation for token ‘loan’ in our embedding matrix\n"
   ]
  },
  {
   "cell_type": "code",
   "execution_count": null,
   "id": "6f5abe0b-71ef-42fa-84c1-7c10eb1e608e",
   "metadata": {},
   "outputs": [],
   "source": [
    "\n",
    "\n",
    "[(k,v) for k,v in word_index.items() if v==4]\n"
   ]
  },
  {
   "cell_type": "code",
   "execution_count": null,
   "id": "760afca6-e5f9-4165-a882-8e17233ab9d1",
   "metadata": {},
   "outputs": [],
   "source": [
    "embedding_matrix[4]  ## word embedded vector representation for token 'loan'"
   ]
  },
  {
   "cell_type": "code",
   "execution_count": null,
   "id": "754a753d-7c7a-4087-a55b-a653ec468215",
   "metadata": {},
   "outputs": [],
   "source": [
    "vocab_size = len(tokenizer.word_index)+1\n"
   ]
  },
  {
   "cell_type": "markdown",
   "id": "1f882b10-b018-4f51-93ee-51e085081f42",
   "metadata": {},
   "source": [
    "Now we load this embedding matrix into an Embedding layer using Sequential API to form a Convolutional NeuralNet model.\n",
    "Dropout is applied between the hidden layers to factor regularization and prevent overfitting of neural network.\n",
    "\n"
   ]
  },
  {
   "cell_type": "code",
   "execution_count": null,
   "id": "380434f7-2010-465e-807a-2d3f943bda6f",
   "metadata": {},
   "outputs": [],
   "source": [
    "model = Sequential()\n",
    "model.add(Embedding(len(word_index) + 1,\n",
    "                            EMBEDDING_DIM,\n",
    "                            weights=[embedding_matrix],\n",
    "                            input_length=MAX_SEQUENCE_LENGTH,\n",
    "                            trainable=True))\n",
    "model.add(Dropout(0.3))\n",
    "model.add(Conv1D(128, 5, activation=\"relu\"))\n",
    "model.add(MaxPooling1D(5))\n",
    "model.add(Dropout(0.3))\n",
    "model.add(BatchNormalization())\n",
    "model.add(Conv1D(128, 5, activation=\"relu\"))\n",
    "model.add(MaxPooling1D(5))\n",
    "model.add(Dropout(0.3))\n",
    "model.add(BatchNormalization())\n",
    "model.add(Flatten())\n",
    "model.add(Dense(128, activation=\"relu\"))\n",
    "model.add(Dense(11, activation=\"softmax\"))\n",
    "model.compile(loss='categorical_crossentropy',\n",
    " optimizer=\"rmsprop\",\n",
    " metrics=['acc'])\n"
   ]
  },
  {
   "cell_type": "code",
   "execution_count": null,
   "id": "886b1b11-3473-44be-8587-23bd2b3aca7f",
   "metadata": {},
   "outputs": [],
   "source": [
    "history = model.fit(train_data, labels_train,\n",
    " batch_size=64,\n",
    " epochs=8,\n",
    " validation_data=(test_data, labels_test))\n"
   ]
  },
  {
   "cell_type": "code",
   "execution_count": null,
   "id": "adf7810f-80c6-49a4-8888-8c613ff81c75",
   "metadata": {},
   "outputs": [],
   "source": [
    "fig1 = plt.figure()\n",
    "plt.plot(history.history['loss'],'r',linewidth=3.0)\n",
    "plt.plot(history.history['val_loss'],'b',linewidth=3.0)\n",
    "plt.legend(['Training loss', 'Validation Loss'],fontsize=18)\n",
    "plt.xlabel('Epochs ',fontsize=16)\n",
    "plt.ylabel('Loss',fontsize=16)\n",
    "plt.title('Loss Curves :CNN',fontsize=16)\n",
    "plt.show()"
   ]
  },
  {
   "cell_type": "markdown",
   "id": "1c379bd2-5742-4d38-a6c2-7c4c5736537a",
   "metadata": {},
   "source": [
    "After 3 epochs the CNN tends to be overfitting the training data and therefore we need to implement early stopping to prevent such instances of overfitting and tune the number of epochs during training.\n",
    "\n"
   ]
  },
  {
   "cell_type": "code",
   "execution_count": null,
   "id": "2cadab02-5d83-4c74-bcb6-808dd41f63e4",
   "metadata": {},
   "outputs": [],
   "source": []
  },
  {
   "cell_type": "code",
   "execution_count": null,
   "id": "8d60e4b7-b539-45ee-87c5-dc2a586658ce",
   "metadata": {},
   "outputs": [],
   "source": [
    "#predictions on test data\n",
    "predicted=model.predict(test_data)\n",
    "predicted"
   ]
  },
  {
   "cell_type": "code",
   "execution_count": null,
   "id": "458b8153-4340-428e-9a08-beffc6359a1a",
   "metadata": {},
   "outputs": [],
   "source": [
    "#model evaluation\n",
    "import sklearn\n",
    "from sklearn.metrics import precision_recall_fscore_support as score\n",
    "precision, recall, fscore, support = score(labels_test, predicted.round())\n",
    "print('precision: \\n{}'.format(precision))\n",
    "print('recall: \\n{}'.format(recall))\n",
    "print('fscore: \\n{}'.format(fscore))\n",
    "print('support: \\n{}'.format(support))"
   ]
  },
  {
   "cell_type": "code",
   "execution_count": null,
   "id": "32fa22b7-48ee-4bba-a4e7-496eeedb0442",
   "metadata": {},
   "outputs": [],
   "source": [
    "print(classification_report(labels_test, predicted.round(),target_names=df1['product'].unique()))\n"
   ]
  },
  {
   "cell_type": "markdown",
   "id": "1ed76222-4827-4f41-85c3-36249c4c99fe",
   "metadata": {},
   "source": [
    "Now, we’ll initialize our Embedding layer from scratch and learning its weights during training instead of using a pre-trained word embeddings and build a small 1D convnet to solve our classification problem.\n",
    "\n"
   ]
  },
  {
   "cell_type": "code",
   "execution_count": null,
   "id": "cb75eb44-9655-4600-b046-563f74d694b2",
   "metadata": {},
   "outputs": [],
   "source": [
    "#The Embedding layer requires the specification of the vocabulary size (vocab_size), \n",
    "#the size of the real-valued vector space EMBEDDING_DIM = 100,\n",
    "#and the maximum length of input documents max_length .\n",
    "vocab_size = len(tokenizer.word_index)+1\n",
    "EMBEDDING_DIM = 300\n",
    "max_length = 394"
   ]
  },
  {
   "cell_type": "code",
   "execution_count": null,
   "id": "9fc68c8a-ad87-4dce-adae-0145a336b065",
   "metadata": {},
   "outputs": [],
   "source": [
    "model = Sequential()\n",
    "model.add(Embedding(vocab_size,\n",
    " 300,\n",
    " input_length=max_length\n",
    " ))\n",
    "model.add(Dropout(0.3))\n",
    "model.add(Conv1D(128, 5, activation=\"relu\"))\n",
    "model.add(MaxPooling1D(5))\n",
    "model.add(Dropout(0.3))\n",
    "model.add(BatchNormalization())\n",
    "model.add(Conv1D(128, 5, activation=\"relu\"))\n",
    "model.add(MaxPooling1D(5))\n",
    "model.add(Dropout(0.3))\n",
    "model.add(BatchNormalization())\n",
    "model.add(Flatten())\n",
    "model.add(Dense(128, activation=\"relu\"))\n",
    "model.add(Dense(11, activation=\"softmax\"))\n",
    "model.compile(loss='categorical_crossentropy',\n",
    " optimizer=\"rmsprop\",\n",
    " metrics=['acc'])"
   ]
  },
  {
   "cell_type": "code",
   "execution_count": null,
   "id": "521c252a-d379-42a6-a375-c4098f1ad4ec",
   "metadata": {},
   "outputs": [],
   "source": [
    "history = model.fit(train_data, labels_train,\n",
    " batch_size=64,\n",
    " epochs=8,\n",
    " validation_data=(test_data, labels_test))"
   ]
  },
  {
   "cell_type": "code",
   "execution_count": null,
   "id": "babb8159-ed69-4ef4-a0e5-91afbd2fd102",
   "metadata": {},
   "outputs": [],
   "source": [
    "fig1 = plt.figure()\n",
    "plt.plot(history.history['loss'],'r',linewidth=3.0)\n",
    "plt.plot(history.history['val_loss'],'b',linewidth=3.0)\n",
    "plt.legend(['Training loss', 'Validation Loss'],fontsize=18)\n",
    "plt.xlabel('Epochs ',fontsize=16)\n",
    "plt.ylabel('Loss',fontsize=16)\n",
    "plt.title('Loss Curves :CNN',fontsize=16)\n",
    "plt.show()"
   ]
  },
  {
   "cell_type": "code",
   "execution_count": null,
   "id": "9481d685-86c2-4c94-adaf-d03cfc9b41cc",
   "metadata": {},
   "outputs": [],
   "source": [
    "fig1 = plt.figure()\n",
    "plt.plot(history.history['acc'],'r',linewidth=3.0)\n",
    "plt.plot(history.history['val_acc'],'b',linewidth=3.0)\n",
    "plt.legend(['Training acc', 'Validation acc'],fontsize=18)\n",
    "plt.xlabel('Epochs ',fontsize=16)\n",
    "plt.ylabel('Accuracy',fontsize=16)\n",
    "plt.title('Accuracy Curves :CNN',fontsize=16)\n",
    "plt.show()"
   ]
  },
  {
   "cell_type": "code",
   "execution_count": null,
   "id": "29fec190-7b23-470a-b3bb-05834cd5991c",
   "metadata": {},
   "outputs": [],
   "source": [
    "#predictions on test data\n",
    "predicted=model.predict(test_data)\n",
    "predicted"
   ]
  },
  {
   "cell_type": "code",
   "execution_count": null,
   "id": "c0054fc1-77b9-489d-a15e-53816d547cb4",
   "metadata": {},
   "outputs": [],
   "source": [
    "#model evaluation\n",
    "import sklearn\n",
    "from sklearn.metrics import precision_recall_fscore_support as score\n",
    "precision, recall, fscore, support = score(labels_test, predicted.round())\n",
    "print('precision: {}'.format(precision))\n",
    "print('recall: {}'.format(recall))\n",
    "print('fscore: {}'.format(fscore))\n",
    "print('support: {}'.format(support))\n",
    "print(\"############################\")\n",
    "print(sklearn.metrics.classification_report(labels_test, predicted.round()))"
   ]
  },
  {
   "cell_type": "code",
   "execution_count": null,
   "id": "bb1b0ddf-c853-4e6e-8660-f7a8f5fdf3b3",
   "metadata": {},
   "outputs": [],
   "source": [
    "## RNN"
   ]
  },
  {
   "cell_type": "code",
   "execution_count": null,
   "id": "39066c46-3afb-4ded-a7ec-dc15567e9e67",
   "metadata": {},
   "outputs": [],
   "source": [
    "#Bidirectional LSTM\n",
    "\n",
    "model = Sequential()\n",
    "model.add(Embedding(len(word_index) + 1,\n",
    "                            EMBEDDING_DIM,\n",
    "                            weights=[embedding_matrix],\n",
    "                            input_length=MAX_SEQUENCE_LENGTH,\n",
    "                            trainable=True))\n",
    "model.add(Bidirectional(LSTM(100, dropout_U = 0.2, dropout_W = 0.2)))\n",
    "model.add(Dense(11,activation='softmax'))\n",
    "model.compile(loss='categorical_crossentropy',\n",
    "              optimizer='rmsprop',\n",
    "              metrics=['acc'])\n"
   ]
  },
  {
   "cell_type": "code",
   "execution_count": null,
   "id": "6eeacc86-2773-4598-8580-b359459ddcee",
   "metadata": {},
   "outputs": [],
   "source": []
  },
  {
   "cell_type": "code",
   "execution_count": null,
   "id": "e505591b-9dd1-4acd-a787-a0b20f67dc24",
   "metadata": {},
   "outputs": [],
   "source": [
    "history = model.fit(train_data, labels_train,\n",
    " batch_size=64,\n",
    " epochs=8,\n",
    " validation_data=(test_data, labels_test))"
   ]
  },
  {
   "cell_type": "code",
   "execution_count": null,
   "id": "b34732eb-5b2b-4964-8055-c99aaa0a1425",
   "metadata": {},
   "outputs": [],
   "source": [
    "fig1 = plt.figure()\n",
    "plt.plot(history.history['loss'],'r',linewidth=3.0)\n",
    "plt.plot(history.history['val_loss'],'b',linewidth=3.0)\n",
    "plt.legend(['Training loss', 'Validation Loss'],fontsize=18)\n",
    "plt.xlabel('Epochs ',fontsize=16)\n",
    "plt.ylabel('Loss',fontsize=16)\n",
    "plt.title('Loss Curves :RNN - LSTM',fontsize=16)\n",
    "plt.show()"
   ]
  },
  {
   "cell_type": "code",
   "execution_count": null,
   "id": "953c0f67-85f8-4830-abb5-cbfbeed8bc41",
   "metadata": {},
   "outputs": [],
   "source": [
    "fig1 = plt.figure()\n",
    "plt.plot(history.history['acc'],'r',linewidth=3.0)\n",
    "plt.plot(history.history['val_acc'],'b',linewidth=3.0)\n",
    "plt.legend(['Training acc', 'Validation acc'],fontsize=18)\n",
    "plt.xlabel('Epochs ',fontsize=16)\n",
    "plt.ylabel('Accuracy',fontsize=16)\n",
    "plt.title('Accuracy Curves :RNN - LSTM',fontsize=16)\n",
    "plt.show()"
   ]
  },
  {
   "cell_type": "code",
   "execution_count": null,
   "id": "5e9690dd-1da3-4d09-9a52-8fd7304f5a41",
   "metadata": {},
   "outputs": [],
   "source": []
  },
  {
   "cell_type": "code",
   "execution_count": null,
   "id": "dcf1a0bd-22b7-4c71-9e18-e94cb594477b",
   "metadata": {},
   "outputs": [],
   "source": [
    "#predictions on test data\n",
    "predicted=model.predict(test_data)\n",
    "predicted"
   ]
  },
  {
   "cell_type": "code",
   "execution_count": null,
   "id": "427d8861-5468-4543-9ed9-4a25c15d494c",
   "metadata": {},
   "outputs": [],
   "source": [
    "#model evaluation\n",
    "import sklearn\n",
    "from sklearn.metrics import precision_recall_fscore_support as score\n",
    "precision, recall, fscore, support = score(labels_test, predicted.round())\n",
    "print('precision: \\n{}'.format(precision))\n",
    "print('recall: \\n{}'.format(recall))\n",
    "print('fscore: \\n{}'.format(fscore))\n",
    "print('support: \\n{}'.format(support))\n",
    "print(\"############################\")"
   ]
  },
  {
   "cell_type": "code",
   "execution_count": null,
   "id": "473de2a0-0270-4e6d-b296-af14f07a78f6",
   "metadata": {},
   "outputs": [],
   "source": []
  },
  {
   "cell_type": "code",
   "execution_count": null,
   "id": "aafe9063-9e4f-437b-ac59-2670563bfd25",
   "metadata": {},
   "outputs": [],
   "source": [
    "print(classification_report(labels_test, predicted.round(),target_names=df1['product'].unique()))\n"
   ]
  },
  {
   "cell_type": "markdown",
   "id": "7788292e-9f0e-4907-8079-6ff3e3a98f45",
   "metadata": {},
   "source": [
    "After hours of training we get good results with LSTM(type of recurrent neural network) compared to CNN. From the learning curves it is clear the model needs to be tuned for overfitting by selecting hyperparameters such as no of epochs via early stopping and dropout for regularization.\n",
    "\n",
    "We could further improve our final result by ensembling our xgboost and Neural network models by using Logistic Regression as our base model.\n",
    "\n"
   ]
  },
  {
   "cell_type": "code",
   "execution_count": null,
   "id": "aae4bd50-5c4b-40ea-a803-144a31551c2c",
   "metadata": {},
   "outputs": [],
   "source": []
  },
  {
   "cell_type": "code",
   "execution_count": null,
   "id": "b7ce7480-e56f-469b-879f-0a2773a1c4f5",
   "metadata": {},
   "outputs": [],
   "source": []
  },
  {
   "cell_type": "code",
   "execution_count": null,
   "id": "d489894d-1850-44dd-baf5-480f26fa7a01",
   "metadata": {},
   "outputs": [],
   "source": []
  }
 ],
 "metadata": {
  "kernelspec": {
   "display_name": "Python 3",
   "language": "python",
   "name": "python3"
  },
  "language_info": {
   "codemirror_mode": {
    "name": "ipython",
    "version": 3
   },
   "file_extension": ".py",
   "mimetype": "text/x-python",
   "name": "python",
   "nbconvert_exporter": "python",
   "pygments_lexer": "ipython3",
   "version": "3.9.7"
  }
 },
 "nbformat": 4,
 "nbformat_minor": 5
}
